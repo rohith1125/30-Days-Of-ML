{
 "cells": [
  {
   "cell_type": "markdown",
   "id": "b8eba973",
   "metadata": {
    "papermill": {
     "duration": 0.021729,
     "end_time": "2021-09-05T07:52:38.909801",
     "exception": false,
     "start_time": "2021-09-05T07:52:38.888072",
     "status": "completed"
    },
    "tags": []
   },
   "source": [
    "**This notebook is an exercise in the [Python](https://www.kaggle.com/learn/python) course.  You can reference the tutorial at [this link](https://www.kaggle.com/colinmorris/hello-python).**\n",
    "\n",
    "---\n"
   ]
  },
  {
   "cell_type": "markdown",
   "id": "0f11c96d",
   "metadata": {
    "papermill": {
     "duration": 0.020739,
     "end_time": "2021-09-05T07:52:38.951356",
     "exception": false,
     "start_time": "2021-09-05T07:52:38.930617",
     "status": "completed"
    },
    "tags": []
   },
   "source": [
    "Welcome to your first set of Python coding problems.  If this is your first time using Kaggle Notebooks, welcome! \n",
    "\n",
    "Notebooks are composed of blocks (called \"cells\") of text and code. Each of these is editable, though you'll mainly be editing the code cells to answer some questions.\n",
    "\n",
    "To get started, try running the code cell below (by pressing the ► button, or clicking on the cell and pressing ctrl+enter on your keyboard)."
   ]
  },
  {
   "cell_type": "code",
   "execution_count": 1,
   "id": "d6dcfbc9",
   "metadata": {
    "execution": {
     "iopub.execute_input": "2021-09-05T07:52:38.997146Z",
     "iopub.status.busy": "2021-09-05T07:52:38.996036Z",
     "iopub.status.idle": "2021-09-05T07:52:39.008156Z",
     "shell.execute_reply": "2021-09-05T07:52:39.008706Z",
     "shell.execute_reply.started": "2021-09-05T07:46:45.453945Z"
    },
    "papermill": {
     "duration": 0.037323,
     "end_time": "2021-09-05T07:52:39.008995",
     "exception": false,
     "start_time": "2021-09-05T07:52:38.971672",
     "status": "completed"
    },
    "tags": []
   },
   "outputs": [
    {
     "name": "stdout",
     "output_type": "stream",
     "text": [
      "You've successfully run some Python code\n",
      "Congratulations!\n"
     ]
    }
   ],
   "source": [
    "print(\"You've successfully run some Python code\")\n",
    "print(\"Congratulations!\")"
   ]
  },
  {
   "cell_type": "markdown",
   "id": "8532739f",
   "metadata": {
    "papermill": {
     "duration": 0.020533,
     "end_time": "2021-09-05T07:52:39.050677",
     "exception": false,
     "start_time": "2021-09-05T07:52:39.030144",
     "status": "completed"
    },
    "tags": []
   },
   "source": [
    "Try adding another line of code in the cell above and re-running it. \n",
    "\n",
    "Now let's get a little fancier:  Add a new code cell by clicking on an existing code cell, hitting the escape key, and then hitting the `a` or `b` key.  The `a` key will add a cell above the current cell, and `b` adds a cell below.\n",
    "\n",
    "Great! Now you know how to use Notebooks.\n",
    "\n",
    "Each hands-on exercise starts by setting up our feedback and code checking mechanism. Run the code cell below to do that. Then you'll be ready to move on to question 0."
   ]
  },
  {
   "cell_type": "code",
   "execution_count": 2,
   "id": "0e64d2c7",
   "metadata": {
    "_kg_hide-input": true,
    "_kg_hide-output": true,
    "execution": {
     "iopub.execute_input": "2021-09-05T07:52:39.095880Z",
     "iopub.status.busy": "2021-09-05T07:52:39.095274Z",
     "iopub.status.idle": "2021-09-05T07:52:39.278866Z",
     "shell.execute_reply": "2021-09-05T07:52:39.279398Z",
     "shell.execute_reply.started": "2021-09-05T07:46:50.352827Z"
    },
    "papermill": {
     "duration": 0.208108,
     "end_time": "2021-09-05T07:52:39.279629",
     "exception": false,
     "start_time": "2021-09-05T07:52:39.071521",
     "status": "completed"
    },
    "tags": []
   },
   "outputs": [
    {
     "name": "stdout",
     "output_type": "stream",
     "text": [
      "Setup complete! You're ready to start question 0.\n"
     ]
    }
   ],
   "source": [
    "from learntools.core import binder; binder.bind(globals())\n",
    "from learntools.python.ex1 import *\n",
    "print(\"Setup complete! You're ready to start question 0.\")"
   ]
  },
  {
   "cell_type": "markdown",
   "id": "6373bab9",
   "metadata": {
    "papermill": {
     "duration": 0.02087,
     "end_time": "2021-09-05T07:52:39.322214",
     "exception": false,
     "start_time": "2021-09-05T07:52:39.301344",
     "status": "completed"
    },
    "tags": []
   },
   "source": [
    "# 0.\n",
    "\n",
    "*This is a silly question intended as an introduction to the format we use for hands-on exercises throughout all Kaggle courses.*\n",
    "\n",
    "**What is your favorite color? **\n",
    "\n",
    "To complete this question, create a variable called `color` in the cell below with an appropriate value. The function call `q0.check()` (which we've already provided in the cell below) will check your answer."
   ]
  },
  {
   "cell_type": "code",
   "execution_count": 3,
   "id": "87ea3a6a",
   "metadata": {
    "execution": {
     "iopub.execute_input": "2021-09-05T07:52:39.374042Z",
     "iopub.status.busy": "2021-09-05T07:52:39.373029Z",
     "iopub.status.idle": "2021-09-05T07:52:39.378646Z",
     "shell.execute_reply": "2021-09-05T07:52:39.379128Z",
     "shell.execute_reply.started": "2021-09-05T07:46:55.568557Z"
    },
    "papermill": {
     "duration": 0.035528,
     "end_time": "2021-09-05T07:52:39.379339",
     "exception": false,
     "start_time": "2021-09-05T07:52:39.343811",
     "status": "completed"
    },
    "tags": []
   },
   "outputs": [
    {
     "data": {
      "application/javascript": [
       "parent.postMessage({\"jupyterEvent\": \"custom.exercise_interaction\", \"data\": {\"outcomeType\": 4, \"interactionType\": 1, \"questionType\": 2, \"questionId\": \"0_ExerciseFormatTutorial\", \"learnToolsVersion\": \"0.3.4\", \"valueTowardsCompletion\": 0.0, \"failureMessage\": \"\", \"exceptionClass\": \"\", \"trace\": \"\"}}, \"*\")"
      ],
      "text/plain": [
       "<IPython.core.display.Javascript object>"
      ]
     },
     "metadata": {},
     "output_type": "display_data"
    },
    {
     "data": {
      "text/markdown": [
       "<span style=\"color:#ccaa33\">Check:</span> When you've updated the starter code, `check()` will tell you whether your code is correct. Remember, you must create the following variable: `color`"
      ],
      "text/plain": [
       "Check: When you've updated the starter code, `check()` will tell you whether your code is correct. Remember, you must create the following variable: `color`"
      ]
     },
     "metadata": {},
     "output_type": "display_data"
    }
   ],
   "source": [
    "# create a variable called color with an appropriate value on the line below\n",
    "# (Remember, strings in Python must be enclosed in 'single' or \"double\" quotes)\n",
    "____\n",
    "\n",
    "# Check your answer\n",
    "q0.check()"
   ]
  },
  {
   "cell_type": "markdown",
   "id": "0c45fdc3",
   "metadata": {
    "papermill": {
     "duration": 0.021593,
     "end_time": "2021-09-05T07:52:39.423316",
     "exception": false,
     "start_time": "2021-09-05T07:52:39.401723",
     "status": "completed"
    },
    "tags": []
   },
   "source": [
    "Didn't get the right answer? How do you not even know your own favorite color?!\n",
    "\n",
    "Delete the `#` in the line below to make one of the lines run. You can choose between getting a hint or the full answer by choosing which line to remove the `#` from. \n",
    "\n",
    "Removing the `#` is called uncommenting, because it changes that line from a \"comment\" which Python doesn't run to code, which Python does run."
   ]
  },
  {
   "cell_type": "code",
   "execution_count": 4,
   "id": "399bd4dd",
   "metadata": {
    "execution": {
     "iopub.execute_input": "2021-09-05T07:52:39.471063Z",
     "iopub.status.busy": "2021-09-05T07:52:39.470425Z",
     "iopub.status.idle": "2021-09-05T07:52:39.473558Z",
     "shell.execute_reply": "2021-09-05T07:52:39.474019Z",
     "shell.execute_reply.started": "2021-09-05T07:47:19.039699Z"
    },
    "papermill": {
     "duration": 0.028542,
     "end_time": "2021-09-05T07:52:39.474175",
     "exception": false,
     "start_time": "2021-09-05T07:52:39.445633",
     "status": "completed"
    },
    "tags": []
   },
   "outputs": [],
   "source": [
    "#q0.hint()\n",
    "#q0.solution()"
   ]
  },
  {
   "cell_type": "markdown",
   "id": "0f8fedf6",
   "metadata": {
    "papermill": {
     "duration": 0.021464,
     "end_time": "2021-09-05T07:52:39.518169",
     "exception": false,
     "start_time": "2021-09-05T07:52:39.496705",
     "status": "completed"
    },
    "tags": []
   },
   "source": [
    "The upcoming questions work the same way. The only thing that will change are the question numbers. For the next question, you'll call `q1.check()`, `q1.hint()`, `q1.solution()`, for question 2, you'll call `q2.check()`, and so on."
   ]
  },
  {
   "cell_type": "markdown",
   "id": "fc9e747c",
   "metadata": {
    "papermill": {
     "duration": 0.022628,
     "end_time": "2021-09-05T07:52:39.562722",
     "exception": false,
     "start_time": "2021-09-05T07:52:39.540094",
     "status": "completed"
    },
    "tags": []
   },
   "source": [
    "<hr/>\n",
    "\n",
    "# 1.\n",
    "\n",
    "Complete the code below. In case it's helpful, here is the table of available arithmetic operations:\n",
    "\n",
    "\n",
    "\n",
    "| Operator     | Name           | Description                                            |\n",
    "|--------------|----------------|--------------------------------------------------------|\n",
    "| ``a + b``    | Addition       | Sum of ``a`` and ``b``                                 |\n",
    "| ``a - b``    | Subtraction    | Difference of ``a`` and ``b``                          |\n",
    "| ``a * b``    | Multiplication | Product of ``a`` and ``b``                             |\n",
    "| ``a / b``    | True division  | Quotient of ``a`` and ``b``                            |\n",
    "| ``a // b``   | Floor division | Quotient of ``a`` and ``b``, removing fractional parts |\n",
    "| ``a % b``    | Modulus        | Integer remainder after division of ``a`` by ``b``     |\n",
    "| ``a ** b``   | Exponentiation | ``a`` raised to the power of ``b``                     |\n",
    "| ``-a``       | Negation       | The negative of ``a``                                  |\n",
    "\n",
    "<span style=\"display:none\"></span>\n"
   ]
  },
  {
   "cell_type": "code",
   "execution_count": 5,
   "id": "45fa61c9",
   "metadata": {
    "execution": {
     "iopub.execute_input": "2021-09-05T07:52:39.609968Z",
     "iopub.status.busy": "2021-09-05T07:52:39.609375Z",
     "iopub.status.idle": "2021-09-05T07:52:39.619776Z",
     "shell.execute_reply": "2021-09-05T07:52:39.619178Z",
     "shell.execute_reply.started": "2021-09-05T07:47:23.036284Z"
    },
    "papermill": {
     "duration": 0.035286,
     "end_time": "2021-09-05T07:52:39.619923",
     "exception": false,
     "start_time": "2021-09-05T07:52:39.584637",
     "status": "completed"
    },
    "tags": []
   },
   "outputs": [
    {
     "data": {
      "application/javascript": [
       "parent.postMessage({\"jupyterEvent\": \"custom.exercise_interaction\", \"data\": {\"outcomeType\": 1, \"valueTowardsCompletion\": 0.25, \"interactionType\": 1, \"questionType\": 1, \"questionId\": \"1_CircleArea\", \"learnToolsVersion\": \"0.3.4\", \"failureMessage\": \"\", \"exceptionClass\": \"\", \"trace\": \"\"}}, \"*\")"
      ],
      "text/plain": [
       "<IPython.core.display.Javascript object>"
      ]
     },
     "metadata": {},
     "output_type": "display_data"
    },
    {
     "data": {
      "text/markdown": [
       "<span style=\"color:#33cc33\">Correct</span>"
      ],
      "text/plain": [
       "Correct"
      ]
     },
     "metadata": {},
     "output_type": "display_data"
    }
   ],
   "source": [
    "pi = 3.14159 # approximate\n",
    "diameter = 3\n",
    "\n",
    "# Create a variable called 'radius' equal to half the diameter\n",
    "radius = diameter / 2\n",
    "# Create a variable called 'area', using the formula for the area of a circle: pi times the radius squared\n",
    "area = pi*(radius**2)\n",
    "# Check your answer\n",
    "q1.check()"
   ]
  },
  {
   "cell_type": "code",
   "execution_count": 6,
   "id": "1267d55b",
   "metadata": {
    "execution": {
     "iopub.execute_input": "2021-09-05T07:52:39.671845Z",
     "iopub.status.busy": "2021-09-05T07:52:39.671181Z",
     "iopub.status.idle": "2021-09-05T07:52:39.674645Z",
     "shell.execute_reply": "2021-09-05T07:52:39.673998Z"
    },
    "papermill": {
     "duration": 0.03114,
     "end_time": "2021-09-05T07:52:39.674787",
     "exception": false,
     "start_time": "2021-09-05T07:52:39.643647",
     "status": "completed"
    },
    "tags": []
   },
   "outputs": [],
   "source": [
    "# Uncomment and run the lines below if you need help.\n",
    "#q1.hint()\n",
    "#q1.solution()"
   ]
  },
  {
   "cell_type": "markdown",
   "id": "7ccb735c",
   "metadata": {
    "papermill": {
     "duration": 0.02287,
     "end_time": "2021-09-05T07:52:39.721112",
     "exception": false,
     "start_time": "2021-09-05T07:52:39.698242",
     "status": "completed"
    },
    "tags": []
   },
   "source": [
    "<hr/>\n",
    "\n",
    "# 2.\n",
    "\n",
    "Add code to the following cell to swap variables `a` and `b` (so that `a` refers to the object previously referred to by `b` and vice versa)."
   ]
  },
  {
   "cell_type": "code",
   "execution_count": 7,
   "id": "150470a0",
   "metadata": {
    "execution": {
     "iopub.execute_input": "2021-09-05T07:52:39.775193Z",
     "iopub.status.busy": "2021-09-05T07:52:39.774481Z",
     "iopub.status.idle": "2021-09-05T07:52:39.781422Z",
     "shell.execute_reply": "2021-09-05T07:52:39.780758Z",
     "shell.execute_reply.started": "2021-09-05T07:47:54.942425Z"
    },
    "papermill": {
     "duration": 0.036934,
     "end_time": "2021-09-05T07:52:39.781566",
     "exception": false,
     "start_time": "2021-09-05T07:52:39.744632",
     "status": "completed"
    },
    "tags": []
   },
   "outputs": [
    {
     "data": {
      "application/javascript": [
       "parent.postMessage({\"jupyterEvent\": \"custom.exercise_interaction\", \"data\": {\"outcomeType\": 1, \"valueTowardsCompletion\": 0.25, \"interactionType\": 1, \"questionType\": 2, \"questionId\": \"2_VariableSwap\", \"learnToolsVersion\": \"0.3.4\", \"failureMessage\": \"\", \"exceptionClass\": \"\", \"trace\": \"\"}}, \"*\")"
      ],
      "text/plain": [
       "<IPython.core.display.Javascript object>"
      ]
     },
     "metadata": {},
     "output_type": "display_data"
    },
    {
     "data": {
      "text/markdown": [
       "<span style=\"color:#33cc33\">Correct:</span> \n",
       "\n",
       "The most straightforward solution is to use a third variable to temporarily store one of the old values. e.g.:\n",
       "\n",
       "    tmp = a\n",
       "    a = b\n",
       "    b = tmp\n",
       "\n",
       "If you've read lots of Python code, you might have seen the following trick to swap two variables in one line:\n",
       "\n",
       "    a, b = b, a\n",
       "\n",
       "We'll demystify this bit of Python magic later when we talk about *tuples*."
      ],
      "text/plain": [
       "Correct: \n",
       "\n",
       "The most straightforward solution is to use a third variable to temporarily store one of the old values. e.g.:\n",
       "\n",
       "    tmp = a\n",
       "    a = b\n",
       "    b = tmp\n",
       "\n",
       "If you've read lots of Python code, you might have seen the following trick to swap two variables in one line:\n",
       "\n",
       "    a, b = b, a\n",
       "\n",
       "We'll demystify this bit of Python magic later when we talk about *tuples*."
      ]
     },
     "metadata": {},
     "output_type": "display_data"
    }
   ],
   "source": [
    "########### Setup code - don't touch this part ######################\n",
    "# If you're curious, these are examples of lists. We'll talk about \n",
    "# them in depth a few lessons from now. For now, just know that they're\n",
    "# yet another type of Python object, like int or float.\n",
    "a = [1, 2, 3]\n",
    "b = [3, 2, 1]\n",
    "q2.store_original_ids()\n",
    "######################################################################\n",
    "\n",
    "# Your code goes here. Swap the values to which a and b refer.\n",
    "# If you get stuck, you can always uncomment one or both of the lines in\n",
    "# the next cell for a hint, or to peek at the solution.\n",
    "\n",
    "######################################################################\n",
    "a,b=b,a\n",
    "# Check your answer\n",
    "q2.check()"
   ]
  },
  {
   "cell_type": "code",
   "execution_count": 8,
   "id": "4d9fdf5b",
   "metadata": {
    "execution": {
     "iopub.execute_input": "2021-09-05T07:52:39.836960Z",
     "iopub.status.busy": "2021-09-05T07:52:39.836319Z",
     "iopub.status.idle": "2021-09-05T07:52:39.839412Z",
     "shell.execute_reply": "2021-09-05T07:52:39.839862Z",
     "shell.execute_reply.started": "2021-09-05T07:48:11.203175Z"
    },
    "papermill": {
     "duration": 0.033885,
     "end_time": "2021-09-05T07:52:39.840039",
     "exception": false,
     "start_time": "2021-09-05T07:52:39.806154",
     "status": "completed"
    },
    "tags": []
   },
   "outputs": [],
   "source": [
    "#q2.hint()"
   ]
  },
  {
   "cell_type": "code",
   "execution_count": 9,
   "id": "aefec7cb",
   "metadata": {
    "execution": {
     "iopub.execute_input": "2021-09-05T07:52:39.894054Z",
     "iopub.status.busy": "2021-09-05T07:52:39.893440Z",
     "iopub.status.idle": "2021-09-05T07:52:39.897187Z",
     "shell.execute_reply": "2021-09-05T07:52:39.896417Z",
     "shell.execute_reply.started": "2021-09-05T07:48:14.385464Z"
    },
    "papermill": {
     "duration": 0.032946,
     "end_time": "2021-09-05T07:52:39.897362",
     "exception": false,
     "start_time": "2021-09-05T07:52:39.864416",
     "status": "completed"
    },
    "tags": []
   },
   "outputs": [],
   "source": [
    "#q2.solution()"
   ]
  },
  {
   "cell_type": "markdown",
   "id": "e61d07a2",
   "metadata": {
    "papermill": {
     "duration": 0.023872,
     "end_time": "2021-09-05T07:52:39.945177",
     "exception": false,
     "start_time": "2021-09-05T07:52:39.921305",
     "status": "completed"
    },
    "tags": []
   },
   "source": [
    "<hr/>\n",
    "\n",
    "# 3a.\n",
    "\n",
    "Add parentheses to the following expression so that it evaluates to 1."
   ]
  },
  {
   "cell_type": "code",
   "execution_count": 10,
   "id": "293cfbc8",
   "metadata": {
    "execution": {
     "iopub.execute_input": "2021-09-05T07:52:40.000074Z",
     "iopub.status.busy": "2021-09-05T07:52:39.999268Z",
     "iopub.status.idle": "2021-09-05T07:52:40.003971Z",
     "shell.execute_reply": "2021-09-05T07:52:40.003365Z",
     "shell.execute_reply.started": "2021-09-05T07:49:14.155440Z"
    },
    "papermill": {
     "duration": 0.034359,
     "end_time": "2021-09-05T07:52:40.004107",
     "exception": false,
     "start_time": "2021-09-05T07:52:39.969748",
     "status": "completed"
    },
    "tags": []
   },
   "outputs": [
    {
     "data": {
      "text/plain": [
       "1"
      ]
     },
     "execution_count": 10,
     "metadata": {},
     "output_type": "execute_result"
    }
   ],
   "source": [
    "(5 - 3)// 2"
   ]
  },
  {
   "cell_type": "code",
   "execution_count": 11,
   "id": "52588fc4",
   "metadata": {
    "execution": {
     "iopub.execute_input": "2021-09-05T07:52:40.057551Z",
     "iopub.status.busy": "2021-09-05T07:52:40.056911Z",
     "iopub.status.idle": "2021-09-05T07:52:40.060028Z",
     "shell.execute_reply": "2021-09-05T07:52:40.059495Z",
     "shell.execute_reply.started": "2021-09-05T07:49:18.507436Z"
    },
    "papermill": {
     "duration": 0.031546,
     "end_time": "2021-09-05T07:52:40.060161",
     "exception": false,
     "start_time": "2021-09-05T07:52:40.028615",
     "status": "completed"
    },
    "tags": []
   },
   "outputs": [],
   "source": [
    "#q3.a.hint()"
   ]
  },
  {
   "cell_type": "code",
   "execution_count": 12,
   "id": "7b199b46",
   "metadata": {
    "execution": {
     "iopub.execute_input": "2021-09-05T07:52:40.114420Z",
     "iopub.status.busy": "2021-09-05T07:52:40.113736Z",
     "iopub.status.idle": "2021-09-05T07:52:40.119236Z",
     "shell.execute_reply": "2021-09-05T07:52:40.118624Z",
     "shell.execute_reply.started": "2021-09-05T07:49:22.409676Z"
    },
    "papermill": {
     "duration": 0.034737,
     "end_time": "2021-09-05T07:52:40.119396",
     "exception": false,
     "start_time": "2021-09-05T07:52:40.084659",
     "status": "completed"
    },
    "tags": []
   },
   "outputs": [
    {
     "data": {
      "application/javascript": [
       "parent.postMessage({\"jupyterEvent\": \"custom.exercise_interaction\", \"data\": {\"interactionType\": 3, \"questionType\": 4, \"questionId\": \"3.1_ArithmeticParensEasy\", \"learnToolsVersion\": \"0.3.4\", \"valueTowardsCompletion\": 0.0, \"failureMessage\": \"\", \"exceptionClass\": \"\", \"trace\": \"\", \"outcomeType\": 4}}, \"*\")"
      ],
      "text/plain": [
       "<IPython.core.display.Javascript object>"
      ]
     },
     "metadata": {},
     "output_type": "display_data"
    },
    {
     "data": {
      "text/markdown": [
       "<span style=\"color:#33cc99\">Solution:</span> \n",
       "```python\n",
       "(5 - 3) // 2\n",
       "```"
      ],
      "text/plain": [
       "Solution: \n",
       "```python\n",
       "(5 - 3) // 2\n",
       "```"
      ]
     },
     "metadata": {},
     "output_type": "display_data"
    }
   ],
   "source": [
    "# Check your answer (Run this code cell to receive credit!)\n",
    "q3.a.solution()"
   ]
  },
  {
   "cell_type": "markdown",
   "id": "45923ae9",
   "metadata": {
    "papermill": {
     "duration": 0.025491,
     "end_time": "2021-09-05T07:52:40.171325",
     "exception": false,
     "start_time": "2021-09-05T07:52:40.145834",
     "status": "completed"
    },
    "tags": []
   },
   "source": [
    "# 3b.  <span title=\"A bit spicy\" style=\"color: darkgreen \">🌶️</span>\n",
    "\n",
    "<small>Questions, like this one, marked a spicy pepper are a bit harder.</small>\n",
    "\n",
    "Add parentheses to the following expression so that it evaluates to 0."
   ]
  },
  {
   "cell_type": "code",
   "execution_count": 13,
   "id": "d6b092aa",
   "metadata": {
    "execution": {
     "iopub.execute_input": "2021-09-05T07:52:40.228233Z",
     "iopub.status.busy": "2021-09-05T07:52:40.227369Z",
     "iopub.status.idle": "2021-09-05T07:52:40.232290Z",
     "shell.execute_reply": "2021-09-05T07:52:40.231668Z",
     "shell.execute_reply.started": "2021-09-05T07:50:09.939440Z"
    },
    "papermill": {
     "duration": 0.035591,
     "end_time": "2021-09-05T07:52:40.232424",
     "exception": false,
     "start_time": "2021-09-05T07:52:40.196833",
     "status": "completed"
    },
    "tags": []
   },
   "outputs": [
    {
     "data": {
      "text/plain": [
       "0"
      ]
     },
     "execution_count": 13,
     "metadata": {},
     "output_type": "execute_result"
    }
   ],
   "source": [
    "(8 - 3) * (2 - (1 + 1))"
   ]
  },
  {
   "cell_type": "code",
   "execution_count": 14,
   "id": "bce37d5c",
   "metadata": {
    "execution": {
     "iopub.execute_input": "2021-09-05T07:52:40.288289Z",
     "iopub.status.busy": "2021-09-05T07:52:40.287658Z",
     "iopub.status.idle": "2021-09-05T07:52:40.290504Z",
     "shell.execute_reply": "2021-09-05T07:52:40.289960Z",
     "shell.execute_reply.started": "2021-09-05T07:50:17.619168Z"
    },
    "papermill": {
     "duration": 0.032429,
     "end_time": "2021-09-05T07:52:40.290638",
     "exception": false,
     "start_time": "2021-09-05T07:52:40.258209",
     "status": "completed"
    },
    "tags": []
   },
   "outputs": [],
   "source": [
    "#q3.b.hint()"
   ]
  },
  {
   "cell_type": "code",
   "execution_count": 15,
   "id": "264f63ea",
   "metadata": {
    "execution": {
     "iopub.execute_input": "2021-09-05T07:52:40.347846Z",
     "iopub.status.busy": "2021-09-05T07:52:40.347200Z",
     "iopub.status.idle": "2021-09-05T07:52:40.353126Z",
     "shell.execute_reply": "2021-09-05T07:52:40.352544Z",
     "shell.execute_reply.started": "2021-09-05T07:50:20.509660Z"
    },
    "papermill": {
     "duration": 0.036889,
     "end_time": "2021-09-05T07:52:40.353324",
     "exception": false,
     "start_time": "2021-09-05T07:52:40.316435",
     "status": "completed"
    },
    "tags": []
   },
   "outputs": [
    {
     "data": {
      "application/javascript": [
       "parent.postMessage({\"jupyterEvent\": \"custom.exercise_interaction\", \"data\": {\"interactionType\": 3, \"questionType\": 4, \"questionId\": \"3.2_ArithmeticParensHard\", \"learnToolsVersion\": \"0.3.4\", \"valueTowardsCompletion\": 0.0, \"failureMessage\": \"\", \"exceptionClass\": \"\", \"trace\": \"\", \"outcomeType\": 4}}, \"*\")"
      ],
      "text/plain": [
       "<IPython.core.display.Javascript object>"
      ]
     },
     "metadata": {},
     "output_type": "display_data"
    },
    {
     "data": {
      "text/markdown": [
       "<span style=\"color:#33cc99\">Solution:</span> `(8 - 3) * (2 - (1 + 1))` is one solution. There may be others."
      ],
      "text/plain": [
       "Solution: `(8 - 3) * (2 - (1 + 1))` is one solution. There may be others."
      ]
     },
     "metadata": {},
     "output_type": "display_data"
    }
   ],
   "source": [
    "# Check your answer (Run this code cell to receive credit!)\n",
    "q3.b.solution()"
   ]
  },
  {
   "cell_type": "markdown",
   "id": "2a5d315e",
   "metadata": {
    "papermill": {
     "duration": 0.027386,
     "end_time": "2021-09-05T07:52:40.408482",
     "exception": false,
     "start_time": "2021-09-05T07:52:40.381096",
     "status": "completed"
    },
    "tags": []
   },
   "source": [
    "<hr/>\n",
    "\n",
    "# 4. \n",
    "Alice, Bob and Carol have agreed to pool their Halloween candy and split it evenly among themselves.\n",
    "For the sake of their friendship, any candies left over will be smashed. For example, if they collectively\n",
    "bring home 91 candies, they'll take 30 each and smash 1.\n",
    "\n",
    "Write an arithmetic expression below to calculate how many candies they must smash for a given haul."
   ]
  },
  {
   "cell_type": "code",
   "execution_count": 16,
   "id": "af20fd2f",
   "metadata": {
    "execution": {
     "iopub.execute_input": "2021-09-05T07:52:40.470675Z",
     "iopub.status.busy": "2021-09-05T07:52:40.469587Z",
     "iopub.status.idle": "2021-09-05T07:52:40.478750Z",
     "shell.execute_reply": "2021-09-05T07:52:40.477957Z",
     "shell.execute_reply.started": "2021-09-05T07:51:58.106752Z"
    },
    "papermill": {
     "duration": 0.043044,
     "end_time": "2021-09-05T07:52:40.478907",
     "exception": false,
     "start_time": "2021-09-05T07:52:40.435863",
     "status": "completed"
    },
    "tags": []
   },
   "outputs": [
    {
     "name": "stdout",
     "output_type": "stream",
     "text": [
      "1\n"
     ]
    },
    {
     "data": {
      "application/javascript": [
       "parent.postMessage({\"jupyterEvent\": \"custom.exercise_interaction\", \"data\": {\"outcomeType\": 1, \"valueTowardsCompletion\": 0.25, \"interactionType\": 1, \"questionType\": 1, \"questionId\": \"4_CandySplitting\", \"learnToolsVersion\": \"0.3.4\", \"failureMessage\": \"\", \"exceptionClass\": \"\", \"trace\": \"\"}}, \"*\")"
      ],
      "text/plain": [
       "<IPython.core.display.Javascript object>"
      ]
     },
     "metadata": {},
     "output_type": "display_data"
    },
    {
     "data": {
      "text/markdown": [
       "<span style=\"color:#33cc33\">Correct</span>"
      ],
      "text/plain": [
       "Correct"
      ]
     },
     "metadata": {},
     "output_type": "display_data"
    }
   ],
   "source": [
    "# Variables representing the number of candies collected by alice, bob, and carol\n",
    "alice_candies = 121\n",
    "bob_candies = 77\n",
    "carol_candies = 109\n",
    "\n",
    "# Your code goes here! Replace the right-hand side of this assignment with an expression\n",
    "# involving alice_candies, bob_candies, and carol_candies\n",
    "print((alice_candies + bob_candies + carol_candies) % 3) \n",
    "to_smash = 1\n",
    "# Check your answer\n",
    "q4.check()"
   ]
  },
  {
   "cell_type": "code",
   "execution_count": 17,
   "id": "4085c4f9",
   "metadata": {
    "execution": {
     "iopub.execute_input": "2021-09-05T07:52:40.541619Z",
     "iopub.status.busy": "2021-09-05T07:52:40.540973Z",
     "iopub.status.idle": "2021-09-05T07:52:40.544578Z",
     "shell.execute_reply": "2021-09-05T07:52:40.544036Z",
     "shell.execute_reply.started": "2021-09-05T07:52:08.987609Z"
    },
    "papermill": {
     "duration": 0.037132,
     "end_time": "2021-09-05T07:52:40.544720",
     "exception": false,
     "start_time": "2021-09-05T07:52:40.507588",
     "status": "completed"
    },
    "tags": []
   },
   "outputs": [],
   "source": [
    "#q4.hint()\n",
    "#q4.solution()"
   ]
  },
  {
   "cell_type": "markdown",
   "id": "31fb7eea",
   "metadata": {
    "papermill": {
     "duration": 0.02785,
     "end_time": "2021-09-05T07:52:40.600790",
     "exception": false,
     "start_time": "2021-09-05T07:52:40.572940",
     "status": "completed"
    },
    "tags": []
   },
   "source": [
    "# Keep Going\n",
    "\n",
    "Next up, you'll **[learn to write new functions and understand functions others write](https://www.kaggle.com/colinmorris/functions-and-getting-help)**. This will make you at least 10 times more productive as a Python programmer. "
   ]
  },
  {
   "cell_type": "markdown",
   "id": "58933a27",
   "metadata": {
    "papermill": {
     "duration": 0.028741,
     "end_time": "2021-09-05T07:52:40.657697",
     "exception": false,
     "start_time": "2021-09-05T07:52:40.628956",
     "status": "completed"
    },
    "tags": []
   },
   "source": [
    "---\n",
    "\n",
    "\n",
    "\n",
    "\n",
    "*Have questions or comments? Visit the [Learn Discussion forum](https://www.kaggle.com/learn-forum/161283) to chat with other Learners.*"
   ]
  }
 ],
 "metadata": {
  "kernelspec": {
   "display_name": "Python 3",
   "language": "python",
   "name": "python3"
  },
  "language_info": {
   "codemirror_mode": {
    "name": "ipython",
    "version": 3
   },
   "file_extension": ".py",
   "mimetype": "text/x-python",
   "name": "python",
   "nbconvert_exporter": "python",
   "pygments_lexer": "ipython3",
   "version": "3.7.10"
  },
  "papermill": {
   "default_parameters": {},
   "duration": 11.921469,
   "end_time": "2021-09-05T07:52:41.952347",
   "environment_variables": {},
   "exception": null,
   "input_path": "__notebook__.ipynb",
   "output_path": "__notebook__.ipynb",
   "parameters": {},
   "start_time": "2021-09-05T07:52:30.030878",
   "version": "2.3.3"
  }
 },
 "nbformat": 4,
 "nbformat_minor": 5
}
