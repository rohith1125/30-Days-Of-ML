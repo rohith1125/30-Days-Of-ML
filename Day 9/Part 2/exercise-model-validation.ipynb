{
 "cells": [
  {
   "cell_type": "markdown",
   "id": "ebb054c3",
   "metadata": {
    "papermill": {
     "duration": 0.015322,
     "end_time": "2021-09-10T07:14:04.852640",
     "exception": false,
     "start_time": "2021-09-10T07:14:04.837318",
     "status": "completed"
    },
    "tags": []
   },
   "source": [
    "**This notebook is an exercise in the [Introduction to Machine Learning](https://www.kaggle.com/learn/intro-to-machine-learning) course.  You can reference the tutorial at [this link](https://www.kaggle.com/dansbecker/model-validation).**\n",
    "\n",
    "---\n"
   ]
  },
  {
   "cell_type": "markdown",
   "id": "b0e28209",
   "metadata": {
    "papermill": {
     "duration": 0.013683,
     "end_time": "2021-09-10T07:14:04.882539",
     "exception": false,
     "start_time": "2021-09-10T07:14:04.868856",
     "status": "completed"
    },
    "tags": []
   },
   "source": [
    "## Recap\n",
    "You've built a model. In this exercise you will test how good your model is.\n",
    "\n",
    "Run the cell below to set up your coding environment where the previous exercise left off."
   ]
  },
  {
   "cell_type": "code",
   "execution_count": 1,
   "id": "c20178bf",
   "metadata": {
    "execution": {
     "iopub.execute_input": "2021-09-10T07:14:04.924277Z",
     "iopub.status.busy": "2021-09-10T07:14:04.923495Z",
     "iopub.status.idle": "2021-09-10T07:14:06.120788Z",
     "shell.execute_reply": "2021-09-10T07:14:06.120082Z",
     "shell.execute_reply.started": "2021-09-10T07:05:57.147520Z"
    },
    "papermill": {
     "duration": 1.224482,
     "end_time": "2021-09-10T07:14:06.120971",
     "exception": false,
     "start_time": "2021-09-10T07:14:04.896489",
     "status": "completed"
    },
    "tags": []
   },
   "outputs": [
    {
     "name": "stdout",
     "output_type": "stream",
     "text": [
      "First in-sample predictions: [208500. 181500. 223500. 140000. 250000.]\n",
      "Actual target values for those homes: [208500, 181500, 223500, 140000, 250000]\n",
      "Setup Complete\n"
     ]
    }
   ],
   "source": [
    "# Code you have previously used to load data\n",
    "import pandas as pd\n",
    "from sklearn.tree import DecisionTreeRegressor\n",
    "\n",
    "# Path of the file to read\n",
    "iowa_file_path = '../input/home-data-for-ml-course/train.csv'\n",
    "\n",
    "home_data = pd.read_csv(iowa_file_path)\n",
    "y = home_data.SalePrice\n",
    "feature_columns = ['LotArea', 'YearBuilt', '1stFlrSF', '2ndFlrSF', 'FullBath', 'BedroomAbvGr', 'TotRmsAbvGrd']\n",
    "X = home_data[feature_columns]\n",
    "\n",
    "# Specify Model\n",
    "iowa_model = DecisionTreeRegressor()\n",
    "# Fit Model\n",
    "iowa_model.fit(X, y)\n",
    "\n",
    "print(\"First in-sample predictions:\", iowa_model.predict(X.head()))\n",
    "print(\"Actual target values for those homes:\", y.head().tolist())\n",
    "\n",
    "# Set up code checking\n",
    "from learntools.core import binder\n",
    "binder.bind(globals())\n",
    "from learntools.machine_learning.ex4 import *\n",
    "print(\"Setup Complete\")"
   ]
  },
  {
   "cell_type": "markdown",
   "id": "9abe4431",
   "metadata": {
    "papermill": {
     "duration": 0.015323,
     "end_time": "2021-09-10T07:14:06.151496",
     "exception": false,
     "start_time": "2021-09-10T07:14:06.136173",
     "status": "completed"
    },
    "tags": []
   },
   "source": [
    "# Exercises\n",
    "\n",
    "## Step 1: Split Your Data\n",
    "Use the `train_test_split` function to split up your data.\n",
    "\n",
    "Give it the argument `random_state=1` so the `check` functions know what to expect when verifying your code.\n",
    "\n",
    "Recall, your features are loaded in the DataFrame **X** and your target is loaded in **y**.\n"
   ]
  },
  {
   "cell_type": "code",
   "execution_count": 2,
   "id": "3228a6e2",
   "metadata": {
    "execution": {
     "iopub.execute_input": "2021-09-10T07:14:06.207926Z",
     "iopub.status.busy": "2021-09-10T07:14:06.206771Z",
     "iopub.status.idle": "2021-09-10T07:14:06.219121Z",
     "shell.execute_reply": "2021-09-10T07:14:06.218310Z",
     "shell.execute_reply.started": "2021-09-10T07:07:47.196074Z"
    },
    "papermill": {
     "duration": 0.049991,
     "end_time": "2021-09-10T07:14:06.219386",
     "exception": false,
     "start_time": "2021-09-10T07:14:06.169395",
     "status": "completed"
    },
    "tags": []
   },
   "outputs": [
    {
     "data": {
      "application/javascript": [
       "parent.postMessage({\"jupyterEvent\": \"custom.exercise_interaction\", \"data\": {\"outcomeType\": 1, \"valueTowardsCompletion\": 0.25, \"interactionType\": 1, \"questionType\": 2, \"questionId\": \"1_SplitData\", \"learnToolsVersion\": \"0.3.4\", \"failureMessage\": \"\", \"exceptionClass\": \"\", \"trace\": \"\"}}, \"*\")"
      ],
      "text/plain": [
       "<IPython.core.display.Javascript object>"
      ]
     },
     "metadata": {},
     "output_type": "display_data"
    },
    {
     "data": {
      "text/markdown": [
       "<span style=\"color:#33cc33\">Correct</span>"
      ],
      "text/plain": [
       "Correct"
      ]
     },
     "metadata": {},
     "output_type": "display_data"
    }
   ],
   "source": [
    "# Import the train_test_split function and uncomment\n",
    "# from _ import _\n",
    "from sklearn.model_selection import train_test_split\n",
    "# fill in and uncomment\n",
    "train_X, val_X, train_y, val_y = train_test_split(X, y, shuffle=True, random_state = 1)\n",
    "\n",
    "# Check your answer\n",
    "step_1.check()"
   ]
  },
  {
   "cell_type": "code",
   "execution_count": 3,
   "id": "bb848439",
   "metadata": {
    "execution": {
     "iopub.execute_input": "2021-09-10T07:14:06.262236Z",
     "iopub.status.busy": "2021-09-10T07:14:06.261405Z",
     "iopub.status.idle": "2021-09-10T07:14:06.264905Z",
     "shell.execute_reply": "2021-09-10T07:14:06.264159Z"
    },
    "papermill": {
     "duration": 0.024297,
     "end_time": "2021-09-10T07:14:06.265065",
     "exception": false,
     "start_time": "2021-09-10T07:14:06.240768",
     "status": "completed"
    },
    "tags": []
   },
   "outputs": [],
   "source": [
    "# The lines below will show you a hint or the solution.\n",
    "# step_1.hint() \n",
    "# step_1.solution()\n"
   ]
  },
  {
   "cell_type": "markdown",
   "id": "b481948d",
   "metadata": {
    "papermill": {
     "duration": 0.015864,
     "end_time": "2021-09-10T07:14:06.297228",
     "exception": false,
     "start_time": "2021-09-10T07:14:06.281364",
     "status": "completed"
    },
    "tags": []
   },
   "source": [
    "## Step 2: Specify and Fit the Model\n",
    "\n",
    "Create a `DecisionTreeRegressor` model and fit it to the relevant data.\n",
    "Set `random_state` to 1 again when creating the model."
   ]
  },
  {
   "cell_type": "code",
   "execution_count": 4,
   "id": "27a6c8fb",
   "metadata": {
    "execution": {
     "iopub.execute_input": "2021-09-10T07:14:06.338366Z",
     "iopub.status.busy": "2021-09-10T07:14:06.337630Z",
     "iopub.status.idle": "2021-09-10T07:14:06.363128Z",
     "shell.execute_reply": "2021-09-10T07:14:06.362423Z",
     "shell.execute_reply.started": "2021-09-10T07:09:39.662247Z"
    },
    "papermill": {
     "duration": 0.049985,
     "end_time": "2021-09-10T07:14:06.363304",
     "exception": false,
     "start_time": "2021-09-10T07:14:06.313319",
     "status": "completed"
    },
    "tags": []
   },
   "outputs": [
    {
     "name": "stdout",
     "output_type": "stream",
     "text": [
      "[186500. 184000. 130000.  92000. 164500. 220000. 335000. 144152. 215000.\n",
      " 262000.]\n",
      "[186500. 184000. 130000.  92000. 164500. 220000. 335000. 144152. 215000.\n",
      " 262000.]\n"
     ]
    },
    {
     "data": {
      "application/javascript": [
       "parent.postMessage({\"jupyterEvent\": \"custom.exercise_interaction\", \"data\": {\"outcomeType\": 1, \"valueTowardsCompletion\": 0.25, \"interactionType\": 1, \"questionType\": 2, \"questionId\": \"2_FitModelWithTrain\", \"learnToolsVersion\": \"0.3.4\", \"failureMessage\": \"\", \"exceptionClass\": \"\", \"trace\": \"\"}}, \"*\")"
      ],
      "text/plain": [
       "<IPython.core.display.Javascript object>"
      ]
     },
     "metadata": {},
     "output_type": "display_data"
    },
    {
     "data": {
      "text/markdown": [
       "<span style=\"color:#33cc33\">Correct</span>"
      ],
      "text/plain": [
       "Correct"
      ]
     },
     "metadata": {},
     "output_type": "display_data"
    }
   ],
   "source": [
    "# You imported DecisionTreeRegressor in your last exercise\n",
    "# and that code has been copied to the setup code above. So, no need to\n",
    "# import it again\n",
    "\n",
    "# Specify the model\n",
    "iowa_model = DecisionTreeRegressor(random_state=1)\n",
    "\n",
    "# Fit iowa_model with the training data.\n",
    "iowa_model.fit(train_X, train_y)\n",
    "\n",
    "# Check your answer\n",
    "step_2.check()"
   ]
  },
  {
   "cell_type": "code",
   "execution_count": 5,
   "id": "7e528f6b",
   "metadata": {
    "execution": {
     "iopub.execute_input": "2021-09-10T07:14:06.402883Z",
     "iopub.status.busy": "2021-09-10T07:14:06.402151Z",
     "iopub.status.idle": "2021-09-10T07:14:06.404860Z",
     "shell.execute_reply": "2021-09-10T07:14:06.404181Z"
    },
    "papermill": {
     "duration": 0.023998,
     "end_time": "2021-09-10T07:14:06.405014",
     "exception": false,
     "start_time": "2021-09-10T07:14:06.381016",
     "status": "completed"
    },
    "tags": []
   },
   "outputs": [],
   "source": [
    "# step_2.hint()\n",
    "# step_2.solution()"
   ]
  },
  {
   "cell_type": "markdown",
   "id": "5cbc6a96",
   "metadata": {
    "papermill": {
     "duration": 0.01819,
     "end_time": "2021-09-10T07:14:06.440638",
     "exception": false,
     "start_time": "2021-09-10T07:14:06.422448",
     "status": "completed"
    },
    "tags": []
   },
   "source": [
    "## Step 3: Make Predictions with Validation data\n"
   ]
  },
  {
   "cell_type": "code",
   "execution_count": 6,
   "id": "a8743608",
   "metadata": {
    "execution": {
     "iopub.execute_input": "2021-09-10T07:14:06.483530Z",
     "iopub.status.busy": "2021-09-10T07:14:06.478130Z",
     "iopub.status.idle": "2021-09-10T07:14:06.491003Z",
     "shell.execute_reply": "2021-09-10T07:14:06.490298Z",
     "shell.execute_reply.started": "2021-09-10T07:10:32.725027Z"
    },
    "papermill": {
     "duration": 0.033139,
     "end_time": "2021-09-10T07:14:06.491163",
     "exception": false,
     "start_time": "2021-09-10T07:14:06.458024",
     "status": "completed"
    },
    "tags": []
   },
   "outputs": [
    {
     "data": {
      "application/javascript": [
       "parent.postMessage({\"jupyterEvent\": \"custom.exercise_interaction\", \"data\": {\"outcomeType\": 1, \"valueTowardsCompletion\": 0.25, \"interactionType\": 1, \"questionType\": 2, \"questionId\": \"3_ValPreds\", \"learnToolsVersion\": \"0.3.4\", \"failureMessage\": \"\", \"exceptionClass\": \"\", \"trace\": \"\"}}, \"*\")"
      ],
      "text/plain": [
       "<IPython.core.display.Javascript object>"
      ]
     },
     "metadata": {},
     "output_type": "display_data"
    },
    {
     "data": {
      "text/markdown": [
       "<span style=\"color:#33cc33\">Correct</span>"
      ],
      "text/plain": [
       "Correct"
      ]
     },
     "metadata": {},
     "output_type": "display_data"
    }
   ],
   "source": [
    "# Predict with all validation observations\n",
    "val_predictions = iowa_model.predict(val_X)\n",
    "\n",
    "# Check your answer\n",
    "step_3.check()"
   ]
  },
  {
   "cell_type": "code",
   "execution_count": 7,
   "id": "c95d1efd",
   "metadata": {
    "execution": {
     "iopub.execute_input": "2021-09-10T07:14:06.534295Z",
     "iopub.status.busy": "2021-09-10T07:14:06.533378Z",
     "iopub.status.idle": "2021-09-10T07:14:06.536452Z",
     "shell.execute_reply": "2021-09-10T07:14:06.535862Z"
    },
    "papermill": {
     "duration": 0.026406,
     "end_time": "2021-09-10T07:14:06.536636",
     "exception": false,
     "start_time": "2021-09-10T07:14:06.510230",
     "status": "completed"
    },
    "tags": []
   },
   "outputs": [],
   "source": [
    "# step_3.hint()\n",
    "# step_3.solution()"
   ]
  },
  {
   "cell_type": "markdown",
   "id": "9d9f40ba",
   "metadata": {
    "papermill": {
     "duration": 0.018678,
     "end_time": "2021-09-10T07:14:06.575061",
     "exception": false,
     "start_time": "2021-09-10T07:14:06.556383",
     "status": "completed"
    },
    "tags": []
   },
   "source": [
    "Inspect your predictions and actual values from validation data."
   ]
  },
  {
   "cell_type": "code",
   "execution_count": 8,
   "id": "606dc278",
   "metadata": {
    "execution": {
     "iopub.execute_input": "2021-09-10T07:14:06.626869Z",
     "iopub.status.busy": "2021-09-10T07:14:06.625751Z",
     "iopub.status.idle": "2021-09-10T07:14:06.629964Z",
     "shell.execute_reply": "2021-09-10T07:14:06.629316Z",
     "shell.execute_reply.started": "2021-09-10T07:13:02.246113Z"
    },
    "papermill": {
     "duration": 0.036066,
     "end_time": "2021-09-10T07:14:06.630134",
     "exception": false,
     "start_time": "2021-09-10T07:14:06.594068",
     "status": "completed"
    },
    "tags": []
   },
   "outputs": [
    {
     "name": "stdout",
     "output_type": "stream",
     "text": [
      "[186500. 184000. 130000.  92000. 164500.]\n",
      "258     231500\n",
      "267     179500\n",
      "288     122000\n",
      "649      84500\n",
      "1233    142000\n",
      "Name: SalePrice, dtype: int64\n"
     ]
    }
   ],
   "source": [
    "# print the top few validation predictions\n",
    "print(val_predictions[:5])\n",
    "# print the top few actual prices from validation data\n",
    "print(val_y[:5])"
   ]
  },
  {
   "cell_type": "markdown",
   "id": "61a437ac",
   "metadata": {
    "papermill": {
     "duration": 0.020179,
     "end_time": "2021-09-10T07:14:06.673308",
     "exception": false,
     "start_time": "2021-09-10T07:14:06.653129",
     "status": "completed"
    },
    "tags": []
   },
   "source": [
    "What do you notice that is different from what you saw with in-sample predictions (which are printed after the top code cell in this page).\n",
    "\n",
    "Do you remember why validation predictions differ from in-sample (or training) predictions? This is an important idea from the last lesson.\n",
    "\n",
    "## Step 4: Calculate the Mean Absolute Error in Validation Data\n"
   ]
  },
  {
   "cell_type": "code",
   "execution_count": 9,
   "id": "ded94564",
   "metadata": {
    "execution": {
     "iopub.execute_input": "2021-09-10T07:14:06.722726Z",
     "iopub.status.busy": "2021-09-10T07:14:06.721943Z",
     "iopub.status.idle": "2021-09-10T07:14:06.728448Z",
     "shell.execute_reply": "2021-09-10T07:14:06.729091Z",
     "shell.execute_reply.started": "2021-09-10T07:13:35.226586Z"
    },
    "papermill": {
     "duration": 0.036456,
     "end_time": "2021-09-10T07:14:06.729278",
     "exception": false,
     "start_time": "2021-09-10T07:14:06.692822",
     "status": "completed"
    },
    "tags": []
   },
   "outputs": [
    {
     "name": "stdout",
     "output_type": "stream",
     "text": [
      "29652.931506849316\n"
     ]
    },
    {
     "data": {
      "application/javascript": [
       "parent.postMessage({\"jupyterEvent\": \"custom.exercise_interaction\", \"data\": {\"outcomeType\": 1, \"valueTowardsCompletion\": 0.25, \"interactionType\": 1, \"questionType\": 1, \"questionId\": \"4_MAE\", \"learnToolsVersion\": \"0.3.4\", \"failureMessage\": \"\", \"exceptionClass\": \"\", \"trace\": \"\"}}, \"*\")"
      ],
      "text/plain": [
       "<IPython.core.display.Javascript object>"
      ]
     },
     "metadata": {},
     "output_type": "display_data"
    },
    {
     "data": {
      "text/markdown": [
       "<span style=\"color:#33cc33\">Correct</span>"
      ],
      "text/plain": [
       "Correct"
      ]
     },
     "metadata": {},
     "output_type": "display_data"
    }
   ],
   "source": [
    "from sklearn.metrics import mean_absolute_error\n",
    "val_mae = mean_absolute_error(val_predictions, val_y)\n",
    "\n",
    "# uncomment following line to see the validation_mae\n",
    "print(val_mae)\n",
    "\n",
    "# Check your answer\n",
    "step_4.check()"
   ]
  },
  {
   "cell_type": "code",
   "execution_count": 10,
   "id": "dde32b63",
   "metadata": {
    "execution": {
     "iopub.execute_input": "2021-09-10T07:14:06.775293Z",
     "iopub.status.busy": "2021-09-10T07:14:06.774473Z",
     "iopub.status.idle": "2021-09-10T07:14:06.777711Z",
     "shell.execute_reply": "2021-09-10T07:14:06.777000Z",
     "shell.execute_reply.started": "2021-09-10T07:13:40.599652Z"
    },
    "papermill": {
     "duration": 0.027883,
     "end_time": "2021-09-10T07:14:06.777864",
     "exception": false,
     "start_time": "2021-09-10T07:14:06.749981",
     "status": "completed"
    },
    "tags": []
   },
   "outputs": [],
   "source": [
    "# step_4.hint()\n",
    "# step_4.solution()"
   ]
  },
  {
   "cell_type": "markdown",
   "id": "e27d5695",
   "metadata": {
    "papermill": {
     "duration": 0.020112,
     "end_time": "2021-09-10T07:14:06.818389",
     "exception": false,
     "start_time": "2021-09-10T07:14:06.798277",
     "status": "completed"
    },
    "tags": []
   },
   "source": [
    "Is that MAE good?  There isn't a general rule for what values are good that applies across applications. But you'll see how to use (and improve) this number in the next step.\n",
    "\n",
    "# Keep Going\n",
    "\n",
    "You are ready for **[Underfitting and Overfitting](https://www.kaggle.com/dansbecker/underfitting-and-overfitting).**\n"
   ]
  },
  {
   "cell_type": "markdown",
   "id": "a8e0218d",
   "metadata": {
    "papermill": {
     "duration": 0.020221,
     "end_time": "2021-09-10T07:14:06.859036",
     "exception": false,
     "start_time": "2021-09-10T07:14:06.838815",
     "status": "completed"
    },
    "tags": []
   },
   "source": [
    "---\n",
    "\n",
    "\n",
    "\n",
    "\n",
    "*Have questions or comments? Visit the [Learn Discussion forum](https://www.kaggle.com/learn-forum/161285) to chat with other Learners.*"
   ]
  }
 ],
 "metadata": {
  "kernelspec": {
   "display_name": "Python 3",
   "language": "python",
   "name": "python3"
  },
  "language_info": {
   "codemirror_mode": {
    "name": "ipython",
    "version": 3
   },
   "file_extension": ".py",
   "mimetype": "text/x-python",
   "name": "python",
   "nbconvert_exporter": "python",
   "pygments_lexer": "ipython3",
   "version": "3.7.10"
  },
  "papermill": {
   "default_parameters": {},
   "duration": 10.664423,
   "end_time": "2021-09-10T07:14:07.490640",
   "environment_variables": {},
   "exception": null,
   "input_path": "__notebook__.ipynb",
   "output_path": "__notebook__.ipynb",
   "parameters": {},
   "start_time": "2021-09-10T07:13:56.826217",
   "version": "2.3.3"
  }
 },
 "nbformat": 4,
 "nbformat_minor": 5
}
