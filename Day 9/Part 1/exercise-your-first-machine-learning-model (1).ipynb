{
 "cells": [
  {
   "cell_type": "markdown",
   "id": "30866bf8",
   "metadata": {
    "papermill": {
     "duration": 0.020396,
     "end_time": "2021-09-10T06:17:04.473529",
     "exception": false,
     "start_time": "2021-09-10T06:17:04.453133",
     "status": "completed"
    },
    "tags": []
   },
   "source": [
    "**This notebook is an exercise in the [Introduction to Machine Learning](https://www.kaggle.com/learn/intro-to-machine-learning) course.  You can reference the tutorial at [this link](https://www.kaggle.com/dansbecker/your-first-machine-learning-model).**\n",
    "\n",
    "---\n"
   ]
  },
  {
   "cell_type": "markdown",
   "id": "11653475",
   "metadata": {
    "papermill": {
     "duration": 0.01895,
     "end_time": "2021-09-10T06:17:04.512682",
     "exception": false,
     "start_time": "2021-09-10T06:17:04.493732",
     "status": "completed"
    },
    "tags": []
   },
   "source": [
    "## Recap\n",
    "So far, you have loaded your data and reviewed it with the following code. Run this cell to set up your coding environment where the previous step left off."
   ]
  },
  {
   "cell_type": "code",
   "execution_count": 1,
   "id": "2648e35d",
   "metadata": {
    "execution": {
     "iopub.execute_input": "2021-09-10T06:17:04.562850Z",
     "iopub.status.busy": "2021-09-10T06:17:04.562120Z",
     "iopub.status.idle": "2021-09-10T06:17:06.123081Z",
     "shell.execute_reply": "2021-09-10T06:17:06.122097Z",
     "shell.execute_reply.started": "2021-09-10T05:54:10.202326Z"
    },
    "papermill": {
     "duration": 1.591124,
     "end_time": "2021-09-10T06:17:06.123250",
     "exception": false,
     "start_time": "2021-09-10T06:17:04.532126",
     "status": "completed"
    },
    "tags": []
   },
   "outputs": [
    {
     "name": "stdout",
     "output_type": "stream",
     "text": [
      "Setup Complete\n"
     ]
    }
   ],
   "source": [
    "# Code you have previously used to load data\n",
    "import pandas as pd\n",
    "\n",
    "# Path of the file to read\n",
    "iowa_file_path = '../input/home-data-for-ml-course/train.csv'\n",
    "\n",
    "home_data = pd.read_csv(iowa_file_path)\n",
    "\n",
    "# Set up code checking\n",
    "from learntools.core import binder\n",
    "binder.bind(globals())\n",
    "from learntools.machine_learning.ex3 import *\n",
    "\n",
    "print(\"Setup Complete\")"
   ]
  },
  {
   "cell_type": "markdown",
   "id": "3b9cb926",
   "metadata": {
    "papermill": {
     "duration": 0.013113,
     "end_time": "2021-09-10T06:17:06.150335",
     "exception": false,
     "start_time": "2021-09-10T06:17:06.137222",
     "status": "completed"
    },
    "tags": []
   },
   "source": [
    "# Exercises\n",
    "\n",
    "## Step 1: Specify Prediction Target\n",
    "Select the target variable, which corresponds to the sales price. Save this to a new variable called `y`. You'll need to print a list of the columns to find the name of the column you need.\n"
   ]
  },
  {
   "cell_type": "code",
   "execution_count": 2,
   "id": "1484d9eb",
   "metadata": {
    "execution": {
     "iopub.execute_input": "2021-09-10T06:17:06.184216Z",
     "iopub.status.busy": "2021-09-10T06:17:06.183581Z",
     "iopub.status.idle": "2021-09-10T06:17:06.188775Z",
     "shell.execute_reply": "2021-09-10T06:17:06.188181Z",
     "shell.execute_reply.started": "2021-09-10T05:58:00.639641Z"
    },
    "papermill": {
     "duration": 0.024764,
     "end_time": "2021-09-10T06:17:06.188925",
     "exception": false,
     "start_time": "2021-09-10T06:17:06.164161",
     "status": "completed"
    },
    "tags": []
   },
   "outputs": [
    {
     "name": "stdout",
     "output_type": "stream",
     "text": [
      "Index(['Id', 'MSSubClass', 'MSZoning', 'LotFrontage', 'LotArea', 'Street',\n",
      "       'Alley', 'LotShape', 'LandContour', 'Utilities', 'LotConfig',\n",
      "       'LandSlope', 'Neighborhood', 'Condition1', 'Condition2', 'BldgType',\n",
      "       'HouseStyle', 'OverallQual', 'OverallCond', 'YearBuilt', 'YearRemodAdd',\n",
      "       'RoofStyle', 'RoofMatl', 'Exterior1st', 'Exterior2nd', 'MasVnrType',\n",
      "       'MasVnrArea', 'ExterQual', 'ExterCond', 'Foundation', 'BsmtQual',\n",
      "       'BsmtCond', 'BsmtExposure', 'BsmtFinType1', 'BsmtFinSF1',\n",
      "       'BsmtFinType2', 'BsmtFinSF2', 'BsmtUnfSF', 'TotalBsmtSF', 'Heating',\n",
      "       'HeatingQC', 'CentralAir', 'Electrical', '1stFlrSF', '2ndFlrSF',\n",
      "       'LowQualFinSF', 'GrLivArea', 'BsmtFullBath', 'BsmtHalfBath', 'FullBath',\n",
      "       'HalfBath', 'BedroomAbvGr', 'KitchenAbvGr', 'KitchenQual',\n",
      "       'TotRmsAbvGrd', 'Functional', 'Fireplaces', 'FireplaceQu', 'GarageType',\n",
      "       'GarageYrBlt', 'GarageFinish', 'GarageCars', 'GarageArea', 'GarageQual',\n",
      "       'GarageCond', 'PavedDrive', 'WoodDeckSF', 'OpenPorchSF',\n",
      "       'EnclosedPorch', '3SsnPorch', 'ScreenPorch', 'PoolArea', 'PoolQC',\n",
      "       'Fence', 'MiscFeature', 'MiscVal', 'MoSold', 'YrSold', 'SaleType',\n",
      "       'SaleCondition', 'SalePrice'],\n",
      "      dtype='object')\n"
     ]
    }
   ],
   "source": [
    "# print the list of columns in the dataset to find the name of the prediction target\n",
    "print(home_data.columns)"
   ]
  },
  {
   "cell_type": "code",
   "execution_count": 3,
   "id": "eedc152b",
   "metadata": {
    "execution": {
     "iopub.execute_input": "2021-09-10T06:17:06.230774Z",
     "iopub.status.busy": "2021-09-10T06:17:06.230175Z",
     "iopub.status.idle": "2021-09-10T06:17:06.238353Z",
     "shell.execute_reply": "2021-09-10T06:17:06.238953Z",
     "shell.execute_reply.started": "2021-09-10T05:58:16.881186Z"
    },
    "papermill": {
     "duration": 0.036354,
     "end_time": "2021-09-10T06:17:06.239141",
     "exception": false,
     "start_time": "2021-09-10T06:17:06.202787",
     "status": "completed"
    },
    "tags": []
   },
   "outputs": [
    {
     "data": {
      "application/javascript": [
       "parent.postMessage({\"jupyterEvent\": \"custom.exercise_interaction\", \"data\": {\"outcomeType\": 1, \"valueTowardsCompletion\": 0.25, \"interactionType\": 1, \"questionType\": 2, \"questionId\": \"1_SetTarget\", \"learnToolsVersion\": \"0.3.4\", \"failureMessage\": \"\", \"exceptionClass\": \"\", \"trace\": \"\"}}, \"*\")"
      ],
      "text/plain": [
       "<IPython.core.display.Javascript object>"
      ]
     },
     "metadata": {},
     "output_type": "display_data"
    },
    {
     "data": {
      "text/markdown": [
       "<span style=\"color:#33cc33\">Correct</span>"
      ],
      "text/plain": [
       "Correct"
      ]
     },
     "metadata": {},
     "output_type": "display_data"
    }
   ],
   "source": [
    "y = home_data.SalePrice\n",
    "\n",
    "# Check your answer\n",
    "step_1.check()"
   ]
  },
  {
   "cell_type": "code",
   "execution_count": 4,
   "id": "2b06b408",
   "metadata": {
    "collapsed": true,
    "execution": {
     "iopub.execute_input": "2021-09-10T06:17:06.287256Z",
     "iopub.status.busy": "2021-09-10T06:17:06.286555Z",
     "iopub.status.idle": "2021-09-10T06:17:06.289037Z",
     "shell.execute_reply": "2021-09-10T06:17:06.288463Z"
    },
    "jupyter": {
     "outputs_hidden": true
    },
    "papermill": {
     "duration": 0.028383,
     "end_time": "2021-09-10T06:17:06.289195",
     "exception": false,
     "start_time": "2021-09-10T06:17:06.260812",
     "status": "completed"
    },
    "tags": []
   },
   "outputs": [],
   "source": [
    "# The lines below will show you a hint or the solution.\n",
    "# step_1.hint() \n",
    "# step_1.solution()"
   ]
  },
  {
   "cell_type": "markdown",
   "id": "f2fd79d0",
   "metadata": {
    "papermill": {
     "duration": 0.020925,
     "end_time": "2021-09-10T06:17:06.331566",
     "exception": false,
     "start_time": "2021-09-10T06:17:06.310641",
     "status": "completed"
    },
    "tags": []
   },
   "source": [
    "## Step 2: Create X\n",
    "Now you will create a DataFrame called `X` holding the predictive features.\n",
    "\n",
    "Since you want only some columns from the original data, you'll first create a list with the names of the columns you want in `X`.\n",
    "\n",
    "You'll use just the following columns in the list (you can copy and paste the whole list to save some typing, though you'll still need to add quotes):\n",
    "    * LotArea\n",
    "    * YearBuilt\n",
    "    * 1stFlrSF\n",
    "    * 2ndFlrSF\n",
    "    * FullBath\n",
    "    * BedroomAbvGr\n",
    "    * TotRmsAbvGrd\n",
    "\n",
    "After you've created that list of features, use it to create the DataFrame that you'll use to fit the model."
   ]
  },
  {
   "cell_type": "code",
   "execution_count": 5,
   "id": "2f24d0d2",
   "metadata": {
    "execution": {
     "iopub.execute_input": "2021-09-10T06:17:06.389487Z",
     "iopub.status.busy": "2021-09-10T06:17:06.386336Z",
     "iopub.status.idle": "2021-09-10T06:17:06.396808Z",
     "shell.execute_reply": "2021-09-10T06:17:06.396096Z",
     "shell.execute_reply.started": "2021-09-10T06:00:18.823333Z"
    },
    "papermill": {
     "duration": 0.042035,
     "end_time": "2021-09-10T06:17:06.396956",
     "exception": false,
     "start_time": "2021-09-10T06:17:06.354921",
     "status": "completed"
    },
    "tags": []
   },
   "outputs": [
    {
     "data": {
      "application/javascript": [
       "parent.postMessage({\"jupyterEvent\": \"custom.exercise_interaction\", \"data\": {\"outcomeType\": 1, \"valueTowardsCompletion\": 0.25, \"interactionType\": 1, \"questionType\": 2, \"questionId\": \"2_SelectPredictionData\", \"learnToolsVersion\": \"0.3.4\", \"failureMessage\": \"\", \"exceptionClass\": \"\", \"trace\": \"\"}}, \"*\")"
      ],
      "text/plain": [
       "<IPython.core.display.Javascript object>"
      ]
     },
     "metadata": {},
     "output_type": "display_data"
    },
    {
     "data": {
      "text/markdown": [
       "<span style=\"color:#33cc33\">Correct</span>"
      ],
      "text/plain": [
       "Correct"
      ]
     },
     "metadata": {},
     "output_type": "display_data"
    }
   ],
   "source": [
    "# Create the list of features below\n",
    "feature_names = ['LotArea' , 'YearBuilt' , '1stFlrSF' , '2ndFlrSF' , 'FullBath' , 'BedroomAbvGr' , 'TotRmsAbvGrd']\n",
    "\n",
    "# Select data corresponding to features in feature_names\n",
    "X = home_data[feature_names]\n",
    "\n",
    "# Check your answer\n",
    "step_2.check()"
   ]
  },
  {
   "cell_type": "code",
   "execution_count": 6,
   "id": "4d8f07a3",
   "metadata": {
    "execution": {
     "iopub.execute_input": "2021-09-10T06:17:06.446706Z",
     "iopub.status.busy": "2021-09-10T06:17:06.446141Z",
     "iopub.status.idle": "2021-09-10T06:17:06.448962Z",
     "shell.execute_reply": "2021-09-10T06:17:06.448380Z",
     "shell.execute_reply.started": "2021-09-10T06:00:27.547293Z"
    },
    "papermill": {
     "duration": 0.02937,
     "end_time": "2021-09-10T06:17:06.449094",
     "exception": false,
     "start_time": "2021-09-10T06:17:06.419724",
     "status": "completed"
    },
    "tags": []
   },
   "outputs": [],
   "source": [
    "# step_2.hint()\n",
    "# step_2.solution()"
   ]
  },
  {
   "cell_type": "markdown",
   "id": "c46ab487",
   "metadata": {
    "papermill": {
     "duration": 0.022351,
     "end_time": "2021-09-10T06:17:06.495511",
     "exception": false,
     "start_time": "2021-09-10T06:17:06.473160",
     "status": "completed"
    },
    "tags": []
   },
   "source": [
    "## Review Data\n",
    "Before building a model, take a quick look at **X** to verify it looks sensible"
   ]
  },
  {
   "cell_type": "code",
   "execution_count": 7,
   "id": "81937c94",
   "metadata": {
    "execution": {
     "iopub.execute_input": "2021-09-10T06:17:06.545684Z",
     "iopub.status.busy": "2021-09-10T06:17:06.544828Z",
     "iopub.status.idle": "2021-09-10T06:17:06.587463Z",
     "shell.execute_reply": "2021-09-10T06:17:06.587004Z",
     "shell.execute_reply.started": "2021-09-10T06:16:22.801473Z"
    },
    "papermill": {
     "duration": 0.068986,
     "end_time": "2021-09-10T06:17:06.587619",
     "exception": false,
     "start_time": "2021-09-10T06:17:06.518633",
     "status": "completed"
    },
    "tags": []
   },
   "outputs": [
    {
     "name": "stdout",
     "output_type": "stream",
     "text": [
      "      LotArea  YearBuilt  1stFlrSF  2ndFlrSF  FullBath  BedroomAbvGr  \\\n",
      "0        8450       2003       856       854         2             3   \n",
      "1        9600       1976      1262         0         2             3   \n",
      "2       11250       2001       920       866         2             3   \n",
      "3        9550       1915       961       756         1             3   \n",
      "4       14260       2000      1145      1053         2             4   \n",
      "...       ...        ...       ...       ...       ...           ...   \n",
      "1455     7917       1999       953       694         2             3   \n",
      "1456    13175       1978      2073         0         2             3   \n",
      "1457     9042       1941      1188      1152         2             4   \n",
      "1458     9717       1950      1078         0         1             2   \n",
      "1459     9937       1965      1256         0         1             3   \n",
      "\n",
      "      TotRmsAbvGrd  \n",
      "0                8  \n",
      "1                6  \n",
      "2                6  \n",
      "3                7  \n",
      "4                9  \n",
      "...            ...  \n",
      "1455             7  \n",
      "1456             7  \n",
      "1457             9  \n",
      "1458             5  \n",
      "1459             6  \n",
      "\n",
      "[1460 rows x 7 columns]\n",
      "   LotArea  YearBuilt  1stFlrSF  2ndFlrSF  FullBath  BedroomAbvGr  \\\n",
      "0     8450       2003       856       854         2             3   \n",
      "1     9600       1976      1262         0         2             3   \n",
      "2    11250       2001       920       866         2             3   \n",
      "3     9550       1915       961       756         1             3   \n",
      "4    14260       2000      1145      1053         2             4   \n",
      "\n",
      "   TotRmsAbvGrd  \n",
      "0             8  \n",
      "1             6  \n",
      "2             6  \n",
      "3             7  \n",
      "4             9  \n",
      "             LotArea    YearBuilt     1stFlrSF     2ndFlrSF     FullBath  \\\n",
      "count    1460.000000  1460.000000  1460.000000  1460.000000  1460.000000   \n",
      "mean    10516.828082  1971.267808  1162.626712   346.992466     1.565068   \n",
      "std      9981.264932    30.202904   386.587738   436.528436     0.550916   \n",
      "min      1300.000000  1872.000000   334.000000     0.000000     0.000000   \n",
      "25%      7553.500000  1954.000000   882.000000     0.000000     1.000000   \n",
      "50%      9478.500000  1973.000000  1087.000000     0.000000     2.000000   \n",
      "75%     11601.500000  2000.000000  1391.250000   728.000000     2.000000   \n",
      "max    215245.000000  2010.000000  4692.000000  2065.000000     3.000000   \n",
      "\n",
      "       BedroomAbvGr  TotRmsAbvGrd  \n",
      "count   1460.000000   1460.000000  \n",
      "mean       2.866438      6.517808  \n",
      "std        0.815778      1.625393  \n",
      "min        0.000000      2.000000  \n",
      "25%        2.000000      5.000000  \n",
      "50%        3.000000      6.000000  \n",
      "75%        3.000000      7.000000  \n",
      "max        8.000000     14.000000  \n"
     ]
    }
   ],
   "source": [
    "# Review data\n",
    "# print description or statistics from X\n",
    "print(X)\n",
    "\n",
    "# print the top few lines\n",
    "print(X.head())\n",
    "\n",
    "# print the statistics of data like mean, standard deviation ect\n",
    "print(X.describe())"
   ]
  },
  {
   "cell_type": "markdown",
   "id": "dca34a34",
   "metadata": {
    "papermill": {
     "duration": 0.015325,
     "end_time": "2021-09-10T06:17:06.619115",
     "exception": false,
     "start_time": "2021-09-10T06:17:06.603790",
     "status": "completed"
    },
    "tags": []
   },
   "source": [
    "## Step 3: Specify and Fit Model\n",
    "Create a `DecisionTreeRegressor` and save it iowa_model. Ensure you've done the relevant import from sklearn to run this command.\n",
    "\n",
    "Then fit the model you just created using the data in `X` and `y` that you saved above."
   ]
  },
  {
   "cell_type": "code",
   "execution_count": 8,
   "id": "f775de12",
   "metadata": {
    "execution": {
     "iopub.execute_input": "2021-09-10T06:17:06.658185Z",
     "iopub.status.busy": "2021-09-10T06:17:06.657675Z",
     "iopub.status.idle": "2021-09-10T06:17:06.674843Z",
     "shell.execute_reply": "2021-09-10T06:17:06.675271Z",
     "shell.execute_reply.started": "2021-09-10T06:03:11.877025Z"
    },
    "papermill": {
     "duration": 0.040685,
     "end_time": "2021-09-10T06:17:06.675431",
     "exception": false,
     "start_time": "2021-09-10T06:17:06.634746",
     "status": "completed"
    },
    "tags": []
   },
   "outputs": [
    {
     "data": {
      "application/javascript": [
       "parent.postMessage({\"jupyterEvent\": \"custom.exercise_interaction\", \"data\": {\"outcomeType\": 1, \"valueTowardsCompletion\": 0.25, \"interactionType\": 1, \"questionType\": 2, \"questionId\": \"3_CreateModel\", \"learnToolsVersion\": \"0.3.4\", \"failureMessage\": \"\", \"exceptionClass\": \"\", \"trace\": \"\"}}, \"*\")"
      ],
      "text/plain": [
       "<IPython.core.display.Javascript object>"
      ]
     },
     "metadata": {},
     "output_type": "display_data"
    },
    {
     "data": {
      "text/markdown": [
       "<span style=\"color:#33cc33\">Correct</span>"
      ],
      "text/plain": [
       "Correct"
      ]
     },
     "metadata": {},
     "output_type": "display_data"
    }
   ],
   "source": [
    "# from _ import _\n",
    "#specify the model. \n",
    "from sklearn.tree import DecisionTreeRegressor\n",
    "#For model reproducibility, set a numeric value for random_state when specifying the model\n",
    "iowa_model = DecisionTreeRegressor(random_state=1)\n",
    "\n",
    "# Fit the model\n",
    "iowa_model.fit(X,y)\n",
    "\n",
    "# Check your answer\n",
    "step_3.check()"
   ]
  },
  {
   "cell_type": "code",
   "execution_count": 9,
   "id": "bf20b47a",
   "metadata": {
    "collapsed": true,
    "execution": {
     "iopub.execute_input": "2021-09-10T06:17:06.712278Z",
     "iopub.status.busy": "2021-09-10T06:17:06.711384Z",
     "iopub.status.idle": "2021-09-10T06:17:06.714870Z",
     "shell.execute_reply": "2021-09-10T06:17:06.715403Z"
    },
    "jupyter": {
     "outputs_hidden": true
    },
    "papermill": {
     "duration": 0.023399,
     "end_time": "2021-09-10T06:17:06.715596",
     "exception": false,
     "start_time": "2021-09-10T06:17:06.692197",
     "status": "completed"
    },
    "tags": []
   },
   "outputs": [],
   "source": [
    "# step_3.hint()\n",
    "# step_3.solution()"
   ]
  },
  {
   "cell_type": "markdown",
   "id": "f774b60c",
   "metadata": {
    "papermill": {
     "duration": 0.025517,
     "end_time": "2021-09-10T06:17:06.766015",
     "exception": false,
     "start_time": "2021-09-10T06:17:06.740498",
     "status": "completed"
    },
    "tags": []
   },
   "source": [
    "## Step 4: Make Predictions\n",
    "Make predictions with the model's `predict` command using `X` as the data. Save the results to a variable called `predictions`."
   ]
  },
  {
   "cell_type": "code",
   "execution_count": 10,
   "id": "9848a688",
   "metadata": {
    "execution": {
     "iopub.execute_input": "2021-09-10T06:17:06.821461Z",
     "iopub.status.busy": "2021-09-10T06:17:06.820731Z",
     "iopub.status.idle": "2021-09-10T06:17:06.835871Z",
     "shell.execute_reply": "2021-09-10T06:17:06.835289Z",
     "shell.execute_reply.started": "2021-09-10T06:08:14.033167Z"
    },
    "papermill": {
     "duration": 0.044191,
     "end_time": "2021-09-10T06:17:06.836203",
     "exception": false,
     "start_time": "2021-09-10T06:17:06.792012",
     "status": "completed"
    },
    "tags": []
   },
   "outputs": [
    {
     "name": "stdout",
     "output_type": "stream",
     "text": [
      "[208500. 181500. 223500. ... 266500. 142125. 147500.]\n"
     ]
    },
    {
     "data": {
      "application/javascript": [
       "parent.postMessage({\"jupyterEvent\": \"custom.exercise_interaction\", \"data\": {\"outcomeType\": 1, \"valueTowardsCompletion\": 0.25, \"interactionType\": 1, \"questionType\": 2, \"questionId\": \"4_MakePredictions\", \"learnToolsVersion\": \"0.3.4\", \"failureMessage\": \"\", \"exceptionClass\": \"\", \"trace\": \"\"}}, \"*\")"
      ],
      "text/plain": [
       "<IPython.core.display.Javascript object>"
      ]
     },
     "metadata": {},
     "output_type": "display_data"
    },
    {
     "data": {
      "text/markdown": [
       "<span style=\"color:#33cc33\">Correct</span>"
      ],
      "text/plain": [
       "Correct"
      ]
     },
     "metadata": {},
     "output_type": "display_data"
    }
   ],
   "source": [
    "predictions = iowa_model.predict(X)\n",
    "print(predictions)\n",
    "\n",
    "# Check your answer\n",
    "step_4.check()"
   ]
  },
  {
   "cell_type": "code",
   "execution_count": 11,
   "id": "f00dc23a",
   "metadata": {
    "collapsed": true,
    "execution": {
     "iopub.execute_input": "2021-09-10T06:17:06.876862Z",
     "iopub.status.busy": "2021-09-10T06:17:06.876381Z",
     "iopub.status.idle": "2021-09-10T06:17:06.878875Z",
     "shell.execute_reply": "2021-09-10T06:17:06.879359Z"
    },
    "jupyter": {
     "outputs_hidden": true
    },
    "papermill": {
     "duration": 0.024565,
     "end_time": "2021-09-10T06:17:06.879522",
     "exception": false,
     "start_time": "2021-09-10T06:17:06.854957",
     "status": "completed"
    },
    "tags": []
   },
   "outputs": [],
   "source": [
    "# step_4.hint()\n",
    "# step_4.solution()"
   ]
  },
  {
   "cell_type": "markdown",
   "id": "c31b5135",
   "metadata": {
    "papermill": {
     "duration": 0.01771,
     "end_time": "2021-09-10T06:17:06.915095",
     "exception": false,
     "start_time": "2021-09-10T06:17:06.897385",
     "status": "completed"
    },
    "tags": []
   },
   "source": [
    "## Think About Your Results\n",
    "\n",
    "Use the `head` method to compare the top few predictions to the actual home values (in `y`) for those same homes. Anything surprising?\n"
   ]
  },
  {
   "cell_type": "code",
   "execution_count": 12,
   "id": "577c2f6f",
   "metadata": {
    "execution": {
     "iopub.execute_input": "2021-09-10T06:17:06.959726Z",
     "iopub.status.busy": "2021-09-10T06:17:06.959171Z",
     "iopub.status.idle": "2021-09-10T06:17:06.963989Z",
     "shell.execute_reply": "2021-09-10T06:17:06.963268Z",
     "shell.execute_reply.started": "2021-09-10T06:08:36.638933Z"
    },
    "papermill": {
     "duration": 0.030802,
     "end_time": "2021-09-10T06:17:06.964131",
     "exception": false,
     "start_time": "2021-09-10T06:17:06.933329",
     "status": "completed"
    },
    "tags": []
   },
   "outputs": [
    {
     "name": "stdout",
     "output_type": "stream",
     "text": [
      "[208500. 181500. 223500. 140000. 250000.]\n"
     ]
    }
   ],
   "source": [
    "# You can write code in this cell\n",
    "predictions1 = iowa_model.predict(X.head())\n",
    "print(predictions1)"
   ]
  },
  {
   "cell_type": "markdown",
   "id": "cb9e5afe",
   "metadata": {
    "papermill": {
     "duration": 0.017866,
     "end_time": "2021-09-10T06:17:07.001210",
     "exception": false,
     "start_time": "2021-09-10T06:17:06.983344",
     "status": "completed"
    },
    "tags": []
   },
   "source": [
    "It's natural to ask how accurate the model's predictions will be and how you can improve that. That will be you're next step.\n",
    "\n",
    "# Keep Going\n",
    "\n",
    "You are ready for **[Model Validation](https://www.kaggle.com/dansbecker/model-validation).**\n"
   ]
  },
  {
   "cell_type": "markdown",
   "id": "1fb9ee84",
   "metadata": {
    "papermill": {
     "duration": 0.018217,
     "end_time": "2021-09-10T06:17:07.037894",
     "exception": false,
     "start_time": "2021-09-10T06:17:07.019677",
     "status": "completed"
    },
    "tags": []
   },
   "source": [
    "---\n",
    "\n",
    "\n",
    "\n",
    "\n",
    "*Have questions or comments? Visit the [Learn Discussion forum](https://www.kaggle.com/learn-forum/161285) to chat with other Learners.*"
   ]
  }
 ],
 "metadata": {
  "kernelspec": {
   "display_name": "Python 3",
   "language": "python",
   "name": "python3"
  },
  "language_info": {
   "codemirror_mode": {
    "name": "ipython",
    "version": 3
   },
   "file_extension": ".py",
   "mimetype": "text/x-python",
   "name": "python",
   "nbconvert_exporter": "python",
   "pygments_lexer": "ipython3",
   "version": "3.7.10"
  },
  "papermill": {
   "default_parameters": {},
   "duration": 13.872766,
   "end_time": "2021-09-10T06:17:07.870636",
   "environment_variables": {},
   "exception": null,
   "input_path": "__notebook__.ipynb",
   "output_path": "__notebook__.ipynb",
   "parameters": {},
   "start_time": "2021-09-10T06:16:53.997870",
   "version": "2.3.3"
  }
 },
 "nbformat": 4,
 "nbformat_minor": 5
}
