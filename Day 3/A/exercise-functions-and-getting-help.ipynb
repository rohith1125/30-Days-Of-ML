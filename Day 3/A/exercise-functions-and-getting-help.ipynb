{
 "cells": [
  {
   "cell_type": "markdown",
   "id": "5bdd732f",
   "metadata": {
    "papermill": {
     "duration": 0.015408,
     "end_time": "2021-09-05T11:28:35.014254",
     "exception": false,
     "start_time": "2021-09-05T11:28:34.998846",
     "status": "completed"
    },
    "tags": []
   },
   "source": [
    "**This notebook is an exercise in the [Python](https://www.kaggle.com/learn/python) course.  You can reference the tutorial at [this link](https://www.kaggle.com/colinmorris/functions-and-getting-help).**\n",
    "\n",
    "---\n"
   ]
  },
  {
   "cell_type": "markdown",
   "id": "729fce3a",
   "metadata": {
    "papermill": {
     "duration": 0.014043,
     "end_time": "2021-09-05T11:28:35.042434",
     "exception": false,
     "start_time": "2021-09-05T11:28:35.028391",
     "status": "completed"
    },
    "tags": []
   },
   "source": [
    "Functions are powerful. Try writing some yourself.\n",
    "\n",
    "As before, don't forget to run the setup code below before jumping into question 1."
   ]
  },
  {
   "cell_type": "code",
   "execution_count": 1,
   "id": "fc5d8434",
   "metadata": {
    "_kg_hide-input": true,
    "_kg_hide-output": true,
    "execution": {
     "iopub.execute_input": "2021-09-05T11:28:35.076246Z",
     "iopub.status.busy": "2021-09-05T11:28:35.075055Z",
     "iopub.status.idle": "2021-09-05T11:28:35.227516Z",
     "shell.execute_reply": "2021-09-05T11:28:35.226735Z",
     "shell.execute_reply.started": "2021-09-05T11:23:22.217685Z"
    },
    "papermill": {
     "duration": 0.170642,
     "end_time": "2021-09-05T11:28:35.227688",
     "exception": false,
     "start_time": "2021-09-05T11:28:35.057046",
     "status": "completed"
    },
    "tags": []
   },
   "outputs": [
    {
     "name": "stdout",
     "output_type": "stream",
     "text": [
      "Setup complete.\n"
     ]
    }
   ],
   "source": [
    "# SETUP. You don't need to worry for now about what this code does or how it works.\n",
    "from learntools.core import binder; binder.bind(globals())\n",
    "from learntools.python.ex2 import *\n",
    "print('Setup complete.')"
   ]
  },
  {
   "cell_type": "markdown",
   "id": "9454c4fc",
   "metadata": {
    "papermill": {
     "duration": 0.014291,
     "end_time": "2021-09-05T11:28:35.256890",
     "exception": false,
     "start_time": "2021-09-05T11:28:35.242599",
     "status": "completed"
    },
    "tags": []
   },
   "source": [
    "# 1.\n",
    "\n",
    "Complete the body of the following function according to its docstring.\n",
    "\n",
    "HINT: Python has a built-in function `round`."
   ]
  },
  {
   "cell_type": "code",
   "execution_count": 2,
   "id": "630fa05d",
   "metadata": {
    "execution": {
     "iopub.execute_input": "2021-09-05T11:28:35.294851Z",
     "iopub.status.busy": "2021-09-05T11:28:35.293817Z",
     "iopub.status.idle": "2021-09-05T11:28:35.299093Z",
     "shell.execute_reply": "2021-09-05T11:28:35.299624Z",
     "shell.execute_reply.started": "2021-09-05T11:24:41.535758Z"
    },
    "papermill": {
     "duration": 0.028505,
     "end_time": "2021-09-05T11:28:35.299818",
     "exception": false,
     "start_time": "2021-09-05T11:28:35.271313",
     "status": "completed"
    },
    "tags": []
   },
   "outputs": [
    {
     "data": {
      "application/javascript": [
       "parent.postMessage({\"jupyterEvent\": \"custom.exercise_interaction\", \"data\": {\"outcomeType\": 1, \"valueTowardsCompletion\": 0.16666666666666666, \"interactionType\": 1, \"questionType\": 2, \"questionId\": \"1_RoundFunctionProblem\", \"learnToolsVersion\": \"0.3.4\", \"failureMessage\": \"\", \"exceptionClass\": \"\", \"trace\": \"\"}}, \"*\")"
      ],
      "text/plain": [
       "<IPython.core.display.Javascript object>"
      ]
     },
     "metadata": {},
     "output_type": "display_data"
    },
    {
     "data": {
      "text/markdown": [
       "<span style=\"color:#33cc33\">Correct</span>"
      ],
      "text/plain": [
       "Correct"
      ]
     },
     "metadata": {},
     "output_type": "display_data"
    }
   ],
   "source": [
    "def round_to_two_places(num):\n",
    "    \"\"\"Return the given number rounded to two decimal places. \n",
    "    \n",
    "    >>> round_to_two_places(3.14159)\n",
    "    3.14\n",
    "    \"\"\"\n",
    "    # Replace this body with your own code.\n",
    "    # (\"pass\" is a keyword that does literally nothing. We used it as a placeholder\n",
    "    # because after we begin a code block, Python requires at least one line of code)\n",
    "    return round(num,2)\n",
    "\n",
    "# Check your answer\n",
    "q1.check()"
   ]
  },
  {
   "cell_type": "code",
   "execution_count": 3,
   "id": "578ead61",
   "metadata": {
    "execution": {
     "iopub.execute_input": "2021-09-05T11:28:35.333783Z",
     "iopub.status.busy": "2021-09-05T11:28:35.333110Z",
     "iopub.status.idle": "2021-09-05T11:28:35.336434Z",
     "shell.execute_reply": "2021-09-05T11:28:35.336955Z"
    },
    "papermill": {
     "duration": 0.022259,
     "end_time": "2021-09-05T11:28:35.337131",
     "exception": false,
     "start_time": "2021-09-05T11:28:35.314872",
     "status": "completed"
    },
    "tags": []
   },
   "outputs": [],
   "source": [
    "# Uncomment the following for a hint\n",
    "#q1.hint()\n",
    "# Or uncomment the following to peek at the solution\n",
    "#q1.solution()"
   ]
  },
  {
   "cell_type": "markdown",
   "id": "4fe659b5",
   "metadata": {
    "papermill": {
     "duration": 0.016539,
     "end_time": "2021-09-05T11:28:35.369063",
     "exception": false,
     "start_time": "2021-09-05T11:28:35.352524",
     "status": "completed"
    },
    "tags": []
   },
   "source": [
    "# 2.\n",
    "The help for `round` says that `ndigits` (the second argument) may be negative.\n",
    "What do you think will happen when it is? Try some examples in the following cell."
   ]
  },
  {
   "cell_type": "code",
   "execution_count": 4,
   "id": "461db7e6",
   "metadata": {
    "execution": {
     "iopub.execute_input": "2021-09-05T11:28:35.405252Z",
     "iopub.status.busy": "2021-09-05T11:28:35.404542Z",
     "iopub.status.idle": "2021-09-05T11:28:35.409719Z",
     "shell.execute_reply": "2021-09-05T11:28:35.410210Z",
     "shell.execute_reply.started": "2021-09-05T11:26:14.989018Z"
    },
    "papermill": {
     "duration": 0.025199,
     "end_time": "2021-09-05T11:28:35.410400",
     "exception": false,
     "start_time": "2021-09-05T11:28:35.385201",
     "status": "completed"
    },
    "tags": []
   },
   "outputs": [
    {
     "data": {
      "text/plain": [
       "24069400.0"
      ]
     },
     "execution_count": 4,
     "metadata": {},
     "output_type": "execute_result"
    }
   ],
   "source": [
    "# Put your test code here\n",
    "round(24069420.69420, -2)"
   ]
  },
  {
   "cell_type": "markdown",
   "id": "3fcb6992",
   "metadata": {
    "papermill": {
     "duration": 0.015978,
     "end_time": "2021-09-05T11:28:35.442596",
     "exception": false,
     "start_time": "2021-09-05T11:28:35.426618",
     "status": "completed"
    },
    "tags": []
   },
   "source": [
    "Can you think of a case where this would be useful?  Once you're ready, run the code cell below to see the answer and to receive credit for completing the problem."
   ]
  },
  {
   "cell_type": "code",
   "execution_count": 5,
   "id": "d9a47b4c",
   "metadata": {
    "execution": {
     "iopub.execute_input": "2021-09-05T11:28:35.477725Z",
     "iopub.status.busy": "2021-09-05T11:28:35.477024Z",
     "iopub.status.idle": "2021-09-05T11:28:35.483562Z",
     "shell.execute_reply": "2021-09-05T11:28:35.484093Z",
     "shell.execute_reply.started": "2021-09-05T11:26:22.740275Z"
    },
    "papermill": {
     "duration": 0.025413,
     "end_time": "2021-09-05T11:28:35.484268",
     "exception": false,
     "start_time": "2021-09-05T11:28:35.458855",
     "status": "completed"
    },
    "tags": []
   },
   "outputs": [
    {
     "data": {
      "application/javascript": [
       "parent.postMessage({\"jupyterEvent\": \"custom.exercise_interaction\", \"data\": {\"interactionType\": 3, \"questionType\": 4, \"questionId\": \"2_RoundNdigitsProblem\", \"learnToolsVersion\": \"0.3.4\", \"valueTowardsCompletion\": 0.0, \"failureMessage\": \"\", \"exceptionClass\": \"\", \"trace\": \"\", \"outcomeType\": 4}}, \"*\")"
      ],
      "text/plain": [
       "<IPython.core.display.Javascript object>"
      ]
     },
     "metadata": {},
     "output_type": "display_data"
    },
    {
     "data": {
      "text/markdown": [
       "<span style=\"color:#33cc99\">Solution:</span> As you've seen, `ndigits=-1` rounds to the nearest 10, `ndigits=-2` rounds to the nearest 100 and so on. Where might this be useful? Suppose we're dealing with large numbers:\n",
       "\n",
       "> The area of Finland is 338,424 km²  \n",
       "> The area of Greenland is 2,166,086 km²\n",
       "\n",
       "We probably don't care whether it's really 338,424, or 338,425, or 338,177. All those digits of accuracy are just distracting. We can chop them off by calling `round()` with `ndigits=-3`:\n",
       "\n",
       "> The area of Finland is 338,000 km²  \n",
       "> The area of Greenland is 2,166,000 km²\n",
       "\n",
       "(We'll talk about how we would get the commas later when we talk about string formatting :))\n"
      ],
      "text/plain": [
       "Solution: As you've seen, `ndigits=-1` rounds to the nearest 10, `ndigits=-2` rounds to the nearest 100 and so on. Where might this be useful? Suppose we're dealing with large numbers:\n",
       "\n",
       "> The area of Finland is 338,424 km²  \n",
       "> The area of Greenland is 2,166,086 km²\n",
       "\n",
       "We probably don't care whether it's really 338,424, or 338,425, or 338,177. All those digits of accuracy are just distracting. We can chop them off by calling `round()` with `ndigits=-3`:\n",
       "\n",
       "> The area of Finland is 338,000 km²  \n",
       "> The area of Greenland is 2,166,000 km²\n",
       "\n",
       "(We'll talk about how we would get the commas later when we talk about string formatting :))"
      ]
     },
     "metadata": {},
     "output_type": "display_data"
    }
   ],
   "source": [
    "# Check your answer (Run this code cell to receive credit!)\n",
    "q2.solution()"
   ]
  },
  {
   "cell_type": "markdown",
   "id": "0037c289",
   "metadata": {
    "papermill": {
     "duration": 0.017059,
     "end_time": "2021-09-05T11:28:35.518862",
     "exception": false,
     "start_time": "2021-09-05T11:28:35.501803",
     "status": "completed"
    },
    "tags": []
   },
   "source": [
    "# 3.\n",
    "\n",
    "In the previous exercise, the candy-sharing friends Alice, Bob and Carol tried to split candies evenly. For the sake of their friendship, any candies left over would be smashed. For example, if they collectively bring home 91 candies, they'll take 30 each and smash 1.\n",
    "\n",
    "Below is a simple function that will calculate the number of candies to smash for *any* number of total candies.\n",
    "\n",
    "Modify it so that it optionally takes a second argument representing the number of friends the candies are being split between. If no second argument is provided, it should assume 3 friends, as before.\n",
    "\n",
    "Update the docstring to reflect this new behaviour."
   ]
  },
  {
   "cell_type": "code",
   "execution_count": 6,
   "id": "97148328",
   "metadata": {
    "execution": {
     "iopub.execute_input": "2021-09-05T11:28:35.556983Z",
     "iopub.status.busy": "2021-09-05T11:28:35.556292Z",
     "iopub.status.idle": "2021-09-05T11:28:35.563446Z",
     "shell.execute_reply": "2021-09-05T11:28:35.563988Z",
     "shell.execute_reply.started": "2021-09-05T11:27:24.461915Z"
    },
    "papermill": {
     "duration": 0.027881,
     "end_time": "2021-09-05T11:28:35.564175",
     "exception": false,
     "start_time": "2021-09-05T11:28:35.536294",
     "status": "completed"
    },
    "tags": []
   },
   "outputs": [
    {
     "data": {
      "application/javascript": [
       "parent.postMessage({\"jupyterEvent\": \"custom.exercise_interaction\", \"data\": {\"outcomeType\": 1, \"valueTowardsCompletion\": 0.16666666666666666, \"interactionType\": 1, \"questionType\": 2, \"questionId\": \"3_CandySmashingFunctionProblem\", \"learnToolsVersion\": \"0.3.4\", \"failureMessage\": \"\", \"exceptionClass\": \"\", \"trace\": \"\"}}, \"*\")"
      ],
      "text/plain": [
       "<IPython.core.display.Javascript object>"
      ]
     },
     "metadata": {},
     "output_type": "display_data"
    },
    {
     "data": {
      "text/markdown": [
       "<span style=\"color:#33cc33\">Correct</span>"
      ],
      "text/plain": [
       "Correct"
      ]
     },
     "metadata": {},
     "output_type": "display_data"
    }
   ],
   "source": [
    "def to_smash(total_candies, friends = 3):\n",
    "    \"\"\"Return the number of leftover candies that must be smashed after distributing\n",
    "    the given number of candies evenly between 3 friends.\n",
    "    \n",
    "    >>> to_smash(91)\n",
    "    1\n",
    "    \"\"\"\n",
    "    return total_candies % friends\n",
    "\n",
    "# Check your answer\n",
    "q3.check()"
   ]
  },
  {
   "cell_type": "code",
   "execution_count": 7,
   "id": "91b1d106",
   "metadata": {
    "execution": {
     "iopub.execute_input": "2021-09-05T11:28:35.605692Z",
     "iopub.status.busy": "2021-09-05T11:28:35.604637Z",
     "iopub.status.idle": "2021-09-05T11:28:35.607333Z",
     "shell.execute_reply": "2021-09-05T11:28:35.607861Z"
    },
    "papermill": {
     "duration": 0.026154,
     "end_time": "2021-09-05T11:28:35.608034",
     "exception": false,
     "start_time": "2021-09-05T11:28:35.581880",
     "status": "completed"
    },
    "tags": []
   },
   "outputs": [],
   "source": [
    "#q3.hint()"
   ]
  },
  {
   "cell_type": "code",
   "execution_count": 8,
   "id": "a3b1aa3b",
   "metadata": {
    "execution": {
     "iopub.execute_input": "2021-09-05T11:28:35.648984Z",
     "iopub.status.busy": "2021-09-05T11:28:35.648170Z",
     "iopub.status.idle": "2021-09-05T11:28:35.650686Z",
     "shell.execute_reply": "2021-09-05T11:28:35.651205Z"
    },
    "papermill": {
     "duration": 0.025054,
     "end_time": "2021-09-05T11:28:35.651386",
     "exception": false,
     "start_time": "2021-09-05T11:28:35.626332",
     "status": "completed"
    },
    "tags": []
   },
   "outputs": [],
   "source": [
    "#q3.solution()"
   ]
  },
  {
   "cell_type": "markdown",
   "id": "7f23ce4f",
   "metadata": {
    "papermill": {
     "duration": 0.020783,
     "end_time": "2021-09-05T11:28:35.693597",
     "exception": false,
     "start_time": "2021-09-05T11:28:35.672814",
     "status": "completed"
    },
    "tags": []
   },
   "source": [
    "# 4. (Optional)\n",
    "\n",
    "It may not be fun, but reading and understanding error messages will be an important part of your Python career.\n",
    "\n",
    "Each code cell below contains some commented buggy code. For each cell...\n",
    "\n",
    "1. Read the code and predict what you think will happen when it's run.\n",
    "2. Then uncomment the code and run it to see what happens. (**Tip**: In the kernel editor, you can highlight several lines and press `ctrl`+`/` to toggle commenting.)\n",
    "3. Fix the code (so that it accomplishes its intended purpose without throwing an exception)\n",
    "\n",
    "<!-- TODO: should this be autochecked? Delta is probably pretty small. -->"
   ]
  },
  {
   "cell_type": "code",
   "execution_count": 9,
   "id": "a9454c84",
   "metadata": {
    "execution": {
     "iopub.execute_input": "2021-09-05T11:28:35.751044Z",
     "iopub.status.busy": "2021-09-05T11:28:35.750062Z",
     "iopub.status.idle": "2021-09-05T11:28:35.756085Z",
     "shell.execute_reply": "2021-09-05T11:28:35.755391Z",
     "shell.execute_reply.started": "2021-09-05T11:27:45.373678Z"
    },
    "papermill": {
     "duration": 0.037883,
     "end_time": "2021-09-05T11:28:35.756238",
     "exception": false,
     "start_time": "2021-09-05T11:28:35.718355",
     "status": "completed"
    },
    "tags": []
   },
   "outputs": [
    {
     "data": {
      "text/plain": [
       "10.0"
      ]
     },
     "execution_count": 9,
     "metadata": {},
     "output_type": "execute_result"
    }
   ],
   "source": [
    "round_to_two_places(9.9999)"
   ]
  },
  {
   "cell_type": "code",
   "execution_count": 10,
   "id": "1b7e9d74",
   "metadata": {
    "execution": {
     "iopub.execute_input": "2021-09-05T11:28:35.803134Z",
     "iopub.status.busy": "2021-09-05T11:28:35.802397Z",
     "iopub.status.idle": "2021-09-05T11:28:35.805579Z",
     "shell.execute_reply": "2021-09-05T11:28:35.806119Z",
     "shell.execute_reply.started": "2021-09-05T11:27:59.279270Z"
    },
    "papermill": {
     "duration": 0.027477,
     "end_time": "2021-09-05T11:28:35.806314",
     "exception": false,
     "start_time": "2021-09-05T11:28:35.778837",
     "status": "completed"
    },
    "tags": []
   },
   "outputs": [
    {
     "name": "stdout",
     "output_type": "stream",
     "text": [
      "5\n"
     ]
    }
   ],
   "source": [
    "x = -10\n",
    "y = 5\n",
    "# # Which of the two variables above has the smallest absolute value?\n",
    "smallest_abs = min(abs(x), abs(y))\n",
    "print(smallest_abs)"
   ]
  },
  {
   "cell_type": "code",
   "execution_count": 11,
   "id": "304eb647",
   "metadata": {
    "execution": {
     "iopub.execute_input": "2021-09-05T11:28:35.847232Z",
     "iopub.status.busy": "2021-09-05T11:28:35.846506Z",
     "iopub.status.idle": "2021-09-05T11:28:35.852297Z",
     "shell.execute_reply": "2021-09-05T11:28:35.852961Z",
     "shell.execute_reply.started": "2021-09-05T11:28:12.972181Z"
    },
    "papermill": {
     "duration": 0.027656,
     "end_time": "2021-09-05T11:28:35.853208",
     "exception": false,
     "start_time": "2021-09-05T11:28:35.825552",
     "status": "completed"
    },
    "tags": []
   },
   "outputs": [
    {
     "name": "stdout",
     "output_type": "stream",
     "text": [
      "5\n"
     ]
    }
   ],
   "source": [
    "def f(x):\n",
    "    y = abs(x)\n",
    "    return y\n",
    "\n",
    "print(f(-5))"
   ]
  },
  {
   "cell_type": "markdown",
   "id": "8c743b62",
   "metadata": {
    "papermill": {
     "duration": 0.01942,
     "end_time": "2021-09-05T11:28:35.892147",
     "exception": false,
     "start_time": "2021-09-05T11:28:35.872727",
     "status": "completed"
    },
    "tags": []
   },
   "source": [
    "# Keep Going\n",
    "\n",
    "Nice job with the code. Next up, you'll learn about *conditionals*, which you'll need to **[write interesting programs](https://www.kaggle.com/colinmorris/booleans-and-conditionals)**. "
   ]
  },
  {
   "cell_type": "markdown",
   "id": "850bd960",
   "metadata": {
    "papermill": {
     "duration": 0.018603,
     "end_time": "2021-09-05T11:28:35.929793",
     "exception": false,
     "start_time": "2021-09-05T11:28:35.911190",
     "status": "completed"
    },
    "tags": []
   },
   "source": [
    "---\n",
    "\n",
    "\n",
    "\n",
    "\n",
    "*Have questions or comments? Visit the [Learn Discussion forum](https://www.kaggle.com/learn-forum/161283) to chat with other Learners.*"
   ]
  }
 ],
 "metadata": {
  "kernelspec": {
   "display_name": "Python 3",
   "language": "python",
   "name": "python3"
  },
  "language_info": {
   "codemirror_mode": {
    "name": "ipython",
    "version": 3
   },
   "file_extension": ".py",
   "mimetype": "text/x-python",
   "name": "python",
   "nbconvert_exporter": "python",
   "pygments_lexer": "ipython3",
   "version": "3.7.10"
  },
  "papermill": {
   "default_parameters": {},
   "duration": 10.804811,
   "end_time": "2021-09-05T11:28:37.329698",
   "environment_variables": {},
   "exception": null,
   "input_path": "__notebook__.ipynb",
   "output_path": "__notebook__.ipynb",
   "parameters": {},
   "start_time": "2021-09-05T11:28:26.524887",
   "version": "2.3.3"
  }
 },
 "nbformat": 4,
 "nbformat_minor": 5
}
