{
 "cells": [
  {
   "cell_type": "markdown",
   "id": "add9d70f",
   "metadata": {
    "papermill": {
     "duration": 0.012972,
     "end_time": "2021-09-05T13:23:37.477594",
     "exception": false,
     "start_time": "2021-09-05T13:23:37.464622",
     "status": "completed"
    },
    "tags": []
   },
   "source": [
    "**This notebook is an exercise in the [Python](https://www.kaggle.com/learn/python) course.  You can reference the tutorial at [this link](https://www.kaggle.com/colinmorris/strings-and-dictionaries).**\n",
    "\n",
    "---\n"
   ]
  },
  {
   "cell_type": "markdown",
   "id": "1084dad5",
   "metadata": {
    "papermill": {
     "duration": 0.012299,
     "end_time": "2021-09-05T13:23:37.502710",
     "exception": false,
     "start_time": "2021-09-05T13:23:37.490411",
     "status": "completed"
    },
    "tags": []
   },
   "source": [
    "You are almost done with the course. Nice job!\n",
    "\n",
    "We have a couple more interesting problems for you before you go. \n",
    "\n",
    "As always, run the setup code below before working on the questions."
   ]
  },
  {
   "cell_type": "code",
   "execution_count": 1,
   "id": "34f5d30a",
   "metadata": {
    "execution": {
     "iopub.execute_input": "2021-09-05T13:23:37.538435Z",
     "iopub.status.busy": "2021-09-05T13:23:37.537757Z",
     "iopub.status.idle": "2021-09-05T13:23:37.684697Z",
     "shell.execute_reply": "2021-09-05T13:23:37.685360Z",
     "shell.execute_reply.started": "2021-09-05T13:19:21.908471Z"
    },
    "papermill": {
     "duration": 0.170376,
     "end_time": "2021-09-05T13:23:37.685751",
     "exception": false,
     "start_time": "2021-09-05T13:23:37.515375",
     "status": "completed"
    },
    "tags": []
   },
   "outputs": [
    {
     "name": "stdout",
     "output_type": "stream",
     "text": [
      "Setup complete.\n"
     ]
    }
   ],
   "source": [
    "from learntools.core import binder; binder.bind(globals())\n",
    "from learntools.python.ex6 import *\n",
    "print('Setup complete.')"
   ]
  },
  {
   "cell_type": "markdown",
   "id": "d0a2e9ef",
   "metadata": {
    "papermill": {
     "duration": 0.013854,
     "end_time": "2021-09-05T13:23:37.715610",
     "exception": false,
     "start_time": "2021-09-05T13:23:37.701756",
     "status": "completed"
    },
    "tags": []
   },
   "source": [
    "Let's start with a string lightning round to warm up. What are the lengths of the strings below?\n",
    "\n",
    "For each of the five strings below, predict what `len()` would return when passed that string. Use the variable `length` to record your answer, then run the cell to check whether you were right.  \n",
    "\n",
    "# 0a."
   ]
  },
  {
   "cell_type": "code",
   "execution_count": 2,
   "id": "0a8dd682",
   "metadata": {
    "execution": {
     "iopub.execute_input": "2021-09-05T13:23:37.750398Z",
     "iopub.status.busy": "2021-09-05T13:23:37.749722Z",
     "iopub.status.idle": "2021-09-05T13:23:37.754598Z",
     "shell.execute_reply": "2021-09-05T13:23:37.755117Z",
     "shell.execute_reply.started": "2021-09-05T13:19:40.772456Z"
    },
    "papermill": {
     "duration": 0.025068,
     "end_time": "2021-09-05T13:23:37.755303",
     "exception": false,
     "start_time": "2021-09-05T13:23:37.730235",
     "status": "completed"
    },
    "tags": []
   },
   "outputs": [
    {
     "data": {
      "application/javascript": [
       "parent.postMessage({\"jupyterEvent\": \"custom.exercise_interaction\", \"data\": {\"outcomeType\": 1, \"valueTowardsCompletion\": 0.3333333333333333, \"interactionType\": 1, \"questionType\": 1, \"questionId\": \"0.1_ZA\", \"learnToolsVersion\": \"0.3.4\", \"failureMessage\": \"\", \"exceptionClass\": \"\", \"trace\": \"\"}}, \"*\")"
      ],
      "text/plain": [
       "<IPython.core.display.Javascript object>"
      ]
     },
     "metadata": {},
     "output_type": "display_data"
    },
    {
     "data": {
      "text/markdown": [
       "<span style=\"color:#33cc33\">Correct:</span> \n",
       "\n",
       "The empty string has length zero. Note that the empty string is also the only string that Python considers as False when converting to boolean."
      ],
      "text/plain": [
       "Correct: \n",
       "\n",
       "The empty string has length zero. Note that the empty string is also the only string that Python considers as False when converting to boolean."
      ]
     },
     "metadata": {},
     "output_type": "display_data"
    }
   ],
   "source": [
    "a = \"\"\n",
    "length = 0\n",
    "q0.a.check()"
   ]
  },
  {
   "cell_type": "markdown",
   "id": "9f6ce147",
   "metadata": {
    "papermill": {
     "duration": 0.013663,
     "end_time": "2021-09-05T13:23:37.783472",
     "exception": false,
     "start_time": "2021-09-05T13:23:37.769809",
     "status": "completed"
    },
    "tags": []
   },
   "source": [
    "# 0b."
   ]
  },
  {
   "cell_type": "code",
   "execution_count": 3,
   "id": "afd5f290",
   "metadata": {
    "execution": {
     "iopub.execute_input": "2021-09-05T13:23:37.818868Z",
     "iopub.status.busy": "2021-09-05T13:23:37.818220Z",
     "iopub.status.idle": "2021-09-05T13:23:37.823126Z",
     "shell.execute_reply": "2021-09-05T13:23:37.823724Z",
     "shell.execute_reply.started": "2021-09-05T13:19:31.035982Z"
    },
    "papermill": {
     "duration": 0.024448,
     "end_time": "2021-09-05T13:23:37.823971",
     "exception": false,
     "start_time": "2021-09-05T13:23:37.799523",
     "status": "completed"
    },
    "tags": []
   },
   "outputs": [
    {
     "data": {
      "application/javascript": [
       "parent.postMessage({\"jupyterEvent\": \"custom.exercise_interaction\", \"data\": {\"outcomeType\": 1, \"valueTowardsCompletion\": 0.3333333333333333, \"interactionType\": 1, \"questionType\": 1, \"questionId\": \"0.2_ZB\", \"learnToolsVersion\": \"0.3.4\", \"failureMessage\": \"\", \"exceptionClass\": \"\", \"trace\": \"\"}}, \"*\")"
      ],
      "text/plain": [
       "<IPython.core.display.Javascript object>"
      ]
     },
     "metadata": {},
     "output_type": "display_data"
    },
    {
     "data": {
      "text/markdown": [
       "<span style=\"color:#33cc33\">Correct:</span> \n",
       "\n",
       "Keep in mind Python includes spaces (and punctuation) when counting string length."
      ],
      "text/plain": [
       "Correct: \n",
       "\n",
       "Keep in mind Python includes spaces (and punctuation) when counting string length."
      ]
     },
     "metadata": {},
     "output_type": "display_data"
    }
   ],
   "source": [
    "b = \"it's ok\"\n",
    "length = 7\n",
    "q0.b.check()"
   ]
  },
  {
   "cell_type": "markdown",
   "id": "eb1b4b44",
   "metadata": {
    "papermill": {
     "duration": 0.01442,
     "end_time": "2021-09-05T13:23:37.854217",
     "exception": false,
     "start_time": "2021-09-05T13:23:37.839797",
     "status": "completed"
    },
    "tags": []
   },
   "source": [
    "# 0c."
   ]
  },
  {
   "cell_type": "code",
   "execution_count": 4,
   "id": "a69f4b3d",
   "metadata": {
    "execution": {
     "iopub.execute_input": "2021-09-05T13:23:37.888948Z",
     "iopub.status.busy": "2021-09-05T13:23:37.888331Z",
     "iopub.status.idle": "2021-09-05T13:23:37.894288Z",
     "shell.execute_reply": "2021-09-05T13:23:37.893586Z",
     "shell.execute_reply.started": "2021-09-05T13:19:53.591254Z"
    },
    "papermill": {
     "duration": 0.025833,
     "end_time": "2021-09-05T13:23:37.894439",
     "exception": false,
     "start_time": "2021-09-05T13:23:37.868606",
     "status": "completed"
    },
    "tags": []
   },
   "outputs": [
    {
     "data": {
      "application/javascript": [
       "parent.postMessage({\"jupyterEvent\": \"custom.exercise_interaction\", \"data\": {\"outcomeType\": 1, \"valueTowardsCompletion\": 0.3333333333333333, \"interactionType\": 1, \"questionType\": 1, \"questionId\": \"0.3_ZC\", \"learnToolsVersion\": \"0.3.4\", \"failureMessage\": \"\", \"exceptionClass\": \"\", \"trace\": \"\"}}, \"*\")"
      ],
      "text/plain": [
       "<IPython.core.display.Javascript object>"
      ]
     },
     "metadata": {},
     "output_type": "display_data"
    },
    {
     "data": {
      "text/markdown": [
       "<span style=\"color:#33cc33\">Correct:</span> \n",
       "\n",
       "Even though we use different syntax to create it, the string `c` is identical to `b`. In particular, note that the backslash is not part of the string, so it doesn't contribute to its length."
      ],
      "text/plain": [
       "Correct: \n",
       "\n",
       "Even though we use different syntax to create it, the string `c` is identical to `b`. In particular, note that the backslash is not part of the string, so it doesn't contribute to its length."
      ]
     },
     "metadata": {},
     "output_type": "display_data"
    }
   ],
   "source": [
    "c = 'it\\'s ok'\n",
    "length = 7\n",
    "q0.c.check()"
   ]
  },
  {
   "cell_type": "markdown",
   "id": "7666ce4e",
   "metadata": {
    "papermill": {
     "duration": 0.015365,
     "end_time": "2021-09-05T13:23:37.926017",
     "exception": false,
     "start_time": "2021-09-05T13:23:37.910652",
     "status": "completed"
    },
    "tags": []
   },
   "source": [
    "# 0d."
   ]
  },
  {
   "cell_type": "code",
   "execution_count": 5,
   "id": "db2d858a",
   "metadata": {
    "execution": {
     "iopub.execute_input": "2021-09-05T13:23:37.965021Z",
     "iopub.status.busy": "2021-09-05T13:23:37.964074Z",
     "iopub.status.idle": "2021-09-05T13:23:37.971306Z",
     "shell.execute_reply": "2021-09-05T13:23:37.970667Z",
     "shell.execute_reply.started": "2021-09-05T13:20:00.985821Z"
    },
    "papermill": {
     "duration": 0.028376,
     "end_time": "2021-09-05T13:23:37.971464",
     "exception": false,
     "start_time": "2021-09-05T13:23:37.943088",
     "status": "completed"
    },
    "tags": []
   },
   "outputs": [
    {
     "data": {
      "application/javascript": [
       "parent.postMessage({\"jupyterEvent\": \"custom.exercise_interaction\", \"data\": {\"outcomeType\": 1, \"valueTowardsCompletion\": 0.3333333333333333, \"interactionType\": 1, \"questionType\": 1, \"questionId\": \"0.4_ZD\", \"learnToolsVersion\": \"0.3.4\", \"failureMessage\": \"\", \"exceptionClass\": \"\", \"trace\": \"\"}}, \"*\")"
      ],
      "text/plain": [
       "<IPython.core.display.Javascript object>"
      ]
     },
     "metadata": {},
     "output_type": "display_data"
    },
    {
     "data": {
      "text/markdown": [
       "<span style=\"color:#33cc33\">Correct:</span> \n",
       "\n",
       "The fact that this string was created using triple-quote syntax doesn't make any difference in terms of its content or length. This string is exactly the same as `'hey'`."
      ],
      "text/plain": [
       "Correct: \n",
       "\n",
       "The fact that this string was created using triple-quote syntax doesn't make any difference in terms of its content or length. This string is exactly the same as `'hey'`."
      ]
     },
     "metadata": {},
     "output_type": "display_data"
    }
   ],
   "source": [
    "d = \"\"\"hey\"\"\"\n",
    "length = 3\n",
    "q0.d.check()"
   ]
  },
  {
   "cell_type": "markdown",
   "id": "e4853ba2",
   "metadata": {
    "papermill": {
     "duration": 0.015222,
     "end_time": "2021-09-05T13:23:38.002126",
     "exception": false,
     "start_time": "2021-09-05T13:23:37.986904",
     "status": "completed"
    },
    "tags": []
   },
   "source": [
    "# 0e."
   ]
  },
  {
   "cell_type": "code",
   "execution_count": 6,
   "id": "81f6e872",
   "metadata": {
    "execution": {
     "iopub.execute_input": "2021-09-05T13:23:38.037240Z",
     "iopub.status.busy": "2021-09-05T13:23:38.036669Z",
     "iopub.status.idle": "2021-09-05T13:23:38.044611Z",
     "shell.execute_reply": "2021-09-05T13:23:38.044101Z",
     "shell.execute_reply.started": "2021-09-05T13:20:07.748557Z"
    },
    "papermill": {
     "duration": 0.02649,
     "end_time": "2021-09-05T13:23:38.044752",
     "exception": false,
     "start_time": "2021-09-05T13:23:38.018262",
     "status": "completed"
    },
    "tags": []
   },
   "outputs": [
    {
     "data": {
      "application/javascript": [
       "parent.postMessage({\"jupyterEvent\": \"custom.exercise_interaction\", \"data\": {\"outcomeType\": 1, \"valueTowardsCompletion\": 0.3333333333333333, \"interactionType\": 1, \"questionType\": 1, \"questionId\": \"0.5_ZE\", \"learnToolsVersion\": \"0.3.4\", \"failureMessage\": \"\", \"exceptionClass\": \"\", \"trace\": \"\"}}, \"*\")"
      ],
      "text/plain": [
       "<IPython.core.display.Javascript object>"
      ]
     },
     "metadata": {},
     "output_type": "display_data"
    },
    {
     "data": {
      "text/markdown": [
       "<span style=\"color:#33cc33\">Correct:</span> \n",
       "\n",
       "The newline character is just a single character! (Even though we represent it to Python using a combination of two characters.)"
      ],
      "text/plain": [
       "Correct: \n",
       "\n",
       "The newline character is just a single character! (Even though we represent it to Python using a combination of two characters.)"
      ]
     },
     "metadata": {},
     "output_type": "display_data"
    }
   ],
   "source": [
    "e = '\\n'\n",
    "length = 1\n",
    "q0.e.check()"
   ]
  },
  {
   "cell_type": "markdown",
   "id": "884069f0",
   "metadata": {
    "papermill": {
     "duration": 0.016086,
     "end_time": "2021-09-05T13:23:38.077469",
     "exception": false,
     "start_time": "2021-09-05T13:23:38.061383",
     "status": "completed"
    },
    "tags": []
   },
   "source": [
    "# 1.\n",
    "\n",
    "There is a saying that \"Data scientists spend 80% of their time cleaning data, and 20% of their time complaining about cleaning data.\" Let's see if you can write a function to help clean US zip code data. Given a string, it should return whether or not that string represents a valid zip code. For our purposes, a valid zip code is any string consisting of exactly 5 digits.\n",
    "\n",
    "HINT: `str` has a method that will be useful here. Use `help(str)` to review a list of string methods."
   ]
  },
  {
   "cell_type": "code",
   "execution_count": 7,
   "id": "44854688",
   "metadata": {
    "execution": {
     "iopub.execute_input": "2021-09-05T13:23:38.118135Z",
     "iopub.status.busy": "2021-09-05T13:23:38.117331Z",
     "iopub.status.idle": "2021-09-05T13:23:38.122618Z",
     "shell.execute_reply": "2021-09-05T13:23:38.122125Z",
     "shell.execute_reply.started": "2021-09-05T13:20:51.754580Z"
    },
    "papermill": {
     "duration": 0.027419,
     "end_time": "2021-09-05T13:23:38.122760",
     "exception": false,
     "start_time": "2021-09-05T13:23:38.095341",
     "status": "completed"
    },
    "tags": []
   },
   "outputs": [
    {
     "data": {
      "application/javascript": [
       "parent.postMessage({\"jupyterEvent\": \"custom.exercise_interaction\", \"data\": {\"outcomeType\": 1, \"valueTowardsCompletion\": 0.3333333333333333, \"interactionType\": 1, \"questionType\": 2, \"questionId\": \"1_ZipValidator\", \"learnToolsVersion\": \"0.3.4\", \"failureMessage\": \"\", \"exceptionClass\": \"\", \"trace\": \"\"}}, \"*\")"
      ],
      "text/plain": [
       "<IPython.core.display.Javascript object>"
      ]
     },
     "metadata": {},
     "output_type": "display_data"
    },
    {
     "data": {
      "text/markdown": [
       "<span style=\"color:#33cc33\">Correct</span>"
      ],
      "text/plain": [
       "Correct"
      ]
     },
     "metadata": {},
     "output_type": "display_data"
    }
   ],
   "source": [
    "def is_valid_zip(zip_code):\n",
    "    \"\"\"Returns whether the input string is a valid (5 digit) zip code\n",
    "    \"\"\"\n",
    "    return len(zip_code) == 5 and zip_code.isdigit()\n",
    "\n",
    "# Check your answer\n",
    "q1.check()"
   ]
  },
  {
   "cell_type": "code",
   "execution_count": 8,
   "id": "0caae01a",
   "metadata": {
    "execution": {
     "iopub.execute_input": "2021-09-05T13:23:38.166590Z",
     "iopub.status.busy": "2021-09-05T13:23:38.165945Z",
     "iopub.status.idle": "2021-09-05T13:23:38.168194Z",
     "shell.execute_reply": "2021-09-05T13:23:38.168669Z",
     "shell.execute_reply.started": "2021-09-05T13:20:56.942157Z"
    },
    "papermill": {
     "duration": 0.026434,
     "end_time": "2021-09-05T13:23:38.168837",
     "exception": false,
     "start_time": "2021-09-05T13:23:38.142403",
     "status": "completed"
    },
    "tags": []
   },
   "outputs": [],
   "source": [
    "#q1.hint()\n",
    "#q1.solution()"
   ]
  },
  {
   "cell_type": "markdown",
   "id": "b3bf06b4",
   "metadata": {
    "papermill": {
     "duration": 0.028083,
     "end_time": "2021-09-05T13:23:38.220065",
     "exception": false,
     "start_time": "2021-09-05T13:23:38.191982",
     "status": "completed"
    },
    "tags": []
   },
   "source": [
    "# 2.\n",
    "\n",
    "A researcher has gathered thousands of news articles. But she wants to focus her attention on articles including a specific word. Complete the function below to help her filter her list of articles.\n",
    "\n",
    "Your function should meet the following criteria:\n",
    "\n",
    "- Do not include documents where the keyword string shows up only as a part of a larger word. For example, if she were looking for the keyword “closed”, you would not include the string “enclosed.” \n",
    "- She does not want you to distinguish upper case from lower case letters. So the phrase “Closed the case.” would be included when the keyword is “closed”\n",
    "- Do not let periods or commas affect what is matched. “It is closed.” would be included when the keyword is “closed”. But you can assume there are no other types of punctuation."
   ]
  },
  {
   "cell_type": "code",
   "execution_count": 9,
   "id": "c4351712",
   "metadata": {
    "execution": {
     "iopub.execute_input": "2021-09-05T13:23:38.272165Z",
     "iopub.status.busy": "2021-09-05T13:23:38.271125Z",
     "iopub.status.idle": "2021-09-05T13:23:38.282846Z",
     "shell.execute_reply": "2021-09-05T13:23:38.282055Z",
     "shell.execute_reply.started": "2021-09-05T13:22:38.031043Z"
    },
    "papermill": {
     "duration": 0.037125,
     "end_time": "2021-09-05T13:23:38.283041",
     "exception": false,
     "start_time": "2021-09-05T13:23:38.245916",
     "status": "completed"
    },
    "tags": []
   },
   "outputs": [
    {
     "data": {
      "application/javascript": [
       "parent.postMessage({\"jupyterEvent\": \"custom.exercise_interaction\", \"data\": {\"outcomeType\": 1, \"valueTowardsCompletion\": 0.3333333333333333, \"interactionType\": 1, \"questionType\": 2, \"questionId\": \"2_WordSearch\", \"learnToolsVersion\": \"0.3.4\", \"failureMessage\": \"\", \"exceptionClass\": \"\", \"trace\": \"\"}}, \"*\")"
      ],
      "text/plain": [
       "<IPython.core.display.Javascript object>"
      ]
     },
     "metadata": {},
     "output_type": "display_data"
    },
    {
     "data": {
      "text/markdown": [
       "<span style=\"color:#33cc33\">Correct</span>"
      ],
      "text/plain": [
       "Correct"
      ]
     },
     "metadata": {},
     "output_type": "display_data"
    }
   ],
   "source": [
    "def word_search(documents, keyword):\n",
    "    indices = []\n",
    "    for i, doc in enumerate(documents):\n",
    "        tokens = doc.split()\n",
    "        normalized = [token.rstrip('.,').lower() for token in tokens]\n",
    "        if keyword.lower() in normalized:\n",
    "            indices.append(i)\n",
    "    return indices\n",
    "q2.check()"
   ]
  },
  {
   "cell_type": "code",
   "execution_count": 10,
   "id": "4623343d",
   "metadata": {
    "execution": {
     "iopub.execute_input": "2021-09-05T13:23:38.330686Z",
     "iopub.status.busy": "2021-09-05T13:23:38.330035Z",
     "iopub.status.idle": "2021-09-05T13:23:38.333899Z",
     "shell.execute_reply": "2021-09-05T13:23:38.333353Z"
    },
    "papermill": {
     "duration": 0.026912,
     "end_time": "2021-09-05T13:23:38.334042",
     "exception": false,
     "start_time": "2021-09-05T13:23:38.307130",
     "status": "completed"
    },
    "tags": []
   },
   "outputs": [],
   "source": [
    "#q2.hint()\n",
    "#q2.solution()"
   ]
  },
  {
   "cell_type": "markdown",
   "id": "941a9118",
   "metadata": {
    "papermill": {
     "duration": 0.019128,
     "end_time": "2021-09-05T13:23:38.371956",
     "exception": false,
     "start_time": "2021-09-05T13:23:38.352828",
     "status": "completed"
    },
    "tags": []
   },
   "source": [
    "# 3.\n",
    "\n",
    "Now the researcher wants to supply multiple keywords to search for. Complete the function below to help her.\n",
    "\n",
    "(You're encouraged to use the `word_search` function you just wrote when implementing this function. Reusing code in this way makes your programs more robust and readable - and it saves typing!)"
   ]
  },
  {
   "cell_type": "code",
   "execution_count": 11,
   "id": "d109275e",
   "metadata": {
    "execution": {
     "iopub.execute_input": "2021-09-05T13:23:38.416748Z",
     "iopub.status.busy": "2021-09-05T13:23:38.415941Z",
     "iopub.status.idle": "2021-09-05T13:23:38.422236Z",
     "shell.execute_reply": "2021-09-05T13:23:38.421709Z",
     "shell.execute_reply.started": "2021-09-05T13:23:14.410204Z"
    },
    "papermill": {
     "duration": 0.03074,
     "end_time": "2021-09-05T13:23:38.422381",
     "exception": false,
     "start_time": "2021-09-05T13:23:38.391641",
     "status": "completed"
    },
    "tags": []
   },
   "outputs": [
    {
     "data": {
      "application/javascript": [
       "parent.postMessage({\"jupyterEvent\": \"custom.exercise_interaction\", \"data\": {\"outcomeType\": 1, \"valueTowardsCompletion\": 0.3333333333333333, \"interactionType\": 1, \"questionType\": 2, \"questionId\": \"3_MultiWordSearch\", \"learnToolsVersion\": \"0.3.4\", \"failureMessage\": \"\", \"exceptionClass\": \"\", \"trace\": \"\"}}, \"*\")"
      ],
      "text/plain": [
       "<IPython.core.display.Javascript object>"
      ]
     },
     "metadata": {},
     "output_type": "display_data"
    },
    {
     "data": {
      "text/markdown": [
       "<span style=\"color:#33cc33\">Correct</span>"
      ],
      "text/plain": [
       "Correct"
      ]
     },
     "metadata": {},
     "output_type": "display_data"
    }
   ],
   "source": [
    "def multi_word_search(documents, keywords):\n",
    "    keyword_to_indices = {}\n",
    "    for keyword in keywords:\n",
    "        keyword_to_indices[keyword] = word_search(documents, keyword)\n",
    "    return keyword_to_indices\n",
    "q3.check()"
   ]
  },
  {
   "cell_type": "code",
   "execution_count": 12,
   "id": "a4a4b5c0",
   "metadata": {
    "execution": {
     "iopub.execute_input": "2021-09-05T13:23:38.467463Z",
     "iopub.status.busy": "2021-09-05T13:23:38.466872Z",
     "iopub.status.idle": "2021-09-05T13:23:38.469835Z",
     "shell.execute_reply": "2021-09-05T13:23:38.469201Z"
    },
    "papermill": {
     "duration": 0.027107,
     "end_time": "2021-09-05T13:23:38.470001",
     "exception": false,
     "start_time": "2021-09-05T13:23:38.442894",
     "status": "completed"
    },
    "tags": []
   },
   "outputs": [],
   "source": [
    "#q3.solution()"
   ]
  },
  {
   "cell_type": "markdown",
   "id": "ec9d8728",
   "metadata": {
    "papermill": {
     "duration": 0.019747,
     "end_time": "2021-09-05T13:23:38.510884",
     "exception": false,
     "start_time": "2021-09-05T13:23:38.491137",
     "status": "completed"
    },
    "tags": []
   },
   "source": [
    "# Keep Going\n",
    "\n",
    "You've learned a lot. But even the best programmers rely heavily on \"libraries\" of code from other programmers. You'll learn about that in **[the last lesson](https://www.kaggle.com/colinmorris/working-with-external-libraries)**.\n"
   ]
  },
  {
   "cell_type": "markdown",
   "id": "ac483175",
   "metadata": {
    "papermill": {
     "duration": 0.01998,
     "end_time": "2021-09-05T13:23:38.551216",
     "exception": false,
     "start_time": "2021-09-05T13:23:38.531236",
     "status": "completed"
    },
    "tags": []
   },
   "source": [
    "---\n",
    "\n",
    "\n",
    "\n",
    "\n",
    "*Have questions or comments? Visit the [Learn Discussion forum](https://www.kaggle.com/learn-forum/161283) to chat with other Learners.*"
   ]
  }
 ],
 "metadata": {
  "kernelspec": {
   "display_name": "Python 3",
   "language": "python",
   "name": "python3"
  },
  "language_info": {
   "codemirror_mode": {
    "name": "ipython",
    "version": 3
   },
   "file_extension": ".py",
   "mimetype": "text/x-python",
   "name": "python",
   "nbconvert_exporter": "python",
   "pygments_lexer": "ipython3",
   "version": "3.7.10"
  },
  "papermill": {
   "default_parameters": {},
   "duration": 9.730529,
   "end_time": "2021-09-05T13:23:39.280872",
   "environment_variables": {},
   "exception": null,
   "input_path": "__notebook__.ipynb",
   "output_path": "__notebook__.ipynb",
   "parameters": {},
   "start_time": "2021-09-05T13:23:29.550343",
   "version": "2.3.3"
  }
 },
 "nbformat": 4,
 "nbformat_minor": 5
}
