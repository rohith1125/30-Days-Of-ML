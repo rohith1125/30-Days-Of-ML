{
 "cells": [
  {
   "cell_type": "markdown",
   "id": "dcbc8701",
   "metadata": {
    "papermill": {
     "duration": 0.022585,
     "end_time": "2021-09-05T11:40:44.756507",
     "exception": false,
     "start_time": "2021-09-05T11:40:44.733922",
     "status": "completed"
    },
    "tags": []
   },
   "source": [
    "**This notebook is an exercise in the [Python](https://www.kaggle.com/learn/python) course.  You can reference the tutorial at [this link](https://www.kaggle.com/colinmorris/booleans-and-conditionals).**\n",
    "\n",
    "---\n"
   ]
  },
  {
   "cell_type": "markdown",
   "id": "f8a78287",
   "metadata": {
    "papermill": {
     "duration": 0.020285,
     "end_time": "2021-09-05T11:40:44.800073",
     "exception": false,
     "start_time": "2021-09-05T11:40:44.779788",
     "status": "completed"
    },
    "tags": []
   },
   "source": [
    "In this exercise, you'll put to work what you have learned about booleans and conditionals.\n",
    "\n",
    "To get started, **run the setup code below** before writing your own code (and if you leave this notebook and come back later, don't forget to run the setup code again)."
   ]
  },
  {
   "cell_type": "code",
   "execution_count": 1,
   "id": "ba535868",
   "metadata": {
    "execution": {
     "iopub.execute_input": "2021-09-05T11:40:44.851216Z",
     "iopub.status.busy": "2021-09-05T11:40:44.850130Z",
     "iopub.status.idle": "2021-09-05T11:40:44.981213Z",
     "shell.execute_reply": "2021-09-05T11:40:44.980349Z",
     "shell.execute_reply.started": "2021-09-05T11:31:34.753275Z"
    },
    "papermill": {
     "duration": 0.159786,
     "end_time": "2021-09-05T11:40:44.981435",
     "exception": false,
     "start_time": "2021-09-05T11:40:44.821649",
     "status": "completed"
    },
    "tags": []
   },
   "outputs": [
    {
     "name": "stdout",
     "output_type": "stream",
     "text": [
      "Setup complete.\n"
     ]
    }
   ],
   "source": [
    "from learntools.core import binder; binder.bind(globals())\n",
    "from learntools.python.ex3 import *\n",
    "print('Setup complete.')"
   ]
  },
  {
   "cell_type": "markdown",
   "id": "cb097b46",
   "metadata": {
    "papermill": {
     "duration": 0.021079,
     "end_time": "2021-09-05T11:40:45.024809",
     "exception": false,
     "start_time": "2021-09-05T11:40:45.003730",
     "status": "completed"
    },
    "tags": []
   },
   "source": [
    "# 1.\n",
    "\n",
    "Many programming languages have [`sign`](https://en.wikipedia.org/wiki/Sign_function) available as a built-in function. Python doesn't, but we can define our own!\n",
    "\n",
    "In the cell below, define a function called `sign` which takes a numerical argument and returns -1 if it's negative, 1 if it's positive, and 0 if it's 0."
   ]
  },
  {
   "cell_type": "code",
   "execution_count": 2,
   "id": "08344b71",
   "metadata": {
    "execution": {
     "iopub.execute_input": "2021-09-05T11:40:45.075360Z",
     "iopub.status.busy": "2021-09-05T11:40:45.074367Z",
     "iopub.status.idle": "2021-09-05T11:40:45.081142Z",
     "shell.execute_reply": "2021-09-05T11:40:45.080577Z",
     "shell.execute_reply.started": "2021-09-05T11:33:04.253304Z"
    },
    "papermill": {
     "duration": 0.034997,
     "end_time": "2021-09-05T11:40:45.081299",
     "exception": false,
     "start_time": "2021-09-05T11:40:45.046302",
     "status": "completed"
    },
    "tags": []
   },
   "outputs": [
    {
     "data": {
      "application/javascript": [
       "parent.postMessage({\"jupyterEvent\": \"custom.exercise_interaction\", \"data\": {\"outcomeType\": 1, \"valueTowardsCompletion\": 0.2, \"interactionType\": 1, \"questionType\": 2, \"questionId\": \"1_SignFunctionProblem\", \"learnToolsVersion\": \"0.3.4\", \"failureMessage\": \"\", \"exceptionClass\": \"\", \"trace\": \"\"}}, \"*\")"
      ],
      "text/plain": [
       "<IPython.core.display.Javascript object>"
      ]
     },
     "metadata": {},
     "output_type": "display_data"
    },
    {
     "data": {
      "text/markdown": [
       "<span style=\"color:#33cc33\">Correct</span>"
      ],
      "text/plain": [
       "Correct"
      ]
     },
     "metadata": {},
     "output_type": "display_data"
    }
   ],
   "source": [
    "# Your code goes here. Define a function called 'sign'\n",
    "def sign(num):\n",
    "    if num>0:\n",
    "        return 1\n",
    "    elif num < 0:\n",
    "        return -1\n",
    "    else:\n",
    "        return 0\n",
    "# Check your answer\n",
    "q1.check()"
   ]
  },
  {
   "cell_type": "code",
   "execution_count": 3,
   "id": "9e65ca3f",
   "metadata": {
    "execution": {
     "iopub.execute_input": "2021-09-05T11:40:45.130963Z",
     "iopub.status.busy": "2021-09-05T11:40:45.130362Z",
     "iopub.status.idle": "2021-09-05T11:40:45.133460Z",
     "shell.execute_reply": "2021-09-05T11:40:45.132882Z"
    },
    "papermill": {
     "duration": 0.029929,
     "end_time": "2021-09-05T11:40:45.133592",
     "exception": false,
     "start_time": "2021-09-05T11:40:45.103663",
     "status": "completed"
    },
    "tags": []
   },
   "outputs": [],
   "source": [
    "#q1.solution()"
   ]
  },
  {
   "cell_type": "markdown",
   "id": "9090164a",
   "metadata": {
    "papermill": {
     "duration": 0.021632,
     "end_time": "2021-09-05T11:40:45.178222",
     "exception": false,
     "start_time": "2021-09-05T11:40:45.156590",
     "status": "completed"
    },
    "tags": []
   },
   "source": [
    "# 2.\n",
    "\n",
    "We've decided to add \"logging\" to our `to_smash` function from the previous exercise."
   ]
  },
  {
   "cell_type": "code",
   "execution_count": 4,
   "id": "8c95405e",
   "metadata": {
    "execution": {
     "iopub.execute_input": "2021-09-05T11:40:45.231093Z",
     "iopub.status.busy": "2021-09-05T11:40:45.230298Z",
     "iopub.status.idle": "2021-09-05T11:40:45.235198Z",
     "shell.execute_reply": "2021-09-05T11:40:45.234510Z",
     "shell.execute_reply.started": "2021-09-05T11:34:20.644615Z"
    },
    "papermill": {
     "duration": 0.031966,
     "end_time": "2021-09-05T11:40:45.235376",
     "exception": false,
     "start_time": "2021-09-05T11:40:45.203410",
     "status": "completed"
    },
    "tags": []
   },
   "outputs": [
    {
     "name": "stdout",
     "output_type": "stream",
     "text": [
      "Splitting 91 candies\n"
     ]
    },
    {
     "data": {
      "text/plain": [
       "1"
      ]
     },
     "execution_count": 4,
     "metadata": {},
     "output_type": "execute_result"
    }
   ],
   "source": [
    "def to_smash(total_candies):\n",
    "    \"\"\"Return the number of leftover candies that must be smashed after distributing\n",
    "    the given number of candies evenly between 3 friends.\n",
    "    \n",
    "    >>> to_smash(91)\n",
    "    1\n",
    "    \"\"\"\n",
    "    print(\"Splitting\", total_candies, \"candies\")\n",
    "    return total_candies % 3\n",
    "\n",
    "to_smash(91)"
   ]
  },
  {
   "cell_type": "markdown",
   "id": "5e486aa9",
   "metadata": {
    "papermill": {
     "duration": 0.022146,
     "end_time": "2021-09-05T11:40:45.280470",
     "exception": false,
     "start_time": "2021-09-05T11:40:45.258324",
     "status": "completed"
    },
    "tags": []
   },
   "source": [
    "What happens if we call it with `total_candies = 1`?"
   ]
  },
  {
   "cell_type": "code",
   "execution_count": 5,
   "id": "8d0703f9",
   "metadata": {
    "execution": {
     "iopub.execute_input": "2021-09-05T11:40:45.330576Z",
     "iopub.status.busy": "2021-09-05T11:40:45.329763Z",
     "iopub.status.idle": "2021-09-05T11:40:45.334872Z",
     "shell.execute_reply": "2021-09-05T11:40:45.335468Z",
     "shell.execute_reply.started": "2021-09-05T11:34:29.458040Z"
    },
    "papermill": {
     "duration": 0.032846,
     "end_time": "2021-09-05T11:40:45.335682",
     "exception": false,
     "start_time": "2021-09-05T11:40:45.302836",
     "status": "completed"
    },
    "tags": []
   },
   "outputs": [
    {
     "name": "stdout",
     "output_type": "stream",
     "text": [
      "Splitting 1 candies\n"
     ]
    },
    {
     "data": {
      "text/plain": [
       "1"
      ]
     },
     "execution_count": 5,
     "metadata": {},
     "output_type": "execute_result"
    }
   ],
   "source": [
    "to_smash(1)"
   ]
  },
  {
   "cell_type": "markdown",
   "id": "a3741d47",
   "metadata": {
    "papermill": {
     "duration": 0.023745,
     "end_time": "2021-09-05T11:40:45.382779",
     "exception": false,
     "start_time": "2021-09-05T11:40:45.359034",
     "status": "completed"
    },
    "tags": []
   },
   "source": [
    "That isn't great grammar!\n",
    "\n",
    "Modify the definition in the cell below to correct the grammar of our print statement. (If there's only one candy, we should use the singular \"candy\" instead of the plural \"candies\")"
   ]
  },
  {
   "cell_type": "code",
   "execution_count": 6,
   "id": "f57e0239",
   "metadata": {
    "execution": {
     "iopub.execute_input": "2021-09-05T11:40:45.435743Z",
     "iopub.status.busy": "2021-09-05T11:40:45.434778Z",
     "iopub.status.idle": "2021-09-05T11:40:45.439989Z",
     "shell.execute_reply": "2021-09-05T11:40:45.440436Z",
     "shell.execute_reply.started": "2021-09-05T11:37:29.623550Z"
    },
    "papermill": {
     "duration": 0.03475,
     "end_time": "2021-09-05T11:40:45.440608",
     "exception": false,
     "start_time": "2021-09-05T11:40:45.405858",
     "status": "completed"
    },
    "tags": []
   },
   "outputs": [
    {
     "name": "stdout",
     "output_type": "stream",
     "text": [
      "splitting 91 candies\n",
      "splitting 1 candy\n"
     ]
    },
    {
     "data": {
      "text/plain": [
       "1"
      ]
     },
     "execution_count": 6,
     "metadata": {},
     "output_type": "execute_result"
    }
   ],
   "source": [
    "def to_smash(total_candies):\n",
    "    \"\"\"Return the number of leftover candies that must be smashed after distributing\n",
    "    the given number of candies evenly between 3 friends.\n",
    "    \n",
    "    >>> to_smash(91)\n",
    "    1\n",
    "    \"\"\"\n",
    "    if total_candies == 1:\n",
    "        print(\"splitting 1 candy\")\n",
    "    else:\n",
    "        print(\"splitting\", total_candies, \"candies\")\n",
    "        \n",
    "    #print(\"Splitting\", total_candies, \"candy\" if total_candies == 1 else \"candies\")\n",
    "    return total_candies % 3\n",
    "\n",
    "to_smash(91)\n",
    "to_smash(1)"
   ]
  },
  {
   "cell_type": "markdown",
   "id": "0b6e07fd",
   "metadata": {
    "papermill": {
     "duration": 0.024108,
     "end_time": "2021-09-05T11:40:45.489644",
     "exception": false,
     "start_time": "2021-09-05T11:40:45.465536",
     "status": "completed"
    },
    "tags": []
   },
   "source": [
    "To get credit for completing this problem, and to see the official answer, run the code cell below."
   ]
  },
  {
   "cell_type": "code",
   "execution_count": 7,
   "id": "eb2198b8",
   "metadata": {
    "execution": {
     "iopub.execute_input": "2021-09-05T11:40:45.545459Z",
     "iopub.status.busy": "2021-09-05T11:40:45.544141Z",
     "iopub.status.idle": "2021-09-05T11:40:45.550439Z",
     "shell.execute_reply": "2021-09-05T11:40:45.549706Z",
     "shell.execute_reply.started": "2021-09-05T11:35:10.206663Z"
    },
    "papermill": {
     "duration": 0.036009,
     "end_time": "2021-09-05T11:40:45.550619",
     "exception": false,
     "start_time": "2021-09-05T11:40:45.514610",
     "status": "completed"
    },
    "tags": []
   },
   "outputs": [
    {
     "data": {
      "application/javascript": [
       "parent.postMessage({\"jupyterEvent\": \"custom.exercise_interaction\", \"data\": {\"interactionType\": 3, \"questionType\": 4, \"questionId\": \"2_PluralizationProblem\", \"learnToolsVersion\": \"0.3.4\", \"valueTowardsCompletion\": 0.0, \"failureMessage\": \"\", \"exceptionClass\": \"\", \"trace\": \"\", \"outcomeType\": 4}}, \"*\")"
      ],
      "text/plain": [
       "<IPython.core.display.Javascript object>"
      ]
     },
     "metadata": {},
     "output_type": "display_data"
    },
    {
     "data": {
      "text/markdown": [
       "<span style=\"color:#33cc99\">Solution:</span> A straightforward (and totally fine) solution is to replace the original `print` call with:\n",
       "\n",
       "```python\n",
       "if total_candies == 1:\n",
       "    print(\"Splitting 1 candy\")\n",
       "else:\n",
       "    print(\"Splitting\", total_candies, \"candies\")\n",
       "```\n",
       "\n",
       "Here's a slightly more succinct solution using a conditional expression:\n",
       "\n",
       "```python\n",
       "print(\"Splitting\", total_candies, \"candy\" if total_candies == 1 else \"candies\")\n",
       "```"
      ],
      "text/plain": [
       "Solution: A straightforward (and totally fine) solution is to replace the original `print` call with:\n",
       "\n",
       "```python\n",
       "if total_candies == 1:\n",
       "    print(\"Splitting 1 candy\")\n",
       "else:\n",
       "    print(\"Splitting\", total_candies, \"candies\")\n",
       "```\n",
       "\n",
       "Here's a slightly more succinct solution using a conditional expression:\n",
       "\n",
       "```python\n",
       "print(\"Splitting\", total_candies, \"candy\" if total_candies == 1 else \"candies\")\n",
       "```"
      ]
     },
     "metadata": {},
     "output_type": "display_data"
    }
   ],
   "source": [
    "# Check your answer (Run this code cell to receive credit!)\n",
    "q2.solution()"
   ]
  },
  {
   "cell_type": "markdown",
   "id": "93e370a3",
   "metadata": {
    "papermill": {
     "duration": 0.028962,
     "end_time": "2021-09-05T11:40:45.611624",
     "exception": false,
     "start_time": "2021-09-05T11:40:45.582662",
     "status": "completed"
    },
    "tags": []
   },
   "source": [
    "# 3. <span title=\"A bit spicy\" style=\"color: darkgreen \">🌶️</span>\n",
    "\n",
    "In the tutorial, we talked about deciding whether we're prepared for the weather. I said that I'm safe from today's weather if...\n",
    "- I have an umbrella...\n",
    "- or if the rain isn't too heavy and I have a hood...\n",
    "- otherwise, I'm still fine unless it's raining *and* it's a workday\n",
    "\n",
    "The function below uses our first attempt at turning this logic into a Python expression. I claimed that there was a bug in that code. Can you find it?\n",
    "\n",
    "To prove that `prepared_for_weather` is buggy, come up with a set of inputs where either:\n",
    "- the function returns `False` (but should have returned `True`), or\n",
    "- the function returned `True` (but should have returned `False`).\n",
    "\n",
    "To get credit for completing this question, your code should return a <font color='#33cc33'>Correct</font> result."
   ]
  },
  {
   "cell_type": "code",
   "execution_count": 8,
   "id": "4e6d2c71",
   "metadata": {
    "execution": {
     "iopub.execute_input": "2021-09-05T11:40:45.671481Z",
     "iopub.status.busy": "2021-09-05T11:40:45.670847Z",
     "iopub.status.idle": "2021-09-05T11:40:45.680937Z",
     "shell.execute_reply": "2021-09-05T11:40:45.680441Z",
     "shell.execute_reply.started": "2021-09-05T11:37:57.011368Z"
    },
    "papermill": {
     "duration": 0.03741,
     "end_time": "2021-09-05T11:40:45.681068",
     "exception": false,
     "start_time": "2021-09-05T11:40:45.643658",
     "status": "completed"
    },
    "tags": []
   },
   "outputs": [
    {
     "name": "stdout",
     "output_type": "stream",
     "text": [
      "False\n"
     ]
    },
    {
     "data": {
      "application/javascript": [
       "parent.postMessage({\"jupyterEvent\": \"custom.exercise_interaction\", \"data\": {\"outcomeType\": 1, \"valueTowardsCompletion\": 0.2, \"interactionType\": 1, \"questionType\": 1, \"questionId\": \"3_WeatherDebug\", \"learnToolsVersion\": \"0.3.4\", \"failureMessage\": \"\", \"exceptionClass\": \"\", \"trace\": \"\"}}, \"*\")"
      ],
      "text/plain": [
       "<IPython.core.display.Javascript object>"
      ]
     },
     "metadata": {},
     "output_type": "display_data"
    },
    {
     "data": {
      "text/markdown": [
       "<span style=\"color:#33cc33\">Correct:</span> \n",
       "\n",
       "One example of a failing test case is:\n",
       "\n",
       "```python\n",
       "have_umbrella = False\n",
       "rain_level = 0.0\n",
       "have_hood = False\n",
       "is_workday = False\n",
       "```\n",
       "\n",
       "Clearly we're prepared for the weather in this case. It's not raining. Not only that, it's not a workday, so we don't even need to leave the house! But our function will return False on these inputs.\n",
       "\n",
       "The key problem is that Python implictly parenthesizes the last part as:\n",
       "\n",
       "```python\n",
       "(not (rain_level > 0)) and is_workday\n",
       "```\n",
       "\n",
       "Whereas what we were trying to express would look more like:\n",
       "\n",
       "```python\n",
       "not (rain_level > 0 and is_workday)\n",
       "```\n"
      ],
      "text/plain": [
       "Correct: \n",
       "\n",
       "One example of a failing test case is:\n",
       "\n",
       "```python\n",
       "have_umbrella = False\n",
       "rain_level = 0.0\n",
       "have_hood = False\n",
       "is_workday = False\n",
       "```\n",
       "\n",
       "Clearly we're prepared for the weather in this case. It's not raining. Not only that, it's not a workday, so we don't even need to leave the house! But our function will return False on these inputs.\n",
       "\n",
       "The key problem is that Python implictly parenthesizes the last part as:\n",
       "\n",
       "```python\n",
       "(not (rain_level > 0)) and is_workday\n",
       "```\n",
       "\n",
       "Whereas what we were trying to express would look more like:\n",
       "\n",
       "```python\n",
       "not (rain_level > 0 and is_workday)\n",
       "```"
      ]
     },
     "metadata": {},
     "output_type": "display_data"
    }
   ],
   "source": [
    "def prepared_for_weather(have_umbrella, rain_level, have_hood, is_workday):\n",
    "    # Don't change this code. Our goal is just to find the bug, not fix it!\n",
    "    return have_umbrella or rain_level < 5 and have_hood or not rain_level > 0 and is_workday\n",
    "\n",
    "# Change the values of these inputs so they represent a case where prepared_for_weather\n",
    "# returns the wrong answer.\n",
    "have_umbrella = False\n",
    "rain_level = 0.0\n",
    "have_hood = False\n",
    "is_workday = False\n",
    "\n",
    "# Check what the function returns given the current values of the variables above\n",
    "actual = prepared_for_weather(have_umbrella, rain_level, have_hood, is_workday)\n",
    "print(actual)\n",
    "\n",
    "# Check your answer\n",
    "q3.check()"
   ]
  },
  {
   "cell_type": "code",
   "execution_count": 9,
   "id": "26054190",
   "metadata": {
    "execution": {
     "iopub.execute_input": "2021-09-05T11:40:45.736914Z",
     "iopub.status.busy": "2021-09-05T11:40:45.736351Z",
     "iopub.status.idle": "2021-09-05T11:40:45.739602Z",
     "shell.execute_reply": "2021-09-05T11:40:45.740329Z"
    },
    "papermill": {
     "duration": 0.033069,
     "end_time": "2021-09-05T11:40:45.740561",
     "exception": false,
     "start_time": "2021-09-05T11:40:45.707492",
     "status": "completed"
    },
    "tags": []
   },
   "outputs": [],
   "source": [
    "#q3.hint()\n",
    "#q3.solution()"
   ]
  },
  {
   "cell_type": "markdown",
   "id": "08fe1e49",
   "metadata": {
    "papermill": {
     "duration": 0.033626,
     "end_time": "2021-09-05T11:40:45.813757",
     "exception": false,
     "start_time": "2021-09-05T11:40:45.780131",
     "status": "completed"
    },
    "tags": []
   },
   "source": [
    "# 4.\n",
    "\n",
    "The function `is_negative` below is implemented correctly - it returns True if the given number is negative and False otherwise.\n",
    "\n",
    "However, it's more verbose than it needs to be. We can actually reduce the number of lines of code in this function by *75%* while keeping the same behaviour. \n",
    "\n",
    "See if you can come up with an equivalent body that uses just **one line** of code, and put it in the function `concise_is_negative`. (HINT: you don't even need Python's ternary syntax)"
   ]
  },
  {
   "cell_type": "code",
   "execution_count": 10,
   "id": "16265866",
   "metadata": {
    "execution": {
     "iopub.execute_input": "2021-09-05T11:40:45.874869Z",
     "iopub.status.busy": "2021-09-05T11:40:45.874229Z",
     "iopub.status.idle": "2021-09-05T11:40:45.879649Z",
     "shell.execute_reply": "2021-09-05T11:40:45.879116Z",
     "shell.execute_reply.started": "2021-09-05T11:38:12.266958Z"
    },
    "papermill": {
     "duration": 0.039051,
     "end_time": "2021-09-05T11:40:45.879804",
     "exception": false,
     "start_time": "2021-09-05T11:40:45.840753",
     "status": "completed"
    },
    "tags": []
   },
   "outputs": [
    {
     "data": {
      "application/javascript": [
       "parent.postMessage({\"jupyterEvent\": \"custom.exercise_interaction\", \"data\": {\"outcomeType\": 1, \"valueTowardsCompletion\": 0.2, \"interactionType\": 1, \"questionType\": 2, \"questionId\": \"4_ConciseIsNegative\", \"learnToolsVersion\": \"0.3.4\", \"failureMessage\": \"\", \"exceptionClass\": \"\", \"trace\": \"\"}}, \"*\")"
      ],
      "text/plain": [
       "<IPython.core.display.Javascript object>"
      ]
     },
     "metadata": {},
     "output_type": "display_data"
    },
    {
     "data": {
      "text/markdown": [
       "<span style=\"color:#33cc33\">Correct</span>"
      ],
      "text/plain": [
       "Correct"
      ]
     },
     "metadata": {},
     "output_type": "display_data"
    }
   ],
   "source": [
    "def is_negative(number):\n",
    "    if number < 0:\n",
    "        return True\n",
    "    else:\n",
    "        return False\n",
    "\n",
    "def concise_is_negative(number):\n",
    "   return number < 0 # Your code goes here (try to keep it to one line!)\n",
    "\n",
    "# Check your answer\n",
    "q4.check()"
   ]
  },
  {
   "cell_type": "code",
   "execution_count": 11,
   "id": "ae1faedf",
   "metadata": {
    "execution": {
     "iopub.execute_input": "2021-09-05T11:40:45.939624Z",
     "iopub.status.busy": "2021-09-05T11:40:45.938939Z",
     "iopub.status.idle": "2021-09-05T11:40:45.941287Z",
     "shell.execute_reply": "2021-09-05T11:40:45.940702Z"
    },
    "papermill": {
     "duration": 0.033931,
     "end_time": "2021-09-05T11:40:45.941420",
     "exception": false,
     "start_time": "2021-09-05T11:40:45.907489",
     "status": "completed"
    },
    "tags": []
   },
   "outputs": [],
   "source": [
    "#q4.hint()\n",
    "#q4.solution()"
   ]
  },
  {
   "cell_type": "markdown",
   "id": "4e2e026e",
   "metadata": {
    "papermill": {
     "duration": 0.035203,
     "end_time": "2021-09-05T11:40:46.004263",
     "exception": false,
     "start_time": "2021-09-05T11:40:45.969060",
     "status": "completed"
    },
    "tags": []
   },
   "source": [
    "# 5a.\n",
    "\n",
    "The boolean variables `ketchup`, `mustard` and `onion` represent whether a customer wants a particular topping on their hot dog. We want to implement a number of boolean functions that correspond to some yes-or-no questions about the customer's order. For example:"
   ]
  },
  {
   "cell_type": "code",
   "execution_count": 12,
   "id": "4dce004f",
   "metadata": {
    "execution": {
     "iopub.execute_input": "2021-09-05T11:40:46.069559Z",
     "iopub.status.busy": "2021-09-05T11:40:46.068683Z",
     "iopub.status.idle": "2021-09-05T11:40:46.074116Z",
     "shell.execute_reply": "2021-09-05T11:40:46.074614Z",
     "shell.execute_reply.started": "2021-09-05T11:38:26.626965Z"
    },
    "papermill": {
     "duration": 0.03664,
     "end_time": "2021-09-05T11:40:46.074781",
     "exception": false,
     "start_time": "2021-09-05T11:40:46.038141",
     "status": "completed"
    },
    "tags": []
   },
   "outputs": [],
   "source": [
    "def onionless(ketchup, mustard, onion):\n",
    "    \"\"\"Return whether the customer doesn't want onions.\n",
    "    \"\"\"\n",
    "    return not onion"
   ]
  },
  {
   "cell_type": "code",
   "execution_count": 13,
   "id": "d6cc778d",
   "metadata": {
    "execution": {
     "iopub.execute_input": "2021-09-05T11:40:46.135487Z",
     "iopub.status.busy": "2021-09-05T11:40:46.134674Z",
     "iopub.status.idle": "2021-09-05T11:40:46.140214Z",
     "shell.execute_reply": "2021-09-05T11:40:46.139542Z",
     "shell.execute_reply.started": "2021-09-05T11:38:43.512433Z"
    },
    "papermill": {
     "duration": 0.037887,
     "end_time": "2021-09-05T11:40:46.140362",
     "exception": false,
     "start_time": "2021-09-05T11:40:46.102475",
     "status": "completed"
    },
    "tags": []
   },
   "outputs": [
    {
     "data": {
      "application/javascript": [
       "parent.postMessage({\"jupyterEvent\": \"custom.exercise_interaction\", \"data\": {\"outcomeType\": 1, \"valueTowardsCompletion\": 0.2, \"interactionType\": 1, \"questionType\": 2, \"questionId\": \"5.1_AllToppings\", \"learnToolsVersion\": \"0.3.4\", \"failureMessage\": \"\", \"exceptionClass\": \"\", \"trace\": \"\"}}, \"*\")"
      ],
      "text/plain": [
       "<IPython.core.display.Javascript object>"
      ]
     },
     "metadata": {},
     "output_type": "display_data"
    },
    {
     "data": {
      "text/markdown": [
       "<span style=\"color:#33cc33\">Correct</span>"
      ],
      "text/plain": [
       "Correct"
      ]
     },
     "metadata": {},
     "output_type": "display_data"
    }
   ],
   "source": [
    "def wants_all_toppings(ketchup, mustard, onion):\n",
    "    \"\"\"Return whether the customer wants \"the works\" (all 3 toppings)\n",
    "    \"\"\"\n",
    "    return ketchup and mustard and onion\n",
    "\n",
    "# Check your answer\n",
    "q5.a.check()"
   ]
  },
  {
   "cell_type": "code",
   "execution_count": 14,
   "id": "7ef350d7",
   "metadata": {
    "execution": {
     "iopub.execute_input": "2021-09-05T11:40:46.205450Z",
     "iopub.status.busy": "2021-09-05T11:40:46.204837Z",
     "iopub.status.idle": "2021-09-05T11:40:46.207615Z",
     "shell.execute_reply": "2021-09-05T11:40:46.207016Z"
    },
    "papermill": {
     "duration": 0.0375,
     "end_time": "2021-09-05T11:40:46.207872",
     "exception": false,
     "start_time": "2021-09-05T11:40:46.170372",
     "status": "completed"
    },
    "tags": []
   },
   "outputs": [],
   "source": [
    "#q5.a.hint()\n",
    "#q5.a.solution()"
   ]
  },
  {
   "cell_type": "markdown",
   "id": "c9fdf51b",
   "metadata": {
    "papermill": {
     "duration": 0.030931,
     "end_time": "2021-09-05T11:40:46.269681",
     "exception": false,
     "start_time": "2021-09-05T11:40:46.238750",
     "status": "completed"
    },
    "tags": []
   },
   "source": [
    "# 5b.\n",
    "\n",
    "For the next function, fill in the body to match the English description in the docstring. "
   ]
  },
  {
   "cell_type": "code",
   "execution_count": 15,
   "id": "59264e27",
   "metadata": {
    "execution": {
     "iopub.execute_input": "2021-09-05T11:40:46.332945Z",
     "iopub.status.busy": "2021-09-05T11:40:46.332025Z",
     "iopub.status.idle": "2021-09-05T11:40:46.339819Z",
     "shell.execute_reply": "2021-09-05T11:40:46.340364Z",
     "shell.execute_reply.started": "2021-09-05T11:39:13.067937Z"
    },
    "papermill": {
     "duration": 0.040321,
     "end_time": "2021-09-05T11:40:46.340533",
     "exception": false,
     "start_time": "2021-09-05T11:40:46.300212",
     "status": "completed"
    },
    "tags": []
   },
   "outputs": [
    {
     "data": {
      "application/javascript": [
       "parent.postMessage({\"jupyterEvent\": \"custom.exercise_interaction\", \"data\": {\"outcomeType\": 1, \"valueTowardsCompletion\": 0.2, \"interactionType\": 1, \"questionType\": 2, \"questionId\": \"5.2_PlainDog\", \"learnToolsVersion\": \"0.3.4\", \"failureMessage\": \"\", \"exceptionClass\": \"\", \"trace\": \"\"}}, \"*\")"
      ],
      "text/plain": [
       "<IPython.core.display.Javascript object>"
      ]
     },
     "metadata": {},
     "output_type": "display_data"
    },
    {
     "data": {
      "text/markdown": [
       "<span style=\"color:#33cc33\">Correct:</span> \n",
       "\n",
       "One solution looks like:\n",
       "```python\n",
       "return not ketchup and not mustard and not onion\n",
       "```\n",
       "\n",
       "We can also [\"factor out\" the nots](https://en.wikipedia.org/wiki/De_Morgan%27s_laws) to get:\n",
       "\n",
       "```python\n",
       "return not (ketchup or mustard or onion)\n",
       "```"
      ],
      "text/plain": [
       "Correct: \n",
       "\n",
       "One solution looks like:\n",
       "```python\n",
       "return not ketchup and not mustard and not onion\n",
       "```\n",
       "\n",
       "We can also [\"factor out\" the nots](https://en.wikipedia.org/wiki/De_Morgan%27s_laws) to get:\n",
       "\n",
       "```python\n",
       "return not (ketchup or mustard or onion)\n",
       "```"
      ]
     },
     "metadata": {},
     "output_type": "display_data"
    }
   ],
   "source": [
    "def wants_plain_hotdog(ketchup, mustard, onion):\n",
    "    \"\"\"Return whether the customer wants a plain hot dog with no toppings.\n",
    "    \"\"\"\n",
    "    return not (ketchup or mustard or onion)\n",
    "\n",
    "# Check your answer\n",
    "q5.b.check()"
   ]
  },
  {
   "cell_type": "code",
   "execution_count": 16,
   "id": "637d3ccd",
   "metadata": {
    "execution": {
     "iopub.execute_input": "2021-09-05T11:40:46.406563Z",
     "iopub.status.busy": "2021-09-05T11:40:46.405938Z",
     "iopub.status.idle": "2021-09-05T11:40:46.408518Z",
     "shell.execute_reply": "2021-09-05T11:40:46.408955Z"
    },
    "papermill": {
     "duration": 0.037763,
     "end_time": "2021-09-05T11:40:46.409127",
     "exception": false,
     "start_time": "2021-09-05T11:40:46.371364",
     "status": "completed"
    },
    "tags": []
   },
   "outputs": [],
   "source": [
    "#q5.b.hint()\n",
    "#q5.b.solution()"
   ]
  },
  {
   "cell_type": "markdown",
   "id": "06214841",
   "metadata": {
    "papermill": {
     "duration": 0.028494,
     "end_time": "2021-09-05T11:40:46.468373",
     "exception": false,
     "start_time": "2021-09-05T11:40:46.439879",
     "status": "completed"
    },
    "tags": []
   },
   "source": [
    "# 5c.\n",
    "\n",
    "You know what to do: for the next function, fill in the body to match the English description in the docstring."
   ]
  },
  {
   "cell_type": "code",
   "execution_count": 17,
   "id": "3b4a2932",
   "metadata": {
    "execution": {
     "iopub.execute_input": "2021-09-05T11:40:46.530838Z",
     "iopub.status.busy": "2021-09-05T11:40:46.530149Z",
     "iopub.status.idle": "2021-09-05T11:40:46.537969Z",
     "shell.execute_reply": "2021-09-05T11:40:46.537483Z",
     "shell.execute_reply.started": "2021-09-05T11:39:27.855119Z"
    },
    "papermill": {
     "duration": 0.04114,
     "end_time": "2021-09-05T11:40:46.538099",
     "exception": false,
     "start_time": "2021-09-05T11:40:46.496959",
     "status": "completed"
    },
    "tags": []
   },
   "outputs": [
    {
     "data": {
      "application/javascript": [
       "parent.postMessage({\"jupyterEvent\": \"custom.exercise_interaction\", \"data\": {\"outcomeType\": 1, \"valueTowardsCompletion\": 0.2, \"interactionType\": 1, \"questionType\": 2, \"questionId\": \"5.3_OneSauce\", \"learnToolsVersion\": \"0.3.4\", \"failureMessage\": \"\", \"exceptionClass\": \"\", \"trace\": \"\"}}, \"*\")"
      ],
      "text/plain": [
       "<IPython.core.display.Javascript object>"
      ]
     },
     "metadata": {},
     "output_type": "display_data"
    },
    {
     "data": {
      "text/markdown": [
       "<span style=\"color:#33cc33\">Correct</span>"
      ],
      "text/plain": [
       "Correct"
      ]
     },
     "metadata": {},
     "output_type": "display_data"
    }
   ],
   "source": [
    "def exactly_one_sauce(ketchup, mustard, onion):\n",
    "    \"\"\"Return whether the customer wants either ketchup or mustard, but not both.\n",
    "    (You may be familiar with this operation under the name \"exclusive or\")\n",
    "    \"\"\"\n",
    "    return (ketchup and not mustard) or (mustard and not ketchup)\n",
    "\n",
    "# Check your answer\n",
    "q5.c.check()"
   ]
  },
  {
   "cell_type": "code",
   "execution_count": 18,
   "id": "84ea0651",
   "metadata": {
    "execution": {
     "iopub.execute_input": "2021-09-05T11:40:46.603121Z",
     "iopub.status.busy": "2021-09-05T11:40:46.602500Z",
     "iopub.status.idle": "2021-09-05T11:40:46.605609Z",
     "shell.execute_reply": "2021-09-05T11:40:46.605011Z"
    },
    "papermill": {
     "duration": 0.036738,
     "end_time": "2021-09-05T11:40:46.605753",
     "exception": false,
     "start_time": "2021-09-05T11:40:46.569015",
     "status": "completed"
    },
    "tags": []
   },
   "outputs": [],
   "source": [
    "#q5.c.hint()\n",
    "#q5.c.solution()"
   ]
  },
  {
   "cell_type": "markdown",
   "id": "33d580ae",
   "metadata": {
    "papermill": {
     "duration": 0.030034,
     "end_time": "2021-09-05T11:40:46.666458",
     "exception": false,
     "start_time": "2021-09-05T11:40:46.636424",
     "status": "completed"
    },
    "tags": []
   },
   "source": [
    "# 6. <span title=\"A bit spicy\" style=\"color: darkgreen \">🌶️</span>\n",
    "\n",
    "We’ve seen that calling `bool()` on an integer returns `False` if it’s equal to 0 and `True` otherwise. What happens if we call `int()` on a bool? Try it out in the notebook cell below.\n",
    "\n",
    "Can you take advantage of this to write a succinct function that corresponds to the English sentence \"does the customer want exactly one topping?\"?"
   ]
  },
  {
   "cell_type": "code",
   "execution_count": 19,
   "id": "edc2bea1",
   "metadata": {
    "execution": {
     "iopub.execute_input": "2021-09-05T11:40:46.731425Z",
     "iopub.status.busy": "2021-09-05T11:40:46.730478Z",
     "iopub.status.idle": "2021-09-05T11:40:46.735930Z",
     "shell.execute_reply": "2021-09-05T11:40:46.736508Z",
     "shell.execute_reply.started": "2021-09-05T11:39:41.489176Z"
    },
    "papermill": {
     "duration": 0.040277,
     "end_time": "2021-09-05T11:40:46.736672",
     "exception": false,
     "start_time": "2021-09-05T11:40:46.696395",
     "status": "completed"
    },
    "tags": []
   },
   "outputs": [
    {
     "data": {
      "application/javascript": [
       "parent.postMessage({\"jupyterEvent\": \"custom.exercise_interaction\", \"data\": {\"outcomeType\": 1, \"valueTowardsCompletion\": 0.2, \"interactionType\": 1, \"questionType\": 2, \"questionId\": \"6_OneTopping\", \"learnToolsVersion\": \"0.3.4\", \"failureMessage\": \"\", \"exceptionClass\": \"\", \"trace\": \"\"}}, \"*\")"
      ],
      "text/plain": [
       "<IPython.core.display.Javascript object>"
      ]
     },
     "metadata": {},
     "output_type": "display_data"
    },
    {
     "data": {
      "text/markdown": [
       "<span style=\"color:#33cc33\">Correct:</span> \n",
       "\n",
       "This condition would be pretty complicated to express using just `and`, `or` and `not`, but using boolean-to-integer conversion gives us this short solution:\n",
       "```python\n",
       "return (int(ketchup) + int(mustard) + int(onion)) == 1\n",
       "```\n",
       "\n",
       "Fun fact: we don't technically need to call `int` on the arguments. Just by doing addition with booleans, Python implicitly does the integer conversion. So we could also write...\n",
       "\n",
       "```python\n",
       "return (ketchup + mustard + onion) == 1\n",
       "```"
      ],
      "text/plain": [
       "Correct: \n",
       "\n",
       "This condition would be pretty complicated to express using just `and`, `or` and `not`, but using boolean-to-integer conversion gives us this short solution:\n",
       "```python\n",
       "return (int(ketchup) + int(mustard) + int(onion)) == 1\n",
       "```\n",
       "\n",
       "Fun fact: we don't technically need to call `int` on the arguments. Just by doing addition with booleans, Python implicitly does the integer conversion. So we could also write...\n",
       "\n",
       "```python\n",
       "return (ketchup + mustard + onion) == 1\n",
       "```"
      ]
     },
     "metadata": {},
     "output_type": "display_data"
    }
   ],
   "source": [
    "def exactly_one_topping(ketchup, mustard, onion):\n",
    "    \"\"\"Return whether the customer wants exactly one of the three available toppings\n",
    "    on their hot dog.\n",
    "    \"\"\"\n",
    "    return (int(ketchup) + int(mustard) + int(onion)) == 1\n",
    "\n",
    "# Check your answer\n",
    "q6.check()"
   ]
  },
  {
   "cell_type": "code",
   "execution_count": 20,
   "id": "6b233bc4",
   "metadata": {
    "execution": {
     "iopub.execute_input": "2021-09-05T11:40:46.807149Z",
     "iopub.status.busy": "2021-09-05T11:40:46.806290Z",
     "iopub.status.idle": "2021-09-05T11:40:46.809501Z",
     "shell.execute_reply": "2021-09-05T11:40:46.810313Z"
    },
    "papermill": {
     "duration": 0.040284,
     "end_time": "2021-09-05T11:40:46.810525",
     "exception": false,
     "start_time": "2021-09-05T11:40:46.770241",
     "status": "completed"
    },
    "tags": []
   },
   "outputs": [],
   "source": [
    "#q6.hint()\n",
    "#q6.solution()"
   ]
  },
  {
   "cell_type": "markdown",
   "id": "65ceead7",
   "metadata": {
    "papermill": {
     "duration": 0.033463,
     "end_time": "2021-09-05T11:40:46.878060",
     "exception": false,
     "start_time": "2021-09-05T11:40:46.844597",
     "status": "completed"
    },
    "tags": []
   },
   "source": [
    "# 7. <span title=\"A bit spicy\" style=\"color: darkgreen \">🌶️</span> (Optional)\n",
    "\n",
    "In this problem we'll be working with a simplified version of [blackjack](https://en.wikipedia.org/wiki/Blackjack) (aka twenty-one). In this version there is one player (who you'll control) and a dealer. Play proceeds as follows:\n",
    "\n",
    "- The player is dealt two face-up cards. The dealer is dealt one face-up card.\n",
    "- The player may ask to be dealt another card ('hit') as many times as they wish. If the sum of their cards exceeds 21, they lose the round immediately.\n",
    "- The dealer then deals additional cards to himself until either:\n",
    "    - the sum of the dealer's cards exceeds 21, in which case the player wins the round\n",
    "    - the sum of the dealer's cards is greater than or equal to 17. If the player's total is greater than the dealer's, the player wins. Otherwise, the dealer wins (even in case of a tie).\n",
    "    \n",
    "When calculating the sum of cards, Jack, Queen, and King count for 10. Aces can count as 1 or 11 (when referring to a player's \"total\" above, we mean the largest total that can be made without exceeding 21. So e.g. A+8 = 19, A+8+8 = 17)\n",
    "\n",
    "For this problem, you'll write a function representing the player's decision-making strategy in this game. We've provided a very unintelligent implementation below:"
   ]
  },
  {
   "cell_type": "code",
   "execution_count": 21,
   "id": "6ec488c9",
   "metadata": {
    "execution": {
     "iopub.execute_input": "2021-09-05T11:40:46.950079Z",
     "iopub.status.busy": "2021-09-05T11:40:46.948975Z",
     "iopub.status.idle": "2021-09-05T11:40:46.952935Z",
     "shell.execute_reply": "2021-09-05T11:40:46.953385Z",
     "shell.execute_reply.started": "2021-09-05T11:40:01.029838Z"
    },
    "papermill": {
     "duration": 0.042051,
     "end_time": "2021-09-05T11:40:46.953558",
     "exception": false,
     "start_time": "2021-09-05T11:40:46.911507",
     "status": "completed"
    },
    "tags": []
   },
   "outputs": [],
   "source": [
    "\n",
    "def should_hit(dealer_total, player_total, player_low_aces, player_high_aces):\n",
    "    \"\"\"Return True if the player should hit (request another card) given the current game\n",
    "    state, or False if the player should stay.\n",
    "    When calculating a hand's total value, we count aces as \"high\" (with value 11) if doing so\n",
    "    doesn't bring the total above 21, otherwise we count them as low (with value 1). \n",
    "    For example, if the player's hand is {A, A, A, 7}, we will count it as 11 + 1 + 1 + 7,\n",
    "    and therefore set player_total=20, player_low_aces=2, player_high_aces=1.\n",
    "    \"\"\"\n",
    "    return False"
   ]
  },
  {
   "cell_type": "markdown",
   "id": "9a9ec9d9",
   "metadata": {
    "papermill": {
     "duration": 0.032659,
     "end_time": "2021-09-05T11:40:47.020011",
     "exception": false,
     "start_time": "2021-09-05T11:40:46.987352",
     "status": "completed"
    },
    "tags": []
   },
   "source": [
    "This very conservative agent *always* sticks with the hand of two cards that they're dealt.\n",
    "\n",
    "We'll be simulating games between your player agent and our own dealer agent by calling your function.\n",
    "\n",
    "Try running the function below to see an example of a simulated game:"
   ]
  },
  {
   "cell_type": "code",
   "execution_count": 22,
   "id": "de38eb08",
   "metadata": {
    "execution": {
     "iopub.execute_input": "2021-09-05T11:40:47.083604Z",
     "iopub.status.busy": "2021-09-05T11:40:47.082668Z",
     "iopub.status.idle": "2021-09-05T11:40:47.089034Z",
     "shell.execute_reply": "2021-09-05T11:40:47.089531Z",
     "shell.execute_reply.started": "2021-09-05T11:40:10.715261Z"
    },
    "papermill": {
     "duration": 0.039622,
     "end_time": "2021-09-05T11:40:47.089700",
     "exception": false,
     "start_time": "2021-09-05T11:40:47.050078",
     "status": "completed"
    },
    "tags": []
   },
   "outputs": [
    {
     "name": "stdout",
     "output_type": "stream",
     "text": [
      "Player starts with 9 and 5 (total = 14)\n",
      "Dealer starts with J\n",
      "\n",
      "__Player's turn__\n",
      "Player stays\n",
      "\n",
      "__Dealer's turn__\n",
      "Dealer hits and receives 2. (total = 12)\n",
      "Dealer hits and receives Q. (total = 22)\n",
      "Dealer busts! Player wins.\n"
     ]
    }
   ],
   "source": [
    "q7.simulate_one_game()"
   ]
  },
  {
   "cell_type": "markdown",
   "id": "150683df",
   "metadata": {
    "papermill": {
     "duration": 0.032521,
     "end_time": "2021-09-05T11:40:47.153863",
     "exception": false,
     "start_time": "2021-09-05T11:40:47.121342",
     "status": "completed"
    },
    "tags": []
   },
   "source": [
    "The real test of your agent's mettle is their average win rate over many games. Try calling the function below to simulate 50000 games of blackjack (it may take a couple seconds):"
   ]
  },
  {
   "cell_type": "code",
   "execution_count": 23,
   "id": "cd180a00",
   "metadata": {
    "execution": {
     "iopub.execute_input": "2021-09-05T11:40:47.219613Z",
     "iopub.status.busy": "2021-09-05T11:40:47.218994Z",
     "iopub.status.idle": "2021-09-05T11:40:48.546881Z",
     "shell.execute_reply": "2021-09-05T11:40:48.546360Z",
     "shell.execute_reply.started": "2021-09-05T11:40:16.084793Z"
    },
    "papermill": {
     "duration": 1.360993,
     "end_time": "2021-09-05T11:40:48.547011",
     "exception": false,
     "start_time": "2021-09-05T11:40:47.186018",
     "status": "completed"
    },
    "tags": []
   },
   "outputs": [
    {
     "name": "stdout",
     "output_type": "stream",
     "text": [
      "Player won 18902 out of 50000 games (win rate = 37.8%)\n"
     ]
    }
   ],
   "source": [
    "q7.simulate(n_games=50000)"
   ]
  },
  {
   "cell_type": "markdown",
   "id": "27cdeea0",
   "metadata": {
    "papermill": {
     "duration": 0.030211,
     "end_time": "2021-09-05T11:40:48.607912",
     "exception": false,
     "start_time": "2021-09-05T11:40:48.577701",
     "status": "completed"
    },
    "tags": []
   },
   "source": [
    "Our dumb agent that completely ignores the game state still manages to win shockingly often!\n",
    "\n",
    "Try adding some more smarts to the `should_hit` function and see how it affects the results."
   ]
  },
  {
   "cell_type": "code",
   "execution_count": 24,
   "id": "b803d2b0",
   "metadata": {
    "execution": {
     "iopub.execute_input": "2021-09-05T11:40:48.682067Z",
     "iopub.status.busy": "2021-09-05T11:40:48.677112Z",
     "iopub.status.idle": "2021-09-05T11:40:50.001947Z",
     "shell.execute_reply": "2021-09-05T11:40:50.002761Z",
     "shell.execute_reply.started": "2021-09-05T11:40:20.274797Z"
    },
    "papermill": {
     "duration": 1.364437,
     "end_time": "2021-09-05T11:40:50.003020",
     "exception": false,
     "start_time": "2021-09-05T11:40:48.638583",
     "status": "completed"
    },
    "tags": []
   },
   "outputs": [
    {
     "name": "stdout",
     "output_type": "stream",
     "text": [
      "Player won 19058 out of 50000 games (win rate = 38.1%)\n"
     ]
    }
   ],
   "source": [
    "def should_hit(dealer_total, player_total, player_low_aces, player_high_aces):\n",
    "    \"\"\"Return True if the player should hit (request another card) given the current game\n",
    "    state, or False if the player should stay.\n",
    "    When calculating a hand's total value, we count aces as \"high\" (with value 11) if doing so\n",
    "    doesn't bring the total above 21, otherwise we count them as low (with value 1). \n",
    "    For example, if the player's hand is {A, A, A, 7}, we will count it as 11 + 1 + 1 + 7,\n",
    "    and therefore set player_total=20, player_low_aces=2, player_high_aces=1.\n",
    "    \"\"\"\n",
    "    return False\n",
    "\n",
    "q7.simulate(n_games=50000)"
   ]
  },
  {
   "cell_type": "markdown",
   "id": "52ca3f9b",
   "metadata": {
    "papermill": {
     "duration": 0.031276,
     "end_time": "2021-09-05T11:40:50.067630",
     "exception": false,
     "start_time": "2021-09-05T11:40:50.036354",
     "status": "completed"
    },
    "tags": []
   },
   "source": [
    "# Keep Going\n",
    "\n",
    "Learn about **[lists and tuples](https://www.kaggle.com/colinmorris/lists)** to handle multiple items of data in a systematic way."
   ]
  },
  {
   "cell_type": "markdown",
   "id": "78d03b13",
   "metadata": {
    "papermill": {
     "duration": 0.031446,
     "end_time": "2021-09-05T11:40:50.131215",
     "exception": false,
     "start_time": "2021-09-05T11:40:50.099769",
     "status": "completed"
    },
    "tags": []
   },
   "source": [
    "---\n",
    "\n",
    "\n",
    "\n",
    "\n",
    "*Have questions or comments? Visit the [Learn Discussion forum](https://www.kaggle.com/learn-forum/161283) to chat with other Learners.*"
   ]
  }
 ],
 "metadata": {
  "kernelspec": {
   "display_name": "Python 3",
   "language": "python",
   "name": "python3"
  },
  "language_info": {
   "codemirror_mode": {
    "name": "ipython",
    "version": 3
   },
   "file_extension": ".py",
   "mimetype": "text/x-python",
   "name": "python",
   "nbconvert_exporter": "python",
   "pygments_lexer": "ipython3",
   "version": "3.7.10"
  },
  "papermill": {
   "default_parameters": {},
   "duration": 12.65714,
   "end_time": "2021-09-05T11:40:50.773110",
   "environment_variables": {},
   "exception": null,
   "input_path": "__notebook__.ipynb",
   "output_path": "__notebook__.ipynb",
   "parameters": {},
   "start_time": "2021-09-05T11:40:38.115970",
   "version": "2.3.3"
  }
 },
 "nbformat": 4,
 "nbformat_minor": 5
}
