{
 "cells": [
  {
   "cell_type": "markdown",
   "id": "e002b739",
   "metadata": {
    "papermill": {
     "duration": 0.014815,
     "end_time": "2021-09-05T12:56:01.566965",
     "exception": false,
     "start_time": "2021-09-05T12:56:01.552150",
     "status": "completed"
    },
    "tags": []
   },
   "source": [
    "**This notebook is an exercise in the [Python](https://www.kaggle.com/learn/python) course.  You can reference the tutorial at [this link](https://www.kaggle.com/colinmorris/lists).**\n",
    "\n",
    "---\n"
   ]
  },
  {
   "cell_type": "markdown",
   "id": "d3a2acd6",
   "metadata": {
    "papermill": {
     "duration": 0.013382,
     "end_time": "2021-09-05T12:56:01.594605",
     "exception": false,
     "start_time": "2021-09-05T12:56:01.581223",
     "status": "completed"
    },
    "tags": []
   },
   "source": [
    "Things get more interesting with lists. You'll apply your new knowledge to solve the questions below. Remember to run the following cell first."
   ]
  },
  {
   "cell_type": "code",
   "execution_count": 1,
   "id": "9456fbc4",
   "metadata": {
    "execution": {
     "iopub.execute_input": "2021-09-05T12:56:01.636429Z",
     "iopub.status.busy": "2021-09-05T12:56:01.633081Z",
     "iopub.status.idle": "2021-09-05T12:56:01.772485Z",
     "shell.execute_reply": "2021-09-05T12:56:01.771824Z",
     "shell.execute_reply.started": "2021-09-05T12:48:11.853837Z"
    },
    "papermill": {
     "duration": 0.164237,
     "end_time": "2021-09-05T12:56:01.772644",
     "exception": false,
     "start_time": "2021-09-05T12:56:01.608407",
     "status": "completed"
    },
    "tags": []
   },
   "outputs": [
    {
     "name": "stdout",
     "output_type": "stream",
     "text": [
      "Setup complete.\n"
     ]
    }
   ],
   "source": [
    "from learntools.core import binder; binder.bind(globals())\n",
    "from learntools.python.ex4 import *\n",
    "print('Setup complete.')"
   ]
  },
  {
   "cell_type": "markdown",
   "id": "20e2d7fd",
   "metadata": {
    "papermill": {
     "duration": 0.013661,
     "end_time": "2021-09-05T12:56:01.800807",
     "exception": false,
     "start_time": "2021-09-05T12:56:01.787146",
     "status": "completed"
    },
    "tags": []
   },
   "source": [
    "# 1.\n",
    "\n",
    "Complete the function below according to its docstring."
   ]
  },
  {
   "cell_type": "code",
   "execution_count": 2,
   "id": "6acf6cf6",
   "metadata": {
    "execution": {
     "iopub.execute_input": "2021-09-05T12:56:01.837402Z",
     "iopub.status.busy": "2021-09-05T12:56:01.836720Z",
     "iopub.status.idle": "2021-09-05T12:56:01.842250Z",
     "shell.execute_reply": "2021-09-05T12:56:01.841653Z",
     "shell.execute_reply.started": "2021-09-05T12:49:51.179751Z"
    },
    "papermill": {
     "duration": 0.027419,
     "end_time": "2021-09-05T12:56:01.842407",
     "exception": false,
     "start_time": "2021-09-05T12:56:01.814988",
     "status": "completed"
    },
    "tags": []
   },
   "outputs": [
    {
     "data": {
      "application/javascript": [
       "parent.postMessage({\"jupyterEvent\": \"custom.exercise_interaction\", \"data\": {\"outcomeType\": 1, \"valueTowardsCompletion\": 0.2, \"interactionType\": 1, \"questionType\": 2, \"questionId\": \"1_SelectSecondItem\", \"learnToolsVersion\": \"0.3.4\", \"failureMessage\": \"\", \"exceptionClass\": \"\", \"trace\": \"\"}}, \"*\")"
      ],
      "text/plain": [
       "<IPython.core.display.Javascript object>"
      ]
     },
     "metadata": {},
     "output_type": "display_data"
    },
    {
     "data": {
      "text/markdown": [
       "<span style=\"color:#33cc33\">Correct</span>"
      ],
      "text/plain": [
       "Correct"
      ]
     },
     "metadata": {},
     "output_type": "display_data"
    }
   ],
   "source": [
    "def select_second(L):\n",
    "    \"\"\"Return the second element of the given list. If the list has no second\n",
    "    element, return None.\n",
    "    \"\"\"\n",
    "    if len(L) < 2:\n",
    "        return None\n",
    "    return L[1]\n",
    "\n",
    "# Check your answer\n",
    "q1.check()"
   ]
  },
  {
   "cell_type": "code",
   "execution_count": 3,
   "id": "70cda232",
   "metadata": {
    "collapsed": true,
    "execution": {
     "iopub.execute_input": "2021-09-05T12:56:01.877069Z",
     "iopub.status.busy": "2021-09-05T12:56:01.876419Z",
     "iopub.status.idle": "2021-09-05T12:56:01.879904Z",
     "shell.execute_reply": "2021-09-05T12:56:01.879311Z"
    },
    "jupyter": {
     "outputs_hidden": true
    },
    "papermill": {
     "duration": 0.022431,
     "end_time": "2021-09-05T12:56:01.880059",
     "exception": false,
     "start_time": "2021-09-05T12:56:01.857628",
     "status": "completed"
    },
    "tags": []
   },
   "outputs": [],
   "source": [
    "#q1.hint()\n",
    "#q1.solution()"
   ]
  },
  {
   "cell_type": "markdown",
   "id": "a7ba8da0",
   "metadata": {
    "papermill": {
     "duration": 0.01487,
     "end_time": "2021-09-05T12:56:01.910313",
     "exception": false,
     "start_time": "2021-09-05T12:56:01.895443",
     "status": "completed"
    },
    "tags": []
   },
   "source": [
    "# 2.\n",
    "\n",
    "You are analyzing sports teams.  Members of each team are stored in a list. The Coach is the first name in the list, the captain is the second name in the list, and other players are listed after that. \n",
    "These lists are stored in another list, which starts with the best team and proceeds through the list to the worst team last.  Complete the function below to select the **captain** of the worst team."
   ]
  },
  {
   "cell_type": "code",
   "execution_count": 4,
   "id": "fffe4362",
   "metadata": {
    "execution": {
     "iopub.execute_input": "2021-09-05T12:56:01.949949Z",
     "iopub.status.busy": "2021-09-05T12:56:01.949187Z",
     "iopub.status.idle": "2021-09-05T12:56:01.957731Z",
     "shell.execute_reply": "2021-09-05T12:56:01.956897Z",
     "shell.execute_reply.started": "2021-09-05T12:50:50.239180Z"
    },
    "papermill": {
     "duration": 0.032333,
     "end_time": "2021-09-05T12:56:01.957956",
     "exception": false,
     "start_time": "2021-09-05T12:56:01.925623",
     "status": "completed"
    },
    "tags": []
   },
   "outputs": [
    {
     "data": {
      "application/javascript": [
       "parent.postMessage({\"jupyterEvent\": \"custom.exercise_interaction\", \"data\": {\"outcomeType\": 1, \"valueTowardsCompletion\": 0.2, \"interactionType\": 1, \"questionType\": 2, \"questionId\": \"2_LosingTeamCaptain\", \"learnToolsVersion\": \"0.3.4\", \"failureMessage\": \"\", \"exceptionClass\": \"\", \"trace\": \"\"}}, \"*\")"
      ],
      "text/plain": [
       "<IPython.core.display.Javascript object>"
      ]
     },
     "metadata": {},
     "output_type": "display_data"
    },
    {
     "data": {
      "text/markdown": [
       "<span style=\"color:#33cc33\">Correct</span>"
      ],
      "text/plain": [
       "Correct"
      ]
     },
     "metadata": {},
     "output_type": "display_data"
    }
   ],
   "source": [
    "\n",
    "def losing_team_captain(teams):\n",
    "    \"\"\"Given a list of teams, where each team is a list of names, return the 2nd player (captain)\n",
    "    from the last listed team\n",
    "    \"\"\"\n",
    "    return teams[-1][1]\n",
    "\n",
    "# Check your answer\n",
    "q2.check()"
   ]
  },
  {
   "cell_type": "code",
   "execution_count": 5,
   "id": "5e755648",
   "metadata": {
    "collapsed": true,
    "execution": {
     "iopub.execute_input": "2021-09-05T12:56:02.007851Z",
     "iopub.status.busy": "2021-09-05T12:56:02.007129Z",
     "iopub.status.idle": "2021-09-05T12:56:02.009834Z",
     "shell.execute_reply": "2021-09-05T12:56:02.010414Z"
    },
    "jupyter": {
     "outputs_hidden": true
    },
    "papermill": {
     "duration": 0.027173,
     "end_time": "2021-09-05T12:56:02.010595",
     "exception": false,
     "start_time": "2021-09-05T12:56:01.983422",
     "status": "completed"
    },
    "tags": []
   },
   "outputs": [],
   "source": [
    "#q2.hint()\n",
    "#q2.solution()"
   ]
  },
  {
   "cell_type": "markdown",
   "id": "130ba2bc",
   "metadata": {
    "papermill": {
     "duration": 0.017329,
     "end_time": "2021-09-05T12:56:02.045246",
     "exception": false,
     "start_time": "2021-09-05T12:56:02.027917",
     "status": "completed"
    },
    "tags": []
   },
   "source": [
    "# 3.\n",
    "\n",
    "The next iteration of Mario Kart will feature an extra-infuriating new item, the *Purple Shell*. When used, it warps the last place racer into first place and the first place racer into last place. Complete the function below to implement the Purple Shell's effect."
   ]
  },
  {
   "cell_type": "code",
   "execution_count": 6,
   "id": "e5ec7959",
   "metadata": {
    "execution": {
     "iopub.execute_input": "2021-09-05T12:56:02.089244Z",
     "iopub.status.busy": "2021-09-05T12:56:02.088553Z",
     "iopub.status.idle": "2021-09-05T12:56:02.094045Z",
     "shell.execute_reply": "2021-09-05T12:56:02.094681Z",
     "shell.execute_reply.started": "2021-09-05T12:52:30.564876Z"
    },
    "papermill": {
     "duration": 0.032879,
     "end_time": "2021-09-05T12:56:02.094871",
     "exception": false,
     "start_time": "2021-09-05T12:56:02.061992",
     "status": "completed"
    },
    "tags": []
   },
   "outputs": [
    {
     "data": {
      "application/javascript": [
       "parent.postMessage({\"jupyterEvent\": \"custom.exercise_interaction\", \"data\": {\"outcomeType\": 1, \"valueTowardsCompletion\": 0.2, \"interactionType\": 1, \"questionType\": 2, \"questionId\": \"3_PurpleShell\", \"learnToolsVersion\": \"0.3.4\", \"failureMessage\": \"\", \"exceptionClass\": \"\", \"trace\": \"\"}}, \"*\")"
      ],
      "text/plain": [
       "<IPython.core.display.Javascript object>"
      ]
     },
     "metadata": {},
     "output_type": "display_data"
    },
    {
     "data": {
      "text/markdown": [
       "<span style=\"color:#33cc33\">Correct</span>"
      ],
      "text/plain": [
       "Correct"
      ]
     },
     "metadata": {},
     "output_type": "display_data"
    }
   ],
   "source": [
    "def purple_shell(racers):\n",
    "    \"\"\"Given a list of racers, set the first place racer (at the front of the list) to last\n",
    "    place and vice versa.\n",
    "    \n",
    "    >>> r = [\"Mario\", \"Bowser\", \"Luigi\"]\n",
    "    >>> purple_shell(r)\n",
    "    >>> r\n",
    "    [\"Luigi\", \"Bowser\", \"Mario\"]\n",
    "    \"\"\"\n",
    "    # One slick way to do the swap is x[0], x[-1] = x[-1], x[0].\n",
    "    temp = racers[0]\n",
    "    racers[0] = racers[-1]\n",
    "    racers[-1] = temp\n",
    "\n",
    "# Check your answer\n",
    "q3.check()"
   ]
  },
  {
   "cell_type": "code",
   "execution_count": 7,
   "id": "c04c7343",
   "metadata": {
    "collapsed": true,
    "execution": {
     "iopub.execute_input": "2021-09-05T12:56:02.133852Z",
     "iopub.status.busy": "2021-09-05T12:56:02.133163Z",
     "iopub.status.idle": "2021-09-05T12:56:02.136583Z",
     "shell.execute_reply": "2021-09-05T12:56:02.137063Z"
    },
    "jupyter": {
     "outputs_hidden": true
    },
    "papermill": {
     "duration": 0.024082,
     "end_time": "2021-09-05T12:56:02.137230",
     "exception": false,
     "start_time": "2021-09-05T12:56:02.113148",
     "status": "completed"
    },
    "tags": []
   },
   "outputs": [],
   "source": [
    "#q3.hint()\n",
    "#q3.solution()"
   ]
  },
  {
   "cell_type": "markdown",
   "id": "78a0a556",
   "metadata": {
    "papermill": {
     "duration": 0.01723,
     "end_time": "2021-09-05T12:56:02.172100",
     "exception": false,
     "start_time": "2021-09-05T12:56:02.154870",
     "status": "completed"
    },
    "tags": []
   },
   "source": [
    "# 4.\n",
    "\n",
    "What are the lengths of the following lists? Fill in the variable `lengths` with your predictions. (Try to make a prediction for each list *without* just calling `len()` on it.)"
   ]
  },
  {
   "cell_type": "code",
   "execution_count": 8,
   "id": "43299f84",
   "metadata": {
    "execution": {
     "iopub.execute_input": "2021-09-05T12:56:02.214497Z",
     "iopub.status.busy": "2021-09-05T12:56:02.213798Z",
     "iopub.status.idle": "2021-09-05T12:56:02.218646Z",
     "shell.execute_reply": "2021-09-05T12:56:02.219153Z",
     "shell.execute_reply.started": "2021-09-05T12:52:54.253467Z"
    },
    "papermill": {
     "duration": 0.029592,
     "end_time": "2021-09-05T12:56:02.219332",
     "exception": false,
     "start_time": "2021-09-05T12:56:02.189740",
     "status": "completed"
    },
    "tags": []
   },
   "outputs": [
    {
     "data": {
      "application/javascript": [
       "parent.postMessage({\"jupyterEvent\": \"custom.exercise_interaction\", \"data\": {\"outcomeType\": 1, \"valueTowardsCompletion\": 0.2, \"interactionType\": 1, \"questionType\": 1, \"questionId\": \"4_UnderstandLen\", \"learnToolsVersion\": \"0.3.4\", \"failureMessage\": \"\", \"exceptionClass\": \"\", \"trace\": \"\"}}, \"*\")"
      ],
      "text/plain": [
       "<IPython.core.display.Javascript object>"
      ]
     },
     "metadata": {},
     "output_type": "display_data"
    },
    {
     "data": {
      "text/markdown": [
       "<span style=\"color:#33cc33\">Correct:</span> \n",
       "\n",
       "\n",
       "- a: There are three items in this list. Nothing tricky yet.\n",
       "- b: The list `[2, 3]` counts as a single item. It has one item before it. So we have 2 items in the list\n",
       "- c: The empty list has 0 items\n",
       "- d: The expression is the same as the list `[2, 3]`, which has length 2."
      ],
      "text/plain": [
       "Correct: \n",
       "\n",
       "\n",
       "- a: There are three items in this list. Nothing tricky yet.\n",
       "- b: The list `[2, 3]` counts as a single item. It has one item before it. So we have 2 items in the list\n",
       "- c: The empty list has 0 items\n",
       "- d: The expression is the same as the list `[2, 3]`, which has length 2."
      ]
     },
     "metadata": {},
     "output_type": "display_data"
    }
   ],
   "source": [
    "a = [1, 2, 3]\n",
    "b = [1, [2, 3]]\n",
    "c = []\n",
    "d = [1, 2, 3][1:]\n",
    "\n",
    "# Put your predictions in the list below. Lengths should contain 4 numbers, the\n",
    "# first being the length of a, the second being the length of b and so on.\n",
    "lengths = [3,2,0,2]\n",
    "\n",
    "# Check your answer\n",
    "q4.check()"
   ]
  },
  {
   "cell_type": "code",
   "execution_count": 9,
   "id": "da7a2c88",
   "metadata": {
    "collapsed": true,
    "execution": {
     "iopub.execute_input": "2021-09-05T12:56:02.259961Z",
     "iopub.status.busy": "2021-09-05T12:56:02.259370Z",
     "iopub.status.idle": "2021-09-05T12:56:02.263257Z",
     "shell.execute_reply": "2021-09-05T12:56:02.262751Z"
    },
    "jupyter": {
     "outputs_hidden": true
    },
    "papermill": {
     "duration": 0.024854,
     "end_time": "2021-09-05T12:56:02.263426",
     "exception": false,
     "start_time": "2021-09-05T12:56:02.238572",
     "status": "completed"
    },
    "tags": []
   },
   "outputs": [],
   "source": [
    "# line below provides some explanation\n",
    "#q4.solution()"
   ]
  },
  {
   "cell_type": "markdown",
   "id": "9690c124",
   "metadata": {
    "papermill": {
     "duration": 0.018371,
     "end_time": "2021-09-05T12:56:02.301460",
     "exception": false,
     "start_time": "2021-09-05T12:56:02.283089",
     "status": "completed"
    },
    "tags": []
   },
   "source": [
    "# 5. <span title=\"A bit spicy\" style=\"color: darkgreen \">🌶️</span>\n",
    "\n",
    "We're using lists to record people who attended our party and what order they arrived in. For example, the following list represents a party with 7 guests, in which Adela showed up first and Ford was the last to arrive:\n",
    "\n",
    "    party_attendees = ['Adela', 'Fleda', 'Owen', 'May', 'Mona', 'Gilbert', 'Ford']\n",
    "\n",
    "A guest is considered 'fashionably late' if they arrived after at least half of the party's guests. However, they must not be the very last guest (that's taking it too far). In the above example, Mona and Gilbert are the only guests who were fashionably late.\n",
    "\n",
    "Complete the function below which takes a list of party attendees as well as a person, and tells us whether that person is fashionably late."
   ]
  },
  {
   "cell_type": "code",
   "execution_count": 10,
   "id": "e97aeb85",
   "metadata": {
    "execution": {
     "iopub.execute_input": "2021-09-05T12:56:02.349433Z",
     "iopub.status.busy": "2021-09-05T12:56:02.348397Z",
     "iopub.status.idle": "2021-09-05T12:56:02.354378Z",
     "shell.execute_reply": "2021-09-05T12:56:02.355202Z",
     "shell.execute_reply.started": "2021-09-05T12:55:22.921336Z"
    },
    "papermill": {
     "duration": 0.035377,
     "end_time": "2021-09-05T12:56:02.355458",
     "exception": false,
     "start_time": "2021-09-05T12:56:02.320081",
     "status": "completed"
    },
    "tags": []
   },
   "outputs": [
    {
     "data": {
      "application/javascript": [
       "parent.postMessage({\"jupyterEvent\": \"custom.exercise_interaction\", \"data\": {\"outcomeType\": 1, \"valueTowardsCompletion\": 0.2, \"interactionType\": 1, \"questionType\": 2, \"questionId\": \"5_FashionablyLate\", \"learnToolsVersion\": \"0.3.4\", \"failureMessage\": \"\", \"exceptionClass\": \"\", \"trace\": \"\"}}, \"*\")"
      ],
      "text/plain": [
       "<IPython.core.display.Javascript object>"
      ]
     },
     "metadata": {},
     "output_type": "display_data"
    },
    {
     "data": {
      "text/markdown": [
       "<span style=\"color:#33cc33\">Correct</span>"
      ],
      "text/plain": [
       "Correct"
      ]
     },
     "metadata": {},
     "output_type": "display_data"
    }
   ],
   "source": [
    "\n",
    "def fashionably_late(arrivals, name):\n",
    "    \"\"\"Given an ordered list of arrivals to the party and a name, return whether the guest with that\n",
    "    name was fashionably late.\n",
    "    \"\"\"\n",
    "    order = arrivals.index(name)\n",
    "    return order >= len(arrivals) / 2 and order != len(arrivals) - 1\n",
    "\n",
    "# Check your answer\n",
    "q5.check()"
   ]
  },
  {
   "cell_type": "code",
   "execution_count": 11,
   "id": "bad015ff",
   "metadata": {
    "collapsed": true,
    "execution": {
     "iopub.execute_input": "2021-09-05T12:56:02.403783Z",
     "iopub.status.busy": "2021-09-05T12:56:02.403126Z",
     "iopub.status.idle": "2021-09-05T12:56:02.407902Z",
     "shell.execute_reply": "2021-09-05T12:56:02.407336Z"
    },
    "jupyter": {
     "outputs_hidden": true
    },
    "papermill": {
     "duration": 0.030767,
     "end_time": "2021-09-05T12:56:02.408053",
     "exception": false,
     "start_time": "2021-09-05T12:56:02.377286",
     "status": "completed"
    },
    "tags": []
   },
   "outputs": [],
   "source": [
    "#q5.hint()\n",
    "#q5.solution()"
   ]
  },
  {
   "cell_type": "markdown",
   "id": "5b1dd088",
   "metadata": {
    "papermill": {
     "duration": 0.022007,
     "end_time": "2021-09-05T12:56:02.449874",
     "exception": false,
     "start_time": "2021-09-05T12:56:02.427867",
     "status": "completed"
    },
    "tags": []
   },
   "source": [
    "# Keep Going\n",
    "\n",
    "That's it for lists and tuples! Now you have the baseline knowledge to **[learn about loops](https://www.kaggle.com/colinmorris/loops-and-list-comprehensions)**, which is where lists and tuples get really interesting. "
   ]
  },
  {
   "cell_type": "markdown",
   "id": "d8bedee1",
   "metadata": {
    "papermill": {
     "duration": 0.0192,
     "end_time": "2021-09-05T12:56:02.488668",
     "exception": false,
     "start_time": "2021-09-05T12:56:02.469468",
     "status": "completed"
    },
    "tags": []
   },
   "source": [
    "---\n",
    "\n",
    "\n",
    "\n",
    "\n",
    "*Have questions or comments? Visit the [Learn Discussion forum](https://www.kaggle.com/learn-forum/161283) to chat with other Learners.*"
   ]
  }
 ],
 "metadata": {
  "kernelspec": {
   "display_name": "Python 3",
   "language": "python",
   "name": "python3"
  },
  "language_info": {
   "codemirror_mode": {
    "name": "ipython",
    "version": 3
   },
   "file_extension": ".py",
   "mimetype": "text/x-python",
   "name": "python",
   "nbconvert_exporter": "python",
   "pygments_lexer": "ipython3",
   "version": "3.7.10"
  },
  "papermill": {
   "default_parameters": {},
   "duration": 9.464765,
   "end_time": "2021-09-05T12:56:03.117931",
   "environment_variables": {},
   "exception": null,
   "input_path": "__notebook__.ipynb",
   "output_path": "__notebook__.ipynb",
   "parameters": {},
   "start_time": "2021-09-05T12:55:53.653166",
   "version": "2.3.3"
  }
 },
 "nbformat": 4,
 "nbformat_minor": 5
}
